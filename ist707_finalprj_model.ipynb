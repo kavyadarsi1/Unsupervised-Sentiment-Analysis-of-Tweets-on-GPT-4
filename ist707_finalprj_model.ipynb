{
  "nbformat": 4,
  "nbformat_minor": 0,
  "metadata": {
    "colab": {
      "provenance": []
    },
    "kernelspec": {
      "name": "python3",
      "display_name": "Python 3"
    },
    "language_info": {
      "name": "python"
    }
  },
  "cells": [
    {
      "cell_type": "code",
      "execution_count": 2,
      "metadata": {
        "id": "1gaEfKGIOgFC"
      },
      "outputs": [],
      "source": [
        "import pandas as pd\n",
        "import numpy as np\n",
        "import spacy\n",
        "import datetime as dt\n",
        "import matplotlib.pyplot as plt\n",
        "from matplotlib import pyplot as plt\n",
        "from matplotlib import rcParams\n",
        "import seaborn as sns\n",
        "import re\n",
        "from wordcloud import WordCloud\n",
        "import itertools\n",
        "import collections\n",
        "import nltk\n",
        "import string\n",
        "from nltk import FreqDist\n",
        "from sklearn.feature_extraction.text import CountVectorizer\n",
        "from nltk.util import ngrams\n",
        "from nltk.sentiment.vader import SentimentIntensityAnalyzer\n",
        "import gensim\n",
        "import multiprocessing\n",
        "from gensim.models import Word2Vec\n",
        "from multiprocessing import Process\n",
        "from gensim.models.phrases import Phrases, ENGLISH_CONNECTOR_WORDS\n",
        "import sklearn\n",
        "from sklearn.cluster import KMeans"
      ]
    },
    {
      "cell_type": "markdown",
      "source": [
        "###Data Import"
      ],
      "metadata": {
        "id": "5peGYi_MmPS7"
      }
    },
    {
      "cell_type": "code",
      "source": [
        "# import the data\n",
        "tweets = pd.read_csv('tweets.csv')\n",
        "#tweets = pd.read_csv('tweetsGPT4sentiments.csv')"
      ],
      "metadata": {
        "id": "KD2ymD2WseX7"
      },
      "execution_count": null,
      "outputs": []
    },
    {
      "cell_type": "code",
      "source": [
        "tweets.head()"
      ],
      "metadata": {
        "colab": {
          "base_uri": "https://localhost:8080/",
          "height": 702
        },
        "id": "Q4YNFffusecG",
        "outputId": "885ceb74-13ec-444d-ad12-cfd1cce89959"
      },
      "execution_count": null,
      "outputs": [
        {
          "output_type": "execute_result",
          "data": {
            "text/plain": [
              "                        date  \\\n",
              "0  2023-04-12 20:05:08+00:00   \n",
              "1  2023-04-12 20:05:06+00:00   \n",
              "2  2023-04-12 20:05:04+00:00   \n",
              "3  2023-04-12 20:05:02+00:00   \n",
              "4  2023-04-12 20:04:58+00:00   \n",
              "\n",
              "                                                                                                                                                                                                                                    text  \\\n",
              "0  @100xAltcoinGems @NeuroniAI $NEURONI\\n\\n Join our official Telegram group to stay tuned for the latest Neuroni AI updates and news. \\n⪼ @NeuroniAI\\n \\n#AI #GPT4 #506x #NeuroniAI #Neuroni                                              \n",
              "1  @100xAltcoinGems @NeuroniAI $NEURONI\\n\\n Invest in $NEURONI and be part of our project reserve, with a total supply of 10M tokens and no dev tokens. \\n⪼ @NeuroniAI\\n \\n#AI #GPT4 #504x #NeuroniAI #Neuroni                             \n",
              "2  @100xAltcoinGems @NeuroniAI $NEURONI\\n\\n Get ready for Neuroni AI Bot, available for free with all its features until Phase 3 of our roadmap. \\n⪼ @NeuroniAI\\n \\n#AI #GPT4 #502x #NeuroniAI #Neuroni                                    \n",
              "3  @100xAltcoinGems @NeuroniAI $NEURONI\\n\\n Want Neuroni AI in your Telegram group? Choose our Premium subscription for unlimited requests, priority access to updates, and more. \\n⪼ @NeuroniAI\\n \\n#AI #GPT4 #500x #NeuroniAI #Neuroni   \n",
              "4  @100xAltcoinGems $NEURONI\\n\\n Discover the latest Neuroni AI functions, including moderation for Telegram groups, premium user options, and more. \\n⪼ @NeuroniAI\\n \\n#AI #GPT4 #455x #NeuroniAI #Neuroni \\nhttps://t.co/MTWGnV6z9J      \n",
              "\n",
              "  user_name user_location    user_description               user_created  \\\n",
              "0  fuari     Cyberspace    beautiful together  2022-12-27 16:50:49+00:00   \n",
              "1  fuari     Cyberspace    beautiful together  2022-12-27 16:50:49+00:00   \n",
              "2  fuari     Cyberspace    beautiful together  2022-12-27 16:50:49+00:00   \n",
              "3  fuari     Cyberspace    beautiful together  2022-12-27 16:50:49+00:00   \n",
              "4  fuari     Cyberspace    beautiful together  2022-12-27 16:50:49+00:00   \n",
              "\n",
              "   user_followers  user_friends  user_favourites  user_verified hashtags  \\\n",
              "0  57              170           446              False          NaN       \n",
              "1  57              170           446              False          NaN       \n",
              "2  57              170           446              False          NaN       \n",
              "3  57              170           446              False          NaN       \n",
              "4  57              170           446              False          NaN       \n",
              "\n",
              "                source  \n",
              "0  Twitter for Android  \n",
              "1  Twitter for Android  \n",
              "2  Twitter for Android  \n",
              "3  Twitter for Android  \n",
              "4  Twitter for Android  "
            ],
            "text/html": [
              "\n",
              "  <div id=\"df-47631284-62fd-4f16-b133-114b0735a14d\">\n",
              "    <div class=\"colab-df-container\">\n",
              "      <div>\n",
              "<style scoped>\n",
              "    .dataframe tbody tr th:only-of-type {\n",
              "        vertical-align: middle;\n",
              "    }\n",
              "\n",
              "    .dataframe tbody tr th {\n",
              "        vertical-align: top;\n",
              "    }\n",
              "\n",
              "    .dataframe thead th {\n",
              "        text-align: right;\n",
              "    }\n",
              "</style>\n",
              "<table border=\"1\" class=\"dataframe\">\n",
              "  <thead>\n",
              "    <tr style=\"text-align: right;\">\n",
              "      <th></th>\n",
              "      <th>date</th>\n",
              "      <th>text</th>\n",
              "      <th>user_name</th>\n",
              "      <th>user_location</th>\n",
              "      <th>user_description</th>\n",
              "      <th>user_created</th>\n",
              "      <th>user_followers</th>\n",
              "      <th>user_friends</th>\n",
              "      <th>user_favourites</th>\n",
              "      <th>user_verified</th>\n",
              "      <th>hashtags</th>\n",
              "      <th>source</th>\n",
              "    </tr>\n",
              "  </thead>\n",
              "  <tbody>\n",
              "    <tr>\n",
              "      <th>0</th>\n",
              "      <td>2023-04-12 20:05:08+00:00</td>\n",
              "      <td>@100xAltcoinGems @NeuroniAI $NEURONI\\n\\n Join our official Telegram group to stay tuned for the latest Neuroni AI updates and news. \\n⪼ @NeuroniAI\\n \\n#AI #GPT4 #506x #NeuroniAI #Neuroni</td>\n",
              "      <td>fuari</td>\n",
              "      <td>Cyberspace</td>\n",
              "      <td>beautiful together</td>\n",
              "      <td>2022-12-27 16:50:49+00:00</td>\n",
              "      <td>57</td>\n",
              "      <td>170</td>\n",
              "      <td>446</td>\n",
              "      <td>False</td>\n",
              "      <td>NaN</td>\n",
              "      <td>Twitter for Android</td>\n",
              "    </tr>\n",
              "    <tr>\n",
              "      <th>1</th>\n",
              "      <td>2023-04-12 20:05:06+00:00</td>\n",
              "      <td>@100xAltcoinGems @NeuroniAI $NEURONI\\n\\n Invest in $NEURONI and be part of our project reserve, with a total supply of 10M tokens and no dev tokens. \\n⪼ @NeuroniAI\\n \\n#AI #GPT4 #504x #NeuroniAI #Neuroni</td>\n",
              "      <td>fuari</td>\n",
              "      <td>Cyberspace</td>\n",
              "      <td>beautiful together</td>\n",
              "      <td>2022-12-27 16:50:49+00:00</td>\n",
              "      <td>57</td>\n",
              "      <td>170</td>\n",
              "      <td>446</td>\n",
              "      <td>False</td>\n",
              "      <td>NaN</td>\n",
              "      <td>Twitter for Android</td>\n",
              "    </tr>\n",
              "    <tr>\n",
              "      <th>2</th>\n",
              "      <td>2023-04-12 20:05:04+00:00</td>\n",
              "      <td>@100xAltcoinGems @NeuroniAI $NEURONI\\n\\n Get ready for Neuroni AI Bot, available for free with all its features until Phase 3 of our roadmap. \\n⪼ @NeuroniAI\\n \\n#AI #GPT4 #502x #NeuroniAI #Neuroni</td>\n",
              "      <td>fuari</td>\n",
              "      <td>Cyberspace</td>\n",
              "      <td>beautiful together</td>\n",
              "      <td>2022-12-27 16:50:49+00:00</td>\n",
              "      <td>57</td>\n",
              "      <td>170</td>\n",
              "      <td>446</td>\n",
              "      <td>False</td>\n",
              "      <td>NaN</td>\n",
              "      <td>Twitter for Android</td>\n",
              "    </tr>\n",
              "    <tr>\n",
              "      <th>3</th>\n",
              "      <td>2023-04-12 20:05:02+00:00</td>\n",
              "      <td>@100xAltcoinGems @NeuroniAI $NEURONI\\n\\n Want Neuroni AI in your Telegram group? Choose our Premium subscription for unlimited requests, priority access to updates, and more. \\n⪼ @NeuroniAI\\n \\n#AI #GPT4 #500x #NeuroniAI #Neuroni</td>\n",
              "      <td>fuari</td>\n",
              "      <td>Cyberspace</td>\n",
              "      <td>beautiful together</td>\n",
              "      <td>2022-12-27 16:50:49+00:00</td>\n",
              "      <td>57</td>\n",
              "      <td>170</td>\n",
              "      <td>446</td>\n",
              "      <td>False</td>\n",
              "      <td>NaN</td>\n",
              "      <td>Twitter for Android</td>\n",
              "    </tr>\n",
              "    <tr>\n",
              "      <th>4</th>\n",
              "      <td>2023-04-12 20:04:58+00:00</td>\n",
              "      <td>@100xAltcoinGems $NEURONI\\n\\n Discover the latest Neuroni AI functions, including moderation for Telegram groups, premium user options, and more. \\n⪼ @NeuroniAI\\n \\n#AI #GPT4 #455x #NeuroniAI #Neuroni \\nhttps://t.co/MTWGnV6z9J</td>\n",
              "      <td>fuari</td>\n",
              "      <td>Cyberspace</td>\n",
              "      <td>beautiful together</td>\n",
              "      <td>2022-12-27 16:50:49+00:00</td>\n",
              "      <td>57</td>\n",
              "      <td>170</td>\n",
              "      <td>446</td>\n",
              "      <td>False</td>\n",
              "      <td>NaN</td>\n",
              "      <td>Twitter for Android</td>\n",
              "    </tr>\n",
              "  </tbody>\n",
              "</table>\n",
              "</div>\n",
              "      <button class=\"colab-df-convert\" onclick=\"convertToInteractive('df-47631284-62fd-4f16-b133-114b0735a14d')\"\n",
              "              title=\"Convert this dataframe to an interactive table.\"\n",
              "              style=\"display:none;\">\n",
              "        \n",
              "  <svg xmlns=\"http://www.w3.org/2000/svg\" height=\"24px\"viewBox=\"0 0 24 24\"\n",
              "       width=\"24px\">\n",
              "    <path d=\"M0 0h24v24H0V0z\" fill=\"none\"/>\n",
              "    <path d=\"M18.56 5.44l.94 2.06.94-2.06 2.06-.94-2.06-.94-.94-2.06-.94 2.06-2.06.94zm-11 1L8.5 8.5l.94-2.06 2.06-.94-2.06-.94L8.5 2.5l-.94 2.06-2.06.94zm10 10l.94 2.06.94-2.06 2.06-.94-2.06-.94-.94-2.06-.94 2.06-2.06.94z\"/><path d=\"M17.41 7.96l-1.37-1.37c-.4-.4-.92-.59-1.43-.59-.52 0-1.04.2-1.43.59L10.3 9.45l-7.72 7.72c-.78.78-.78 2.05 0 2.83L4 21.41c.39.39.9.59 1.41.59.51 0 1.02-.2 1.41-.59l7.78-7.78 2.81-2.81c.8-.78.8-2.07 0-2.86zM5.41 20L4 18.59l7.72-7.72 1.47 1.35L5.41 20z\"/>\n",
              "  </svg>\n",
              "      </button>\n",
              "      \n",
              "  <style>\n",
              "    .colab-df-container {\n",
              "      display:flex;\n",
              "      flex-wrap:wrap;\n",
              "      gap: 12px;\n",
              "    }\n",
              "\n",
              "    .colab-df-convert {\n",
              "      background-color: #E8F0FE;\n",
              "      border: none;\n",
              "      border-radius: 50%;\n",
              "      cursor: pointer;\n",
              "      display: none;\n",
              "      fill: #1967D2;\n",
              "      height: 32px;\n",
              "      padding: 0 0 0 0;\n",
              "      width: 32px;\n",
              "    }\n",
              "\n",
              "    .colab-df-convert:hover {\n",
              "      background-color: #E2EBFA;\n",
              "      box-shadow: 0px 1px 2px rgba(60, 64, 67, 0.3), 0px 1px 3px 1px rgba(60, 64, 67, 0.15);\n",
              "      fill: #174EA6;\n",
              "    }\n",
              "\n",
              "    [theme=dark] .colab-df-convert {\n",
              "      background-color: #3B4455;\n",
              "      fill: #D2E3FC;\n",
              "    }\n",
              "\n",
              "    [theme=dark] .colab-df-convert:hover {\n",
              "      background-color: #434B5C;\n",
              "      box-shadow: 0px 1px 3px 1px rgba(0, 0, 0, 0.15);\n",
              "      filter: drop-shadow(0px 1px 2px rgba(0, 0, 0, 0.3));\n",
              "      fill: #FFFFFF;\n",
              "    }\n",
              "  </style>\n",
              "\n",
              "      <script>\n",
              "        const buttonEl =\n",
              "          document.querySelector('#df-47631284-62fd-4f16-b133-114b0735a14d button.colab-df-convert');\n",
              "        buttonEl.style.display =\n",
              "          google.colab.kernel.accessAllowed ? 'block' : 'none';\n",
              "\n",
              "        async function convertToInteractive(key) {\n",
              "          const element = document.querySelector('#df-47631284-62fd-4f16-b133-114b0735a14d');\n",
              "          const dataTable =\n",
              "            await google.colab.kernel.invokeFunction('convertToInteractive',\n",
              "                                                     [key], {});\n",
              "          if (!dataTable) return;\n",
              "\n",
              "          const docLinkHtml = 'Like what you see? Visit the ' +\n",
              "            '<a target=\"_blank\" href=https://colab.research.google.com/notebooks/data_table.ipynb>data table notebook</a>'\n",
              "            + ' to learn more about interactive tables.';\n",
              "          element.innerHTML = '';\n",
              "          dataTable['output_type'] = 'display_data';\n",
              "          await google.colab.output.renderOutput(dataTable, element);\n",
              "          const docLink = document.createElement('div');\n",
              "          docLink.innerHTML = docLinkHtml;\n",
              "          element.appendChild(docLink);\n",
              "        }\n",
              "      </script>\n",
              "    </div>\n",
              "  </div>\n",
              "  "
            ]
          },
          "metadata": {},
          "execution_count": 216
        }
      ]
    },
    {
      "cell_type": "code",
      "source": [
        "len(tweets.columns.tolist())"
      ],
      "metadata": {
        "colab": {
          "base_uri": "https://localhost:8080/"
        },
        "id": "oySrvJtIsees",
        "outputId": "763f248b-0822-42ed-aa82-c2d54acbd8b5"
      },
      "execution_count": null,
      "outputs": [
        {
          "output_type": "execute_result",
          "data": {
            "text/plain": [
              "12"
            ]
          },
          "metadata": {},
          "execution_count": 217
        }
      ]
    },
    {
      "cell_type": "code",
      "source": [
        "# for plotting missing values\n",
        "\n",
        "def return_missing_values(data_frame):\n",
        "    missing_values = data_frame.isnull().sum()/len(data_frame)\n",
        "    missing_values = missing_values[missing_values>0]\n",
        "    missing_values.sort_values(inplace=True)\n",
        "    return missing_values\n",
        "\n",
        "def plot_missing_values(data_frame):\n",
        "    missing_values = return_missing_values(data_frame)\n",
        "    missing_values = missing_values.to_frame()\n",
        "    missing_values.columns = ['count']\n",
        "    missing_values.index.names = ['Name']\n",
        "    missing_values['Name'] = missing_values.index\n",
        "    sns.set(style='darkgrid')\n",
        "    sns.barplot(x='Name', y='count', data=missing_values)\n",
        "    plt.xticks(rotation=90)\n",
        "    plt.title('Missing Values Fraction for Columns')\n",
        "    plt.show()\n",
        "    \n",
        "    \n",
        "#https://github.com/ShilpiParikh/EDA-on-COVID-19-tweets/blob/main/Covid19_tweets_EDA%20.ipynb"
      ],
      "metadata": {
        "id": "rcLHPXwOzigm"
      },
      "execution_count": null,
      "outputs": []
    },
    {
      "cell_type": "code",
      "source": [
        "return_missing_values(tweets)"
      ],
      "metadata": {
        "colab": {
          "base_uri": "https://localhost:8080/"
        },
        "id": "P_dfFJQUziis",
        "outputId": "fa536d22-d264-4d1d-9fb0-f370e5fb2afe"
      },
      "execution_count": null,
      "outputs": [
        {
          "output_type": "execute_result",
          "data": {
            "text/plain": [
              "user_name           0.000035\n",
              "hashtags            0.182306\n",
              "user_description    0.394741\n",
              "user_location       0.523406\n",
              "dtype: float64"
            ]
          },
          "metadata": {},
          "execution_count": 7
        }
      ]
    },
    {
      "cell_type": "code",
      "source": [
        "plot_missing_values(tweets)"
      ],
      "metadata": {
        "colab": {
          "base_uri": "https://localhost:8080/",
          "height": 592
        },
        "id": "h528bX133Pt2",
        "outputId": "eb23a146-7f40-4f74-f8e3-1b60613a98f1"
      },
      "execution_count": null,
      "outputs": [
        {
          "output_type": "display_data",
          "data": {
            "text/plain": [
              "<Figure size 640x480 with 1 Axes>"
            ],
            "image/png": "[encoded data removed]"
          },
          "metadata": {}
        }
      ]
    },
    {
      "cell_type": "markdown",
      "source": [
        "###Preprocessing"
      ],
      "metadata": {
        "id": "F17qdpoLmKIC"
      }
    },
    {
      "cell_type": "code",
      "source": [
        "len(tweets)"
      ],
      "metadata": {
        "colab": {
          "base_uri": "https://localhost:8080/"
        },
        "id": "2MgDlz3EZrHg",
        "outputId": "4fe0af0f-7689-4002-88fa-502fa0ff9ea0"
      },
      "execution_count": null,
      "outputs": [
        {
          "output_type": "execute_result",
          "data": {
            "text/plain": [
              "28710"
            ]
          },
          "metadata": {},
          "execution_count": 219
        }
      ]
    },
    {
      "cell_type": "code",
      "source": [
        "# drop duplicate rows with subset on text column\n",
        "tweets=tweets.drop_duplicates(subset=['text'])"
      ],
      "metadata": {
        "id": "RQanSBxfUcMm"
      },
      "execution_count": null,
      "outputs": []
    },
    {
      "cell_type": "code",
      "source": [
        "len(tweets[tweets['text'].str.contains(\"GPT4|GPT-4|gpt4|GPT4|Gpt4|Gpt-4|gpt 4|GPT 4\")==True])"
      ],
      "metadata": {
        "colab": {
          "base_uri": "https://localhost:8080/"
        },
        "id": "0pDHTtojcDeK",
        "outputId": "92161c41-efea-47ad-83e8-197ef0441e3b"
      },
      "execution_count": null,
      "outputs": [
        {
          "output_type": "execute_result",
          "data": {
            "text/plain": [
              "28328"
            ]
          },
          "metadata": {},
          "execution_count": 127
        }
      ]
    },
    {
      "cell_type": "code",
      "source": [
        "# leave only tweets where there is GPT4 mentioned in either hashtags or raw text\n",
        "tweets = tweets[tweets['text'].str.contains(\"GPT4|GPT-4|gpt4|GPT4|Gpt4|Gpt-4|gpt 4|GPT 4\")==True]\n",
        "len(tweets)"
      ],
      "metadata": {
        "colab": {
          "base_uri": "https://localhost:8080/"
        },
        "id": "6U0Uf_CwyrQn",
        "outputId": "93c2b3f7-b6f0-49dc-d6dd-079dfcf67be5"
      },
      "execution_count": null,
      "outputs": [
        {
          "output_type": "execute_result",
          "data": {
            "text/plain": [
              "28704"
            ]
          },
          "metadata": {},
          "execution_count": 220
        }
      ]
    },
    {
      "cell_type": "code",
      "source": [
        "nltk.download('wordnet')"
      ],
      "metadata": {
        "colab": {
          "base_uri": "https://localhost:8080/"
        },
        "id": "aPJo1KR8mfKd",
        "outputId": "44096309-5926-4e90-ec64-2d2f47d55dfd"
      },
      "execution_count": null,
      "outputs": [
        {
          "output_type": "stream",
          "name": "stderr",
          "text": [
            "[nltk_data] Downloading package wordnet to /root/nltk_data...\n",
            "[nltk_data]   Package wordnet is already up-to-date!\n"
          ]
        },
        {
          "output_type": "execute_result",
          "data": {
            "text/plain": [
              "True"
            ]
          },
          "metadata": {},
          "execution_count": 221
        }
      ]
    },
    {
      "cell_type": "code",
      "source": [
        "nltk.download('stopwords')"
      ],
      "metadata": {
        "colab": {
          "base_uri": "https://localhost:8080/"
        },
        "id": "Mt5m92vWm4in",
        "outputId": "95dc261e-1f19-417a-f02a-da21b5a672d7"
      },
      "execution_count": null,
      "outputs": [
        {
          "output_type": "stream",
          "name": "stderr",
          "text": [
            "[nltk_data] Downloading package stopwords to /root/nltk_data...\n",
            "[nltk_data]   Package stopwords is already up-to-date!\n"
          ]
        },
        {
          "output_type": "execute_result",
          "data": {
            "text/plain": [
              "True"
            ]
          },
          "metadata": {},
          "execution_count": 222
        }
      ]
    },
    {
      "cell_type": "code",
      "source": [
        "from nltk.corpus import stopwords\n",
        "from nltk.tokenize import word_tokenize\n",
        "from nltk.stem import WordNetLemmatizer\n",
        "\n",
        "lemma = WordNetLemmatizer()\n",
        "stop_words = set(stopwords.words('english'))"
      ],
      "metadata": {
        "id": "VWRjdll43P4z"
      },
      "execution_count": null,
      "outputs": []
    },
    {
      "cell_type": "code",
      "source": [
        "# the function to clean the tweet and tokenize them\n",
        "def clean_tweet(tweet):\n",
        "    if type(tweet) == float:\n",
        "            return \"\"\n",
        "\n",
        "    # turn text into lower\n",
        "    test = tweet.lower()\n",
        "    # remove all mentions and hashtags \n",
        "    test = re.sub(\"@[A-Za-z0-9_]+\",\"\", test)\n",
        "    test = re.sub(\"#[A-Za-z0-9_]+\",\"\", test)\n",
        "    #remove links\n",
        "    test = re.sub(r\"http\\S+\", \"\", test)\n",
        "    test = re.sub(r\"www.\\S+\", \"\", test)\n",
        "    #remove punctuation\n",
        "    test = re.sub('[()!?]', ' ', test)\n",
        "    test = re.sub('\\[.*?\\]',' ', test)\n",
        "    #remove non alphabetical characters\n",
        "    test = re.sub(\"[^a-z0-9]\",\" \", test)\n",
        "    #remove extra spaces\n",
        "    test = re.sub(' +', ' ', test)\n",
        "    # remove single letter words\n",
        "    test = ' '.join( [w for w in test.split() if len(w)>1] )\n",
        "    \n",
        "    test = ' '.join( [lemma.lemmatize(x) for x in nltk.wordpunct_tokenize(test) if x not in stop_words])\n",
        "    test =[lemma.lemmatize(x, nltk.corpus.reader.wordnet.VERB) for x in nltk.wordpunct_tokenize(test) if x not in stop_words]\n",
        "\n",
        "    return test"
      ],
      "metadata": {
        "id": "je5ckpAB3P7A"
      },
      "execution_count": null,
      "outputs": []
    },
    {
      "cell_type": "code",
      "source": [
        "clean_tweet(tweets['text'].iloc[3])"
      ],
      "metadata": {
        "colab": {
          "base_uri": "https://localhost:8080/"
        },
        "id": "0mxzydc33P9e",
        "outputId": "294d5e58-4905-4918-eb5c-a23b3ba243b5"
      },
      "execution_count": null,
      "outputs": [
        {
          "output_type": "execute_result",
          "data": {
            "text/plain": [
              "['neuroni',\n",
              " 'want',\n",
              " 'neuroni',\n",
              " 'ai',\n",
              " 'telegram',\n",
              " 'group',\n",
              " 'choose',\n",
              " 'premium',\n",
              " 'subscription',\n",
              " 'unlimited',\n",
              " 'request',\n",
              " 'priority',\n",
              " 'access',\n",
              " 'update']"
            ]
          },
          "metadata": {},
          "execution_count": 225
        }
      ]
    },
    {
      "cell_type": "code",
      "source": [
        "# clean the tweets and create two columns: tokenized tweet and whole tweet\n",
        "tweets[\"tweet_tokens\"]=tweets[\"text\"].apply(lambda x:clean_tweet(x))\n",
        "tweets[\"cleaned_tweet\"]=tweets[\"tweet_tokens\"].apply(lambda x:' '.join(x))"
      ],
      "metadata": {
        "id": "GNAPNWxH3QB1"
      },
      "execution_count": null,
      "outputs": []
    },
    {
      "cell_type": "code",
      "source": [
        "tweets['cleaned_tweet'].iloc[6]"
      ],
      "metadata": {
        "colab": {
          "base_uri": "https://localhost:8080/",
          "height": 35
        },
        "id": "i8BgjuXWzik7",
        "outputId": "a90644b4-958c-48ed-ca4b-88c485bf79cf"
      },
      "execution_count": null,
      "outputs": [
        {
          "output_type": "execute_result",
          "data": {
            "text/plain": [
              "'neuroni need code specific program language neuroni ai create demand include decipher cryptographic cipher'"
            ],
            "application/vnd.google.colaboratory.intrinsic+json": {
              "type": "string"
            }
          },
          "metadata": {},
          "execution_count": 227
        }
      ]
    },
    {
      "cell_type": "code",
      "source": [
        "tweets = tweets.drop_duplicates(subset=['cleaned_tweet'])"
      ],
      "metadata": {
        "id": "bgY89iOXy3Nz"
      },
      "execution_count": null,
      "outputs": []
    },
    {
      "cell_type": "code",
      "source": [
        "# clean all the tweets with NFT in them\n",
        "tweets = tweets[tweets['cleaned_tweet'].str.contains(\"NFT|nft|Nft\")==False]\n",
        "len(tweets)"
      ],
      "metadata": {
        "colab": {
          "base_uri": "https://localhost:8080/"
        },
        "id": "tEJL7QWElhB7",
        "outputId": "2df0480f-4ced-45f0-f6eb-af168fa68889"
      },
      "execution_count": null,
      "outputs": [
        {
          "output_type": "execute_result",
          "data": {
            "text/plain": [
              "20465"
            ]
          },
          "metadata": {},
          "execution_count": 229
        }
      ]
    },
    {
      "cell_type": "code",
      "source": [
        "# creatr another dataset for test, with only tweets that contain gpt4 as a word\n",
        "tweets_gpt = tweets[tweets['cleaned_tweet'].str.contains(\"GPT4|GPT-4|gpt4|GPT4|Gpt4|Gpt-4|gpt 4|GPT 4\")==True]\n",
        "tweets_gpt.head()"
      ],
      "metadata": {
        "id": "2P66r-NPdvk8"
      },
      "execution_count": null,
      "outputs": []
    },
    {
      "cell_type": "code",
      "source": [
        "tweets.shape"
      ],
      "metadata": {
        "colab": {
          "base_uri": "https://localhost:8080/"
        },
        "id": "D5IxV3sVm_gb",
        "outputId": "c65ce3c6-1aa4-47d3-ce99-187b0fee0825"
      },
      "execution_count": null,
      "outputs": [
        {
          "output_type": "execute_result",
          "data": {
            "text/plain": [
              "(20465, 15)"
            ]
          },
          "metadata": {},
          "execution_count": 230
        }
      ]
    },
    {
      "cell_type": "code",
      "source": [
        "tweets_gpt['tweet_tokens'][10:15]"
      ],
      "metadata": {
        "colab": {
          "base_uri": "https://localhost:8080/"
        },
        "id": "0FjAUgnFocQ4",
        "outputId": "b4fa8bc3-68df-4c50-f3b5-c11e74750d7e"
      },
      "execution_count": null,
      "outputs": [
        {
          "output_type": "execute_result",
          "data": {
            "text/plain": [
              "349    [least, instance, bard, way, base, gpt4, ask, ...\n",
              "377    [day, 10, roundup, unmissable, innovation, aut...\n",
              "393    [title, power, ai, clarity, mind, unlock, full...\n",
              "395    [fascinate, qualitative, discussion, intellige...\n",
              "434      [ray, kurzweil, wrong, signularity, chat, gpt4]\n",
              "Name: tweet_tokens, dtype: object"
            ]
          },
          "metadata": {},
          "execution_count": 36
        }
      ]
    },
    {
      "cell_type": "markdown",
      "source": [
        "###Tweets embeddings"
      ],
      "metadata": {
        "id": "tD0S7cEUpIJD"
      }
    },
    {
      "cell_type": "code",
      "source": [
        "!pip install -U gensim"
      ],
      "metadata": {
        "colab": {
          "base_uri": "https://localhost:8080/"
        },
        "id": "BBm7YMqlocaw",
        "outputId": "df05d4d7-3c14-4ccd-bcd0-6953543b4c90"
      },
      "execution_count": null,
      "outputs": [
        {
          "output_type": "stream",
          "name": "stdout",
          "text": [
            "Looking in indexes: https://pypi.org/simple, https://us-python.pkg.dev/colab-wheels/public/simple/\n",
            "Requirement already satisfied: gensim in /usr/local/lib/python3.10/dist-packages (4.3.1)\n",
            "Requirement already satisfied: numpy>=1.18.5 in /usr/local/lib/python3.10/dist-packages (from gensim) (1.22.4)\n",
            "Requirement already satisfied: smart-open>=1.8.1 in /usr/local/lib/python3.10/dist-packages (from gensim) (6.3.0)\n",
            "Requirement already satisfied: scipy>=1.7.0 in /usr/local/lib/python3.10/dist-packages (from gensim) (1.10.1)\n"
          ]
        }
      ]
    },
    {
      "cell_type": "code",
      "source": [
        "#Converting the \"clean_tweet\" column in the format supported by embeddings.\n",
        "sent = [row for row in tweets[\"tweet_tokens\"]]\n",
        "#use Gensim Phrases package to automatically detect common phrases (bigrams) from a list of sentences.\n",
        "phrases = Phrases(sent, min_count=1, progress_per=5000)\n",
        "bigram = gensim.models.phrases.Phraser(phrases)\n",
        "sentences = bigram[sent]\n",
        "sentences[1]\n",
        "\n",
        "# https://www.kaggle.com/pierremegret/gensim-word2vec-tutorial "
      ],
      "metadata": {
        "colab": {
          "base_uri": "https://localhost:8080/"
        },
        "id": "ACQvXS7dm_io",
        "outputId": "28d05533-a253-48fc-e72a-5a3bbfa35eb7"
      },
      "execution_count": null,
      "outputs": [
        {
          "output_type": "execute_result",
          "data": {
            "text/plain": [
              "['neuroni',\n",
              " 'invest',\n",
              " 'neuroni',\n",
              " 'part',\n",
              " 'project',\n",
              " 'reserve',\n",
              " 'total',\n",
              " 'supply',\n",
              " '10m',\n",
              " 'token',\n",
              " 'dev',\n",
              " 'token']"
            ]
          },
          "metadata": {},
          "execution_count": 232
        }
      ]
    },
    {
      "cell_type": "code",
      "source": [
        "len(sentences)"
      ],
      "metadata": {
        "colab": {
          "base_uri": "https://localhost:8080/"
        },
        "id": "QCcj_9eDm_lF",
        "outputId": "092c0414-eeee-4dc6-a75c-ae716628472b"
      },
      "execution_count": null,
      "outputs": [
        {
          "output_type": "execute_result",
          "data": {
            "text/plain": [
              "20465"
            ]
          },
          "metadata": {},
          "execution_count": 233
        }
      ]
    },
    {
      "cell_type": "markdown",
      "source": [
        "###Word2dvec Model"
      ],
      "metadata": {
        "id": "5LAC_qqOqZK7"
      }
    },
    {
      "cell_type": "code",
      "source": [
        "#Initializing the word2vec model\n",
        "w2v_model = Word2Vec(min_count=4,\n",
        "                     window=5,\n",
        "                     vector_size =300,\n",
        "                     sample=1e-5, \n",
        "                     alpha=0.03, \n",
        "                     min_alpha=0.0007, \n",
        "                     negative=20,\n",
        "                     seed= 42,\n",
        "                     workers=multiprocessing.cpu_count()-1)\n",
        "\n",
        "\n",
        "#building vocab of the word2vec model from the custom data\n",
        "w2v_model.build_vocab(sentences, progress_per=5000)\n",
        "\n",
        "# https://towardsdatascience.com/unsupervised-sentiment-analysis-a38bf1906483"
      ],
      "metadata": {
        "id": "bBy5RrNTm_nb"
      },
      "execution_count": null,
      "outputs": []
    },
    {
      "cell_type": "code",
      "source": [
        "#training the word2vec model\n",
        "w2v_model.train(sentences, total_examples=w2v_model.corpus_count, epochs=60, report_delay=1)"
      ],
      "metadata": {
        "colab": {
          "base_uri": "https://localhost:8080/"
        },
        "id": "1lzh9cYdqVkD",
        "outputId": "ba5be90a-862e-4307-e8fd-e5d72c95e67f"
      },
      "execution_count": null,
      "outputs": [
        {
          "output_type": "execute_result",
          "data": {
            "text/plain": [
              "(2599887, 13413300)"
            ]
          },
          "metadata": {},
          "execution_count": 235
        }
      ]
    },
    {
      "cell_type": "code",
      "source": [
        "w2v_model.wv.most_similar(positive =[\"ai\"])"
      ],
      "metadata": {
        "colab": {
          "base_uri": "https://localhost:8080/"
        },
        "id": "vg8gGc59qVmO",
        "outputId": "4d5a06b1-809a-4d77-a279-d2fabbc368cb"
      },
      "execution_count": null,
      "outputs": [
        {
          "output_type": "execute_result",
          "data": {
            "text/plain": [
              "[('shape', 0.9706013202667236),\n",
              " ('unleash_power', 0.9700911641120911),\n",
              " ('web_development', 0.969957709312439),\n",
              " ('twitter_thread', 0.9697667360305786),\n",
              " ('society', 0.969677746295929),\n",
              " ('introduce', 0.9696319699287415),\n",
              " ('get_ready', 0.9692681431770325),\n",
              " ('could_revolutionize', 0.9691582918167114),\n",
              " ('diverse', 0.9690331220626831),\n",
              " ('effect', 0.9688423275947571)]"
            ]
          },
          "metadata": {},
          "execution_count": 236
        }
      ]
    },
    {
      "cell_type": "code",
      "source": [
        "#saving the word2vec model\n",
        "w2v_model.save(\"word2vec2.model\")"
      ],
      "metadata": {
        "id": "aP_HF_apqVob"
      },
      "execution_count": null,
      "outputs": []
    },
    {
      "cell_type": "code",
      "source": [
        "#Loading the word2vec model\n",
        "word_vectors = Word2Vec.load(\"word2vec2.model\").wv"
      ],
      "metadata": {
        "id": "UprcpuAnqVsE"
      },
      "execution_count": null,
      "outputs": []
    },
    {
      "cell_type": "markdown",
      "source": [
        "###Clustering"
      ],
      "metadata": {
        "id": "P4A-TuCarMGI"
      }
    },
    {
      "cell_type": "code",
      "source": [
        "#Feeding the embeddings to a KMeans model to cluster words into positive, negative, and neutral clusters\n",
        "model = KMeans(n_clusters=3, max_iter=1000, random_state=42, n_init=50).fit(X=word_vectors.vectors.astype('double'))"
      ],
      "metadata": {
        "id": "93ezeYumrKXr"
      },
      "execution_count": null,
      "outputs": []
    },
    {
      "cell_type": "code",
      "source": [
        "# check what we have in each cluster to label the clusters\n",
        "word_vectors.similar_by_vector(model.cluster_centers_[0], topn=200, restrict_vocab=None)"
      ],
      "metadata": {
        "id": "haaVGAWnrKZ0"
      },
      "execution_count": null,
      "outputs": []
    },
    {
      "cell_type": "code",
      "source": [
        "# Labelling the clusters based on the type of words they carry\n",
        "positive_cluster_center = model.cluster_centers_[0]\n",
        "negative_cluster_center = model.cluster_centers_[2]\n",
        "neutral_cluster_center= model.cluster_centers_[1]"
      ],
      "metadata": {
        "id": "3jWYNiJlrKeZ"
      },
      "execution_count": null,
      "outputs": []
    },
    {
      "cell_type": "code",
      "source": [
        "#Creating a DataFrame of words with their embeddings and cluster values\n",
        "words = pd.DataFrame(word_vectors.index_to_key)\n",
        "words.columns = ['words']\n",
        "words['vectors'] = words.words.apply(lambda x: word_vectors[f'{x}'])\n",
        "words['cluster'] = words.vectors.apply(lambda x: model.predict([np.array(x)]))\n",
        "words.cluster = words.cluster.apply(lambda x: x[0])\n",
        "\n",
        "# https://towardsdatascience.com/unsupervised-sentiment-analysis-a38bf1906483"
      ],
      "metadata": {
        "id": "9Te4upO-tnRp"
      },
      "execution_count": null,
      "outputs": []
    },
    {
      "cell_type": "code",
      "source": [
        "words"
      ],
      "metadata": {
        "id": "fFTkTv99ZWLK"
      },
      "execution_count": null,
      "outputs": []
    },
    {
      "cell_type": "code",
      "source": [
        "#Assigning 1 to positive values, 0 to neutral and -1 for negative values\n",
        "words['cluster_value'] = [1 if i==0 else 0 if i==1 else -1 for i in words.cluster]\n",
        "words['closeness_score'] = words.apply(lambda x: 1/(model.transform([x.vectors]).min()), axis=1)"
      ],
      "metadata": {
        "id": "xWYVGZNEZWNy"
      },
      "execution_count": null,
      "outputs": []
    },
    {
      "cell_type": "code",
      "source": [
        "# observe the resulting clusters to see if they make sense\n",
        "with pd.option_context('display.max_rows', None,):\n",
        "    print(words[words[\"cluster_value\"]==0][:100].sort_values(\"closeness_score\"))"
      ],
      "metadata": {
        "id": "h89ipJ9IeS19"
      },
      "execution_count": null,
      "outputs": []
    },
    {
      "cell_type": "code",
      "source": [
        "# manually redistribute the words to appropriate clusters after observing them in previous cell\n",
        "positive = ['amaze','excite','better','powerful','good', 'useful_response', 'excite_news', 'triple_productivity', 'powerful_dominate', 'beauty']\n",
        "neutral = []\n",
        "negative= ['call_pause', 'gpt4_fuck', 'risk_society', 'month_pause']\n",
        "for i in positive:\n",
        "    words.loc[words[\"words\"]==i,\"cluster_value\"]=1\n",
        "    \n",
        "for i in neutral:\n",
        "    words.loc[words[\"words\"]==i,\"cluster_value\"]=0\n",
        "    \n",
        "for i in negative:\n",
        "    words.loc[words[\"words\"]==i,\"cluster_value\"]=-1"
      ],
      "metadata": {
        "id": "NHLyUJ6ieS4T"
      },
      "execution_count": null,
      "outputs": []
    },
    {
      "cell_type": "code",
      "source": [
        "words[words[\"words\"]==\"dangerous\"]"
      ],
      "metadata": {
        "colab": {
          "base_uri": "https://localhost:8080/",
          "height": 264
        },
        "id": "GmKN3XBoeS6h",
        "outputId": "380e4424-6c97-434d-f047-cb14330d82c1"
      },
      "execution_count": null,
      "outputs": [
        {
          "output_type": "execute_result",
          "data": {
            "text/plain": [
              "         words  \\\n",
              "950  dangerous   \n",
              "\n",
              "                                                                                                                                                                                                                                                                                                                                                                                                                                                                                                                                                                                                                                                                                                                                                                                                                                                                                                                                                                                                                                                                                                                                                                                                                                                                                                                                 vectors  \\\n",
              "950  [0.06394868, -0.12075806, 0.03379083, -0.15849613, -0.007379439, -0.041204378, 0.2061619, -0.09428316, 0.17680627, 0.102316566, 0.18570419, 0.108009264, 0.028006272, 0.13245699, -0.052746747, -0.08798907, 0.19906381, -0.03073499, 0.028859477, -0.1185326, 0.14732711, -0.036823884, 0.0070893243, 0.0044922875, 0.01269972, 0.09770313, -0.057602182, 0.06488682, 0.08542414, 0.04983047, 0.079991184, -0.024440076, -0.01615183, 0.08424596, 0.092317924, 0.13017476, 0.006356031, -0.14467077, -0.13982107, -0.08845274, 0.04191489, 0.215474, -0.12408582, 0.030086866, -0.026422339, 0.121005096, 0.048447773, -0.05364643, 0.1220707, 0.03590949, 0.05759167, -0.081410274, 0.0920113, 0.028770877, 0.0004995223, -0.017601795, -0.17500018, 0.010164062, 0.096610114, -0.013940563, -0.032680657, 0.06483406, 0.05814439, 0.3432126, -0.050533466, 0.101596, -0.00294172, 0.19237246, -0.026790328, 0.19825141, -0.08467871, -0.038883664, 0.06704717, 0.060492247, 0.0011585644, -0.032668836, -0.01801571, -0.023749184, -0.10688852, 0.05696195, 0.266794, 0.0026026482, 0.059255052, 0.029388813, 0.23744984, 0.08402649, -0.090232834, 0.08292756, -0.054546807, -0.04877713, -0.08120561, 0.015356117, 0.04093758, -0.053559102, 0.077600725, 0.043759305, -0.018697081, 0.06863834, 0.11292903, 0.003068052, ...]   \n",
              "\n",
              "     cluster  cluster_value  closeness_score  \n",
              "950  2       -1              7.472938         "
            ],
            "text/html": [
              "\n",
              "  <div id=\"df-23157397-6935-4dc9-b480-14eee553f694\">\n",
              "    <div class=\"colab-df-container\">\n",
              "      <div>\n",
              "<style scoped>\n",
              "    .dataframe tbody tr th:only-of-type {\n",
              "        vertical-align: middle;\n",
              "    }\n",
              "\n",
              "    .dataframe tbody tr th {\n",
              "        vertical-align: top;\n",
              "    }\n",
              "\n",
              "    .dataframe thead th {\n",
              "        text-align: right;\n",
              "    }\n",
              "</style>\n",
              "<table border=\"1\" class=\"dataframe\">\n",
              "  <thead>\n",
              "    <tr style=\"text-align: right;\">\n",
              "      <th></th>\n",
              "      <th>words</th>\n",
              "      <th>vectors</th>\n",
              "      <th>cluster</th>\n",
              "      <th>cluster_value</th>\n",
              "      <th>closeness_score</th>\n",
              "    </tr>\n",
              "  </thead>\n",
              "  <tbody>\n",
              "    <tr>\n",
              "      <th>950</th>\n",
              "      <td>dangerous</td>\n",
              "      <td>[0.06394868, -0.12075806, 0.03379083, -0.15849613, -0.007379439, -0.041204378, 0.2061619, -0.09428316, 0.17680627, 0.102316566, 0.18570419, 0.108009264, 0.028006272, 0.13245699, -0.052746747, -0.08798907, 0.19906381, -0.03073499, 0.028859477, -0.1185326, 0.14732711, -0.036823884, 0.0070893243, 0.0044922875, 0.01269972, 0.09770313, -0.057602182, 0.06488682, 0.08542414, 0.04983047, 0.079991184, -0.024440076, -0.01615183, 0.08424596, 0.092317924, 0.13017476, 0.006356031, -0.14467077, -0.13982107, -0.08845274, 0.04191489, 0.215474, -0.12408582, 0.030086866, -0.026422339, 0.121005096, 0.048447773, -0.05364643, 0.1220707, 0.03590949, 0.05759167, -0.081410274, 0.0920113, 0.028770877, 0.0004995223, -0.017601795, -0.17500018, 0.010164062, 0.096610114, -0.013940563, -0.032680657, 0.06483406, 0.05814439, 0.3432126, -0.050533466, 0.101596, -0.00294172, 0.19237246, -0.026790328, 0.19825141, -0.08467871, -0.038883664, 0.06704717, 0.060492247, 0.0011585644, -0.032668836, -0.01801571, -0.023749184, -0.10688852, 0.05696195, 0.266794, 0.0026026482, 0.059255052, 0.029388813, 0.23744984, 0.08402649, -0.090232834, 0.08292756, -0.054546807, -0.04877713, -0.08120561, 0.015356117, 0.04093758, -0.053559102, 0.077600725, 0.043759305, -0.018697081, 0.06863834, 0.11292903, 0.003068052, ...]</td>\n",
              "      <td>2</td>\n",
              "      <td>-1</td>\n",
              "      <td>7.472938</td>\n",
              "    </tr>\n",
              "  </tbody>\n",
              "</table>\n",
              "</div>\n",
              "      <button class=\"colab-df-convert\" onclick=\"convertToInteractive('df-23157397-6935-4dc9-b480-14eee553f694')\"\n",
              "              title=\"Convert this dataframe to an interactive table.\"\n",
              "              style=\"display:none;\">\n",
              "        \n",
              "  <svg xmlns=\"http://www.w3.org/2000/svg\" height=\"24px\"viewBox=\"0 0 24 24\"\n",
              "       width=\"24px\">\n",
              "    <path d=\"M0 0h24v24H0V0z\" fill=\"none\"/>\n",
              "    <path d=\"M18.56 5.44l.94 2.06.94-2.06 2.06-.94-2.06-.94-.94-2.06-.94 2.06-2.06.94zm-11 1L8.5 8.5l.94-2.06 2.06-.94-2.06-.94L8.5 2.5l-.94 2.06-2.06.94zm10 10l.94 2.06.94-2.06 2.06-.94-2.06-.94-.94-2.06-.94 2.06-2.06.94z\"/><path d=\"M17.41 7.96l-1.37-1.37c-.4-.4-.92-.59-1.43-.59-.52 0-1.04.2-1.43.59L10.3 9.45l-7.72 7.72c-.78.78-.78 2.05 0 2.83L4 21.41c.39.39.9.59 1.41.59.51 0 1.02-.2 1.41-.59l7.78-7.78 2.81-2.81c.8-.78.8-2.07 0-2.86zM5.41 20L4 18.59l7.72-7.72 1.47 1.35L5.41 20z\"/>\n",
              "  </svg>\n",
              "      </button>\n",
              "      \n",
              "  <style>\n",
              "    .colab-df-container {\n",
              "      display:flex;\n",
              "      flex-wrap:wrap;\n",
              "      gap: 12px;\n",
              "    }\n",
              "\n",
              "    .colab-df-convert {\n",
              "      background-color: #E8F0FE;\n",
              "      border: none;\n",
              "      border-radius: 50%;\n",
              "      cursor: pointer;\n",
              "      display: none;\n",
              "      fill: #1967D2;\n",
              "      height: 32px;\n",
              "      padding: 0 0 0 0;\n",
              "      width: 32px;\n",
              "    }\n",
              "\n",
              "    .colab-df-convert:hover {\n",
              "      background-color: #E2EBFA;\n",
              "      box-shadow: 0px 1px 2px rgba(60, 64, 67, 0.3), 0px 1px 3px 1px rgba(60, 64, 67, 0.15);\n",
              "      fill: #174EA6;\n",
              "    }\n",
              "\n",
              "    [theme=dark] .colab-df-convert {\n",
              "      background-color: #3B4455;\n",
              "      fill: #D2E3FC;\n",
              "    }\n",
              "\n",
              "    [theme=dark] .colab-df-convert:hover {\n",
              "      background-color: #434B5C;\n",
              "      box-shadow: 0px 1px 3px 1px rgba(0, 0, 0, 0.15);\n",
              "      filter: drop-shadow(0px 1px 2px rgba(0, 0, 0, 0.3));\n",
              "      fill: #FFFFFF;\n",
              "    }\n",
              "  </style>\n",
              "\n",
              "      <script>\n",
              "        const buttonEl =\n",
              "          document.querySelector('#df-23157397-6935-4dc9-b480-14eee553f694 button.colab-df-convert');\n",
              "        buttonEl.style.display =\n",
              "          google.colab.kernel.accessAllowed ? 'block' : 'none';\n",
              "\n",
              "        async function convertToInteractive(key) {\n",
              "          const element = document.querySelector('#df-23157397-6935-4dc9-b480-14eee553f694');\n",
              "          const dataTable =\n",
              "            await google.colab.kernel.invokeFunction('convertToInteractive',\n",
              "                                                     [key], {});\n",
              "          if (!dataTable) return;\n",
              "\n",
              "          const docLinkHtml = 'Like what you see? Visit the ' +\n",
              "            '<a target=\"_blank\" href=https://colab.research.google.com/notebooks/data_table.ipynb>data table notebook</a>'\n",
              "            + ' to learn more about interactive tables.';\n",
              "          element.innerHTML = '';\n",
              "          dataTable['output_type'] = 'display_data';\n",
              "          await google.colab.output.renderOutput(dataTable, element);\n",
              "          const docLink = document.createElement('div');\n",
              "          docLink.innerHTML = docLinkHtml;\n",
              "          element.appendChild(docLink);\n",
              "        }\n",
              "      </script>\n",
              "    </div>\n",
              "  </div>\n",
              "  "
            ]
          },
          "metadata": {},
          "execution_count": 256
        }
      ]
    },
    {
      "cell_type": "markdown",
      "source": [
        "### Sentiment analysis of words "
      ],
      "metadata": {
        "id": "ielOCxhVgGB1"
      }
    },
    {
      "cell_type": "code",
      "source": [
        "# Plotting pie chart of Sentiment Distribution of words\n",
        "emotion = {0: \"neutral\",\n",
        "           1: \"positive\",\n",
        "          -1: \"negative\"}\n",
        "\n",
        "words[\"sentiments\"]=words[\"cluster_value\"].map(emotion)\n",
        "\n",
        "\n",
        "fig = plt.gcf()\n",
        "fig.set_size_inches(7,7)\n",
        "colors = [\"cyan\",\"pink\",\"yellow\"]\n",
        "df_pie=words[\"sentiments\"].value_counts().reset_index()\n",
        "plt.pie(df_pie[\"sentiments\"],labels=df_pie[\"index\"],radius=2,colors=colors,autopct=\"%1.1f%%\")\n",
        "plt.axis('equal')\n",
        "plt.title(\"Sentiment Distribution of Words \", fontsize=20)\n",
        "plt.show()\n",
        "df_pie"
      ],
      "metadata": {
        "colab": {
          "base_uri": "https://localhost:8080/",
          "height": 732
        },
        "id": "YH87uP30ZWPt",
        "outputId": "fee1a664-4649-4a36-b8c3-29f719a7c280"
      },
      "execution_count": null,
      "outputs": [
        {
          "output_type": "display_data",
          "data": {
            "text/plain": [
              "<Figure size 700x700 with 1 Axes>"
            ],
            "image/png": "[encoded data removed]"
          },
          "metadata": {}
        },
        {
          "output_type": "execute_result",
          "data": {
            "text/plain": [
              "      index  sentiments\n",
              "0  negative  5120      \n",
              "1  positive  265       \n",
              "2  neutral   199       "
            ],
            "text/html": [
              "\n",
              "  <div id=\"df-ece2a5e9-0a9f-43d9-b648-b95e1a6d2195\">\n",
              "    <div class=\"colab-df-container\">\n",
              "      <div>\n",
              "<style scoped>\n",
              "    .dataframe tbody tr th:only-of-type {\n",
              "        vertical-align: middle;\n",
              "    }\n",
              "\n",
              "    .dataframe tbody tr th {\n",
              "        vertical-align: top;\n",
              "    }\n",
              "\n",
              "    .dataframe thead th {\n",
              "        text-align: right;\n",
              "    }\n",
              "</style>\n",
              "<table border=\"1\" class=\"dataframe\">\n",
              "  <thead>\n",
              "    <tr style=\"text-align: right;\">\n",
              "      <th></th>\n",
              "      <th>index</th>\n",
              "      <th>sentiments</th>\n",
              "    </tr>\n",
              "  </thead>\n",
              "  <tbody>\n",
              "    <tr>\n",
              "      <th>0</th>\n",
              "      <td>negative</td>\n",
              "      <td>5120</td>\n",
              "    </tr>\n",
              "    <tr>\n",
              "      <th>1</th>\n",
              "      <td>positive</td>\n",
              "      <td>265</td>\n",
              "    </tr>\n",
              "    <tr>\n",
              "      <th>2</th>\n",
              "      <td>neutral</td>\n",
              "      <td>199</td>\n",
              "    </tr>\n",
              "  </tbody>\n",
              "</table>\n",
              "</div>\n",
              "      <button class=\"colab-df-convert\" onclick=\"convertToInteractive('df-ece2a5e9-0a9f-43d9-b648-b95e1a6d2195')\"\n",
              "              title=\"Convert this dataframe to an interactive table.\"\n",
              "              style=\"display:none;\">\n",
              "        \n",
              "  <svg xmlns=\"http://www.w3.org/2000/svg\" height=\"24px\"viewBox=\"0 0 24 24\"\n",
              "       width=\"24px\">\n",
              "    <path d=\"M0 0h24v24H0V0z\" fill=\"none\"/>\n",
              "    <path d=\"M18.56 5.44l.94 2.06.94-2.06 2.06-.94-2.06-.94-.94-2.06-.94 2.06-2.06.94zm-11 1L8.5 8.5l.94-2.06 2.06-.94-2.06-.94L8.5 2.5l-.94 2.06-2.06.94zm10 10l.94 2.06.94-2.06 2.06-.94-2.06-.94-.94-2.06-.94 2.06-2.06.94z\"/><path d=\"M17.41 7.96l-1.37-1.37c-.4-.4-.92-.59-1.43-.59-.52 0-1.04.2-1.43.59L10.3 9.45l-7.72 7.72c-.78.78-.78 2.05 0 2.83L4 21.41c.39.39.9.59 1.41.59.51 0 1.02-.2 1.41-.59l7.78-7.78 2.81-2.81c.8-.78.8-2.07 0-2.86zM5.41 20L4 18.59l7.72-7.72 1.47 1.35L5.41 20z\"/>\n",
              "  </svg>\n",
              "      </button>\n",
              "      \n",
              "  <style>\n",
              "    .colab-df-container {\n",
              "      display:flex;\n",
              "      flex-wrap:wrap;\n",
              "      gap: 12px;\n",
              "    }\n",
              "\n",
              "    .colab-df-convert {\n",
              "      background-color: #E8F0FE;\n",
              "      border: none;\n",
              "      border-radius: 50%;\n",
              "      cursor: pointer;\n",
              "      display: none;\n",
              "      fill: #1967D2;\n",
              "      height: 32px;\n",
              "      padding: 0 0 0 0;\n",
              "      width: 32px;\n",
              "    }\n",
              "\n",
              "    .colab-df-convert:hover {\n",
              "      background-color: #E2EBFA;\n",
              "      box-shadow: 0px 1px 2px rgba(60, 64, 67, 0.3), 0px 1px 3px 1px rgba(60, 64, 67, 0.15);\n",
              "      fill: #174EA6;\n",
              "    }\n",
              "\n",
              "    [theme=dark] .colab-df-convert {\n",
              "      background-color: #3B4455;\n",
              "      fill: #D2E3FC;\n",
              "    }\n",
              "\n",
              "    [theme=dark] .colab-df-convert:hover {\n",
              "      background-color: #434B5C;\n",
              "      box-shadow: 0px 1px 3px 1px rgba(0, 0, 0, 0.15);\n",
              "      filter: drop-shadow(0px 1px 2px rgba(0, 0, 0, 0.3));\n",
              "      fill: #FFFFFF;\n",
              "    }\n",
              "  </style>\n",
              "\n",
              "      <script>\n",
              "        const buttonEl =\n",
              "          document.querySelector('#df-ece2a5e9-0a9f-43d9-b648-b95e1a6d2195 button.colab-df-convert');\n",
              "        buttonEl.style.display =\n",
              "          google.colab.kernel.accessAllowed ? 'block' : 'none';\n",
              "\n",
              "        async function convertToInteractive(key) {\n",
              "          const element = document.querySelector('#df-ece2a5e9-0a9f-43d9-b648-b95e1a6d2195');\n",
              "          const dataTable =\n",
              "            await google.colab.kernel.invokeFunction('convertToInteractive',\n",
              "                                                     [key], {});\n",
              "          if (!dataTable) return;\n",
              "\n",
              "          const docLinkHtml = 'Like what you see? Visit the ' +\n",
              "            '<a target=\"_blank\" href=https://colab.research.google.com/notebooks/data_table.ipynb>data table notebook</a>'\n",
              "            + ' to learn more about interactive tables.';\n",
              "          element.innerHTML = '';\n",
              "          dataTable['output_type'] = 'display_data';\n",
              "          await google.colab.output.renderOutput(dataTable, element);\n",
              "          const docLink = document.createElement('div');\n",
              "          docLink.innerHTML = docLinkHtml;\n",
              "          element.appendChild(docLink);\n",
              "        }\n",
              "      </script>\n",
              "    </div>\n",
              "  </div>\n",
              "  "
            ]
          },
          "metadata": {},
          "execution_count": 257
        }
      ]
    },
    {
      "cell_type": "markdown",
      "source": [
        "### Sentiment analysis of whole tweets"
      ],
      "metadata": {
        "id": "57f19Mdpge1V"
      }
    },
    {
      "cell_type": "code",
      "source": [
        "# creating a dictionary of the word and its cluster value\n",
        "words_dict = dict(zip(words.words, words.cluster_value))"
      ],
      "metadata": {
        "id": "ZL5F1OnVf-H5"
      },
      "execution_count": null,
      "outputs": []
    },
    {
      "cell_type": "code",
      "source": [
        "# define a function to get the sentiment for the entire tweet\n",
        "def get_sentiments(x,words_dict):\n",
        "    \n",
        "    total=0\n",
        "    count=0\n",
        "    test=x[\"tweet_tokens\"]\n",
        "    #print(test)\n",
        "    for t in test:\n",
        "        if words_dict.get(t):\n",
        "            total+=int(words_dict.get(t))\n",
        "            #print('adding', int(words_dict.get(t)))\n",
        "        count+=1\n",
        "    if count == 0:\n",
        "        sentiment = 'no data'\n",
        "    else:\n",
        "        avg=total/count\n",
        "        sentiment=-1 if avg<-0.15 else 1 if avg >0.15 else 0\n",
        "    return sentiment"
      ],
      "metadata": {
        "id": "5hahX59uf-KH"
      },
      "execution_count": null,
      "outputs": []
    },
    {
      "cell_type": "code",
      "source": [
        "tweets['sentiment'] = np.nan\n",
        "\n",
        "for i in range(len(tweets)):\n",
        "    x = tweets.iloc[i]\n",
        "    tweets['sentiment'][i] = get_sentiments(x, words_dict)"
      ],
      "metadata": {
        "id": "hD9whn1NrKgn"
      },
      "execution_count": null,
      "outputs": []
    },
    {
      "cell_type": "code",
      "source": [
        "tweets.head()"
      ],
      "metadata": {
        "id": "N5FRMJWShPiU"
      },
      "execution_count": null,
      "outputs": []
    },
    {
      "cell_type": "code",
      "source": [
        "# checking the value counts of each sentiment\n",
        "tweets[\"sentiment\"].value_counts()"
      ],
      "metadata": {
        "colab": {
          "base_uri": "https://localhost:8080/"
        },
        "id": "4n2dosNzhPko",
        "outputId": "d5045b22-71c1-4055-fa34-173b3fefd168"
      },
      "execution_count": null,
      "outputs": [
        {
          "output_type": "execute_result",
          "data": {
            "text/plain": [
              "-1.0       12541\n",
              "0.0        561  \n",
              "1          40   \n",
              "no data    1    \n",
              "Name: sentiment, dtype: int64"
            ]
          },
          "metadata": {},
          "execution_count": 262
        }
      ]
    },
    {
      "cell_type": "code",
      "source": [
        "# Plotting pie chart of Sentiment Distribution of tweets\n",
        "emotion = {0: \"neutral\",\n",
        "           1: \"positive\",\n",
        "          -1: \"negative\"}\n",
        "tweets[\"sentiments_val\"]=tweets[\"sentiment\"].map(emotion)\n",
        "data_pie=tweets[\"sentiments_val\"].value_counts().reset_index()\n",
        "fig = plt.gcf()\n",
        "fig.set_size_inches(7,7)\n",
        "colors = [\"yellow\",\"cyan\",\"pink\"]\n",
        "plt.pie(data_pie[\"sentiments_val\"],labels=data_pie[\"index\"],radius=2,autopct=\"%1.1f%%\", colors=colors)\n",
        "plt.axis('equal')\n",
        "plt.title(\"Sentiment Distribution of Tweets \", fontsize=20)\n",
        "#plt.savefig(\"images/Sentiment_Distribution.png\")\n",
        "plt.show()\n",
        "data_pie"
      ],
      "metadata": {
        "colab": {
          "base_uri": "https://localhost:8080/",
          "height": 732
        },
        "id": "eMk8x6KfjsLe",
        "outputId": "c3a01e45-d409-4dc3-fafc-4da70bdc2773"
      },
      "execution_count": null,
      "outputs": [
        {
          "output_type": "display_data",
          "data": {
            "text/plain": [
              "<Figure size 700x700 with 1 Axes>"
            ],
            "image/png": "[encoded data removed]"
          },
          "metadata": {}
        },
        {
          "output_type": "execute_result",
          "data": {
            "text/plain": [
              "      index  sentiments_val\n",
              "0  negative  12541         \n",
              "1  neutral   561           \n",
              "2  positive  40            "
            ],
            "text/html": [
              "\n",
              "  <div id=\"df-99d92804-a6b7-4f4f-b1de-d5732e3a29fe\">\n",
              "    <div class=\"colab-df-container\">\n",
              "      <div>\n",
              "<style scoped>\n",
              "    .dataframe tbody tr th:only-of-type {\n",
              "        vertical-align: middle;\n",
              "    }\n",
              "\n",
              "    .dataframe tbody tr th {\n",
              "        vertical-align: top;\n",
              "    }\n",
              "\n",
              "    .dataframe thead th {\n",
              "        text-align: right;\n",
              "    }\n",
              "</style>\n",
              "<table border=\"1\" class=\"dataframe\">\n",
              "  <thead>\n",
              "    <tr style=\"text-align: right;\">\n",
              "      <th></th>\n",
              "      <th>index</th>\n",
              "      <th>sentiments_val</th>\n",
              "    </tr>\n",
              "  </thead>\n",
              "  <tbody>\n",
              "    <tr>\n",
              "      <th>0</th>\n",
              "      <td>negative</td>\n",
              "      <td>12541</td>\n",
              "    </tr>\n",
              "    <tr>\n",
              "      <th>1</th>\n",
              "      <td>neutral</td>\n",
              "      <td>561</td>\n",
              "    </tr>\n",
              "    <tr>\n",
              "      <th>2</th>\n",
              "      <td>positive</td>\n",
              "      <td>40</td>\n",
              "    </tr>\n",
              "  </tbody>\n",
              "</table>\n",
              "</div>\n",
              "      <button class=\"colab-df-convert\" onclick=\"convertToInteractive('df-99d92804-a6b7-4f4f-b1de-d5732e3a29fe')\"\n",
              "              title=\"Convert this dataframe to an interactive table.\"\n",
              "              style=\"display:none;\">\n",
              "        \n",
              "  <svg xmlns=\"http://www.w3.org/2000/svg\" height=\"24px\"viewBox=\"0 0 24 24\"\n",
              "       width=\"24px\">\n",
              "    <path d=\"M0 0h24v24H0V0z\" fill=\"none\"/>\n",
              "    <path d=\"M18.56 5.44l.94 2.06.94-2.06 2.06-.94-2.06-.94-.94-2.06-.94 2.06-2.06.94zm-11 1L8.5 8.5l.94-2.06 2.06-.94-2.06-.94L8.5 2.5l-.94 2.06-2.06.94zm10 10l.94 2.06.94-2.06 2.06-.94-2.06-.94-.94-2.06-.94 2.06-2.06.94z\"/><path d=\"M17.41 7.96l-1.37-1.37c-.4-.4-.92-.59-1.43-.59-.52 0-1.04.2-1.43.59L10.3 9.45l-7.72 7.72c-.78.78-.78 2.05 0 2.83L4 21.41c.39.39.9.59 1.41.59.51 0 1.02-.2 1.41-.59l7.78-7.78 2.81-2.81c.8-.78.8-2.07 0-2.86zM5.41 20L4 18.59l7.72-7.72 1.47 1.35L5.41 20z\"/>\n",
              "  </svg>\n",
              "      </button>\n",
              "      \n",
              "  <style>\n",
              "    .colab-df-container {\n",
              "      display:flex;\n",
              "      flex-wrap:wrap;\n",
              "      gap: 12px;\n",
              "    }\n",
              "\n",
              "    .colab-df-convert {\n",
              "      background-color: #E8F0FE;\n",
              "      border: none;\n",
              "      border-radius: 50%;\n",
              "      cursor: pointer;\n",
              "      display: none;\n",
              "      fill: #1967D2;\n",
              "      height: 32px;\n",
              "      padding: 0 0 0 0;\n",
              "      width: 32px;\n",
              "    }\n",
              "\n",
              "    .colab-df-convert:hover {\n",
              "      background-color: #E2EBFA;\n",
              "      box-shadow: 0px 1px 2px rgba(60, 64, 67, 0.3), 0px 1px 3px 1px rgba(60, 64, 67, 0.15);\n",
              "      fill: #174EA6;\n",
              "    }\n",
              "\n",
              "    [theme=dark] .colab-df-convert {\n",
              "      background-color: #3B4455;\n",
              "      fill: #D2E3FC;\n",
              "    }\n",
              "\n",
              "    [theme=dark] .colab-df-convert:hover {\n",
              "      background-color: #434B5C;\n",
              "      box-shadow: 0px 1px 3px 1px rgba(0, 0, 0, 0.15);\n",
              "      filter: drop-shadow(0px 1px 2px rgba(0, 0, 0, 0.3));\n",
              "      fill: #FFFFFF;\n",
              "    }\n",
              "  </style>\n",
              "\n",
              "      <script>\n",
              "        const buttonEl =\n",
              "          document.querySelector('#df-99d92804-a6b7-4f4f-b1de-d5732e3a29fe button.colab-df-convert');\n",
              "        buttonEl.style.display =\n",
              "          google.colab.kernel.accessAllowed ? 'block' : 'none';\n",
              "\n",
              "        async function convertToInteractive(key) {\n",
              "          const element = document.querySelector('#df-99d92804-a6b7-4f4f-b1de-d5732e3a29fe');\n",
              "          const dataTable =\n",
              "            await google.colab.kernel.invokeFunction('convertToInteractive',\n",
              "                                                     [key], {});\n",
              "          if (!dataTable) return;\n",
              "\n",
              "          const docLinkHtml = 'Like what you see? Visit the ' +\n",
              "            '<a target=\"_blank\" href=https://colab.research.google.com/notebooks/data_table.ipynb>data table notebook</a>'\n",
              "            + ' to learn more about interactive tables.';\n",
              "          element.innerHTML = '';\n",
              "          dataTable['output_type'] = 'display_data';\n",
              "          await google.colab.output.renderOutput(dataTable, element);\n",
              "          const docLink = document.createElement('div');\n",
              "          docLink.innerHTML = docLinkHtml;\n",
              "          element.appendChild(docLink);\n",
              "        }\n",
              "      </script>\n",
              "    </div>\n",
              "  </div>\n",
              "  "
            ]
          },
          "metadata": {},
          "execution_count": 263
        }
      ]
    },
    {
      "cell_type": "code",
      "source": [
        "# some positive tweets\n",
        "list(tweets[tweets[\"sentiment\"]==-1][\"cleaned_tweet\"][400:500])"
      ],
      "metadata": {
        "id": "iCNrACjfjsOI"
      },
      "execution_count": null,
      "outputs": []
    },
    {
      "cell_type": "markdown",
      "source": [
        "### VADER "
      ],
      "metadata": {
        "id": "ST6_2klepxab"
      }
    },
    {
      "cell_type": "code",
      "source": [
        "# import the sentiment analyzer \n",
        "nltk.download('vader_lexicon')\n",
        "sid = SentimentIntensityAnalyzer()"
      ],
      "metadata": {
        "colab": {
          "base_uri": "https://localhost:8080/"
        },
        "id": "YxqmdC8Dkvi_",
        "outputId": "c5bb05f7-4028-4ced-d377-79281d194305"
      },
      "execution_count": null,
      "outputs": [
        {
          "output_type": "stream",
          "name": "stderr",
          "text": [
            "[nltk_data] Downloading package vader_lexicon to /root/nltk_data...\n",
            "[nltk_data]   Package vader_lexicon is already up-to-date!\n"
          ]
        }
      ]
    },
    {
      "cell_type": "code",
      "source": [
        "# run some tests to make sure everything works and makes sense\n",
        "cl_tweet = tweets['cleaned_tweet'].iloc[150]\n",
        "cl_tweet"
      ],
      "metadata": {
        "colab": {
          "base_uri": "https://localhost:8080/",
          "height": 35
        },
        "id": "8uZKNxVpkvlS",
        "outputId": "05d48c95-e690-466b-ccb4-32db46c40c99"
      },
      "execution_count": null,
      "outputs": [
        {
          "output_type": "execute_result",
          "data": {
            "text/plain": [
              "'imagine landscape gpt get extremely interest people see significant advantage use assistant moment ai human powerful space right however develop rapidly'"
            ],
            "application/vnd.google.colaboratory.intrinsic+json": {
              "type": "string"
            }
          },
          "metadata": {},
          "execution_count": 267
        }
      ]
    },
    {
      "cell_type": "code",
      "source": [
        "tweets = tweets[tweets['cleaned_tweet'].notna()]"
      ],
      "metadata": {
        "id": "z3E9rLvhkvnv"
      },
      "execution_count": null,
      "outputs": []
    },
    {
      "cell_type": "code",
      "source": [
        "len(tweets)"
      ],
      "metadata": {
        "colab": {
          "base_uri": "https://localhost:8080/"
        },
        "id": "bOQ1iy7Hp8QZ",
        "outputId": "26115136-54e0-4f99-df0a-1c9b75213213"
      },
      "execution_count": null,
      "outputs": [
        {
          "output_type": "execute_result",
          "data": {
            "text/plain": [
              "20465"
            ]
          },
          "metadata": {},
          "execution_count": 269
        }
      ]
    },
    {
      "cell_type": "code",
      "source": [
        "sid.polarity_scores(cl_tweet)"
      ],
      "metadata": {
        "colab": {
          "base_uri": "https://localhost:8080/"
        },
        "id": "I9svZOUsp8Sv",
        "outputId": "91840c95-ff7f-457a-e839-909542494bae"
      },
      "execution_count": null,
      "outputs": [
        {
          "output_type": "execute_result",
          "data": {
            "text/plain": [
              "{'neg': 0.0, 'neu': 0.632, 'pos': 0.368, 'compound': 0.8357}"
            ]
          },
          "metadata": {},
          "execution_count": 270
        }
      ]
    },
    {
      "cell_type": "code",
      "source": [
        "# apply the polarity scores function from the VADER package onto cleaned_tweet column\n",
        "tweets['sentiments_vader'] = tweets['cleaned_tweet'].apply(lambda tweet: sid.polarity_scores(tweet))\n",
        "\n",
        "tweets.head()"
      ],
      "metadata": {
        "colab": {
          "base_uri": "https://localhost:8080/",
          "height": 1000
        },
        "id": "bXFmPJAhp8U_",
        "outputId": "0a853342-ecc3-44a3-db11-6983149c396b"
      },
      "execution_count": null,
      "outputs": [
        {
          "output_type": "execute_result",
          "data": {
            "text/plain": [
              "                        date  \\\n",
              "0  2023-04-12 20:05:08+00:00   \n",
              "1  2023-04-12 20:05:06+00:00   \n",
              "2  2023-04-12 20:05:04+00:00   \n",
              "3  2023-04-12 20:05:02+00:00   \n",
              "4  2023-04-12 20:04:58+00:00   \n",
              "\n",
              "                                                                                                                                                                                                                                    text  \\\n",
              "0  @100xAltcoinGems @NeuroniAI $NEURONI\\n\\n Join our official Telegram group to stay tuned for the latest Neuroni AI updates and news. \\n⪼ @NeuroniAI\\n \\n#AI #GPT4 #506x #NeuroniAI #Neuroni                                              \n",
              "1  @100xAltcoinGems @NeuroniAI $NEURONI\\n\\n Invest in $NEURONI and be part of our project reserve, with a total supply of 10M tokens and no dev tokens. \\n⪼ @NeuroniAI\\n \\n#AI #GPT4 #504x #NeuroniAI #Neuroni                             \n",
              "2  @100xAltcoinGems @NeuroniAI $NEURONI\\n\\n Get ready for Neuroni AI Bot, available for free with all its features until Phase 3 of our roadmap. \\n⪼ @NeuroniAI\\n \\n#AI #GPT4 #502x #NeuroniAI #Neuroni                                    \n",
              "3  @100xAltcoinGems @NeuroniAI $NEURONI\\n\\n Want Neuroni AI in your Telegram group? Choose our Premium subscription for unlimited requests, priority access to updates, and more. \\n⪼ @NeuroniAI\\n \\n#AI #GPT4 #500x #NeuroniAI #Neuroni   \n",
              "4  @100xAltcoinGems $NEURONI\\n\\n Discover the latest Neuroni AI functions, including moderation for Telegram groups, premium user options, and more. \\n⪼ @NeuroniAI\\n \\n#AI #GPT4 #455x #NeuroniAI #Neuroni \\nhttps://t.co/MTWGnV6z9J      \n",
              "\n",
              "  user_name user_location    user_description               user_created  \\\n",
              "0  fuari     Cyberspace    beautiful together  2022-12-27 16:50:49+00:00   \n",
              "1  fuari     Cyberspace    beautiful together  2022-12-27 16:50:49+00:00   \n",
              "2  fuari     Cyberspace    beautiful together  2022-12-27 16:50:49+00:00   \n",
              "3  fuari     Cyberspace    beautiful together  2022-12-27 16:50:49+00:00   \n",
              "4  fuari     Cyberspace    beautiful together  2022-12-27 16:50:49+00:00   \n",
              "\n",
              "   user_followers  user_friends  user_favourites  user_verified hashtags  \\\n",
              "0  57              170           446              False          NaN       \n",
              "1  57              170           446              False          NaN       \n",
              "2  57              170           446              False          NaN       \n",
              "3  57              170           446              False          NaN       \n",
              "4  57              170           446              False          NaN       \n",
              "\n",
              "                source  \\\n",
              "0  Twitter for Android   \n",
              "1  Twitter for Android   \n",
              "2  Twitter for Android   \n",
              "3  Twitter for Android   \n",
              "4  Twitter for Android   \n",
              "\n",
              "                                                                                                                                                                                                                               TweetOrig  \\\n",
              "0  @100xAltcoinGems @NeuroniAI $NEURONI\\n\\n Join our official Telegram group to stay tuned for the latest Neuroni AI updates and news. \\n⪼ @NeuroniAI\\n \\n#AI #GPT4 #506x #NeuroniAI #Neuroni                                              \n",
              "1  @100xAltcoinGems @NeuroniAI $NEURONI\\n\\n Invest in $NEURONI and be part of our project reserve, with a total supply of 10M tokens and no dev tokens. \\n⪼ @NeuroniAI\\n \\n#AI #GPT4 #504x #NeuroniAI #Neuroni                             \n",
              "2  @100xAltcoinGems @NeuroniAI $NEURONI\\n\\n Get ready for Neuroni AI Bot, available for free with all its features until Phase 3 of our roadmap. \\n⪼ @NeuroniAI\\n \\n#AI #GPT4 #502x #NeuroniAI #Neuroni                                    \n",
              "3  @100xAltcoinGems @NeuroniAI $NEURONI\\n\\n Want Neuroni AI in your Telegram group? Choose our Premium subscription for unlimited requests, priority access to updates, and more. \\n⪼ @NeuroniAI\\n \\n#AI #GPT4 #500x #NeuroniAI #Neuroni   \n",
              "4  @100xAltcoinGems $NEURONI\\n\\n Discover the latest Neuroni AI functions, including moderation for Telegram groups, premium user options, and more. \\n⪼ @NeuroniAI\\n \\n#AI #GPT4 #455x #NeuroniAI #Neuroni \\nhttps://t.co/MTWGnV6z9J      \n",
              "\n",
              "                                                                                                                 tweet_tokens  \\\n",
              "0  [neuroni, join, official, telegram, group, stay, tune, latest, neuroni, ai, update, news]                                    \n",
              "1  [neuroni, invest, neuroni, part, project, reserve, total, supply, 10m, token, dev, token]                                    \n",
              "2  [neuroni, get, ready, neuroni, ai, bot, available, free, feature, phase, roadmap]                                            \n",
              "3  [neuroni, want, neuroni, ai, telegram, group, choose, premium, subscription, unlimited, request, priority, access, update]   \n",
              "4  [neuroni, discover, latest, neuroni, ai, function, include, moderation, telegram, group, premium, user, option]              \n",
              "\n",
              "                                                                                                 cleaned_tweet  \\\n",
              "0  neuroni join official telegram group stay tune latest neuroni ai update news                                  \n",
              "1  neuroni invest neuroni part project reserve total supply 10m token dev token                                  \n",
              "2  neuroni get ready neuroni ai bot available free feature phase roadmap                                         \n",
              "3  neuroni want neuroni ai telegram group choose premium subscription unlimited request priority access update   \n",
              "4  neuroni discover latest neuroni ai function include moderation telegram group premium user option             \n",
              "\n",
              "  sentiment sentiments_val  \\\n",
              "0 -1.0       negative        \n",
              "1 -1.0       negative        \n",
              "2 -1.0       negative        \n",
              "3 -1.0       negative        \n",
              "4 -1.0       negative        \n",
              "\n",
              "                                               sentiments_vader  \n",
              "0  {'neg': 0.0, 'neu': 0.833, 'pos': 0.167, 'compound': 0.296}   \n",
              "1  {'neg': 0.0, 'neu': 1.0, 'pos': 0.0, 'compound': 0.0}         \n",
              "2  {'neg': 0.0, 'neu': 0.608, 'pos': 0.392, 'compound': 0.7003}  \n",
              "3  {'neg': 0.0, 'neu': 0.909, 'pos': 0.091, 'compound': 0.0772}  \n",
              "4  {'neg': 0.0, 'neu': 1.0, 'pos': 0.0, 'compound': 0.0}         "
            ],
            "text/html": [
              "\n",
              "  <div id=\"df-6f4304f6-047b-40a7-8d58-76ea276ce5aa\">\n",
              "    <div class=\"colab-df-container\">\n",
              "      <div>\n",
              "<style scoped>\n",
              "    .dataframe tbody tr th:only-of-type {\n",
              "        vertical-align: middle;\n",
              "    }\n",
              "\n",
              "    .dataframe tbody tr th {\n",
              "        vertical-align: top;\n",
              "    }\n",
              "\n",
              "    .dataframe thead th {\n",
              "        text-align: right;\n",
              "    }\n",
              "</style>\n",
              "<table border=\"1\" class=\"dataframe\">\n",
              "  <thead>\n",
              "    <tr style=\"text-align: right;\">\n",
              "      <th></th>\n",
              "      <th>date</th>\n",
              "      <th>text</th>\n",
              "      <th>user_name</th>\n",
              "      <th>user_location</th>\n",
              "      <th>user_description</th>\n",
              "      <th>user_created</th>\n",
              "      <th>user_followers</th>\n",
              "      <th>user_friends</th>\n",
              "      <th>user_favourites</th>\n",
              "      <th>user_verified</th>\n",
              "      <th>hashtags</th>\n",
              "      <th>source</th>\n",
              "      <th>TweetOrig</th>\n",
              "      <th>tweet_tokens</th>\n",
              "      <th>cleaned_tweet</th>\n",
              "      <th>sentiment</th>\n",
              "      <th>sentiments_val</th>\n",
              "      <th>sentiments_vader</th>\n",
              "    </tr>\n",
              "  </thead>\n",
              "  <tbody>\n",
              "    <tr>\n",
              "      <th>0</th>\n",
              "      <td>2023-04-12 20:05:08+00:00</td>\n",
              "      <td>@100xAltcoinGems @NeuroniAI $NEURONI\\n\\n Join our official Telegram group to stay tuned for the latest Neuroni AI updates and news. \\n⪼ @NeuroniAI\\n \\n#AI #GPT4 #506x #NeuroniAI #Neuroni</td>\n",
              "      <td>fuari</td>\n",
              "      <td>Cyberspace</td>\n",
              "      <td>beautiful together</td>\n",
              "      <td>2022-12-27 16:50:49+00:00</td>\n",
              "      <td>57</td>\n",
              "      <td>170</td>\n",
              "      <td>446</td>\n",
              "      <td>False</td>\n",
              "      <td>NaN</td>\n",
              "      <td>Twitter for Android</td>\n",
              "      <td>@100xAltcoinGems @NeuroniAI $NEURONI\\n\\n Join our official Telegram group to stay tuned for the latest Neuroni AI updates and news. \\n⪼ @NeuroniAI\\n \\n#AI #GPT4 #506x #NeuroniAI #Neuroni</td>\n",
              "      <td>[neuroni, join, official, telegram, group, stay, tune, latest, neuroni, ai, update, news]</td>\n",
              "      <td>neuroni join official telegram group stay tune latest neuroni ai update news</td>\n",
              "      <td>-1.0</td>\n",
              "      <td>negative</td>\n",
              "      <td>{'neg': 0.0, 'neu': 0.833, 'pos': 0.167, 'compound': 0.296}</td>\n",
              "    </tr>\n",
              "    <tr>\n",
              "      <th>1</th>\n",
              "      <td>2023-04-12 20:05:06+00:00</td>\n",
              "      <td>@100xAltcoinGems @NeuroniAI $NEURONI\\n\\n Invest in $NEURONI and be part of our project reserve, with a total supply of 10M tokens and no dev tokens. \\n⪼ @NeuroniAI\\n \\n#AI #GPT4 #504x #NeuroniAI #Neuroni</td>\n",
              "      <td>fuari</td>\n",
              "      <td>Cyberspace</td>\n",
              "      <td>beautiful together</td>\n",
              "      <td>2022-12-27 16:50:49+00:00</td>\n",
              "      <td>57</td>\n",
              "      <td>170</td>\n",
              "      <td>446</td>\n",
              "      <td>False</td>\n",
              "      <td>NaN</td>\n",
              "      <td>Twitter for Android</td>\n",
              "      <td>@100xAltcoinGems @NeuroniAI $NEURONI\\n\\n Invest in $NEURONI and be part of our project reserve, with a total supply of 10M tokens and no dev tokens. \\n⪼ @NeuroniAI\\n \\n#AI #GPT4 #504x #NeuroniAI #Neuroni</td>\n",
              "      <td>[neuroni, invest, neuroni, part, project, reserve, total, supply, 10m, token, dev, token]</td>\n",
              "      <td>neuroni invest neuroni part project reserve total supply 10m token dev token</td>\n",
              "      <td>-1.0</td>\n",
              "      <td>negative</td>\n",
              "      <td>{'neg': 0.0, 'neu': 1.0, 'pos': 0.0, 'compound': 0.0}</td>\n",
              "    </tr>\n",
              "    <tr>\n",
              "      <th>2</th>\n",
              "      <td>2023-04-12 20:05:04+00:00</td>\n",
              "      <td>@100xAltcoinGems @NeuroniAI $NEURONI\\n\\n Get ready for Neuroni AI Bot, available for free with all its features until Phase 3 of our roadmap. \\n⪼ @NeuroniAI\\n \\n#AI #GPT4 #502x #NeuroniAI #Neuroni</td>\n",
              "      <td>fuari</td>\n",
              "      <td>Cyberspace</td>\n",
              "      <td>beautiful together</td>\n",
              "      <td>2022-12-27 16:50:49+00:00</td>\n",
              "      <td>57</td>\n",
              "      <td>170</td>\n",
              "      <td>446</td>\n",
              "      <td>False</td>\n",
              "      <td>NaN</td>\n",
              "      <td>Twitter for Android</td>\n",
              "      <td>@100xAltcoinGems @NeuroniAI $NEURONI\\n\\n Get ready for Neuroni AI Bot, available for free with all its features until Phase 3 of our roadmap. \\n⪼ @NeuroniAI\\n \\n#AI #GPT4 #502x #NeuroniAI #Neuroni</td>\n",
              "      <td>[neuroni, get, ready, neuroni, ai, bot, available, free, feature, phase, roadmap]</td>\n",
              "      <td>neuroni get ready neuroni ai bot available free feature phase roadmap</td>\n",
              "      <td>-1.0</td>\n",
              "      <td>negative</td>\n",
              "      <td>{'neg': 0.0, 'neu': 0.608, 'pos': 0.392, 'compound': 0.7003}</td>\n",
              "    </tr>\n",
              "    <tr>\n",
              "      <th>3</th>\n",
              "      <td>2023-04-12 20:05:02+00:00</td>\n",
              "      <td>@100xAltcoinGems @NeuroniAI $NEURONI\\n\\n Want Neuroni AI in your Telegram group? Choose our Premium subscription for unlimited requests, priority access to updates, and more. \\n⪼ @NeuroniAI\\n \\n#AI #GPT4 #500x #NeuroniAI #Neuroni</td>\n",
              "      <td>fuari</td>\n",
              "      <td>Cyberspace</td>\n",
              "      <td>beautiful together</td>\n",
              "      <td>2022-12-27 16:50:49+00:00</td>\n",
              "      <td>57</td>\n",
              "      <td>170</td>\n",
              "      <td>446</td>\n",
              "      <td>False</td>\n",
              "      <td>NaN</td>\n",
              "      <td>Twitter for Android</td>\n",
              "      <td>@100xAltcoinGems @NeuroniAI $NEURONI\\n\\n Want Neuroni AI in your Telegram group? Choose our Premium subscription for unlimited requests, priority access to updates, and more. \\n⪼ @NeuroniAI\\n \\n#AI #GPT4 #500x #NeuroniAI #Neuroni</td>\n",
              "      <td>[neuroni, want, neuroni, ai, telegram, group, choose, premium, subscription, unlimited, request, priority, access, update]</td>\n",
              "      <td>neuroni want neuroni ai telegram group choose premium subscription unlimited request priority access update</td>\n",
              "      <td>-1.0</td>\n",
              "      <td>negative</td>\n",
              "      <td>{'neg': 0.0, 'neu': 0.909, 'pos': 0.091, 'compound': 0.0772}</td>\n",
              "    </tr>\n",
              "    <tr>\n",
              "      <th>4</th>\n",
              "      <td>2023-04-12 20:04:58+00:00</td>\n",
              "      <td>@100xAltcoinGems $NEURONI\\n\\n Discover the latest Neuroni AI functions, including moderation for Telegram groups, premium user options, and more. \\n⪼ @NeuroniAI\\n \\n#AI #GPT4 #455x #NeuroniAI #Neuroni \\nhttps://t.co/MTWGnV6z9J</td>\n",
              "      <td>fuari</td>\n",
              "      <td>Cyberspace</td>\n",
              "      <td>beautiful together</td>\n",
              "      <td>2022-12-27 16:50:49+00:00</td>\n",
              "      <td>57</td>\n",
              "      <td>170</td>\n",
              "      <td>446</td>\n",
              "      <td>False</td>\n",
              "      <td>NaN</td>\n",
              "      <td>Twitter for Android</td>\n",
              "      <td>@100xAltcoinGems $NEURONI\\n\\n Discover the latest Neuroni AI functions, including moderation for Telegram groups, premium user options, and more. \\n⪼ @NeuroniAI\\n \\n#AI #GPT4 #455x #NeuroniAI #Neuroni \\nhttps://t.co/MTWGnV6z9J</td>\n",
              "      <td>[neuroni, discover, latest, neuroni, ai, function, include, moderation, telegram, group, premium, user, option]</td>\n",
              "      <td>neuroni discover latest neuroni ai function include moderation telegram group premium user option</td>\n",
              "      <td>-1.0</td>\n",
              "      <td>negative</td>\n",
              "      <td>{'neg': 0.0, 'neu': 1.0, 'pos': 0.0, 'compound': 0.0}</td>\n",
              "    </tr>\n",
              "  </tbody>\n",
              "</table>\n",
              "</div>\n",
              "      <button class=\"colab-df-convert\" onclick=\"convertToInteractive('df-6f4304f6-047b-40a7-8d58-76ea276ce5aa')\"\n",
              "              title=\"Convert this dataframe to an interactive table.\"\n",
              "              style=\"display:none;\">\n",
              "        \n",
              "  <svg xmlns=\"http://www.w3.org/2000/svg\" height=\"24px\"viewBox=\"0 0 24 24\"\n",
              "       width=\"24px\">\n",
              "    <path d=\"M0 0h24v24H0V0z\" fill=\"none\"/>\n",
              "    <path d=\"M18.56 5.44l.94 2.06.94-2.06 2.06-.94-2.06-.94-.94-2.06-.94 2.06-2.06.94zm-11 1L8.5 8.5l.94-2.06 2.06-.94-2.06-.94L8.5 2.5l-.94 2.06-2.06.94zm10 10l.94 2.06.94-2.06 2.06-.94-2.06-.94-.94-2.06-.94 2.06-2.06.94z\"/><path d=\"M17.41 7.96l-1.37-1.37c-.4-.4-.92-.59-1.43-.59-.52 0-1.04.2-1.43.59L10.3 9.45l-7.72 7.72c-.78.78-.78 2.05 0 2.83L4 21.41c.39.39.9.59 1.41.59.51 0 1.02-.2 1.41-.59l7.78-7.78 2.81-2.81c.8-.78.8-2.07 0-2.86zM5.41 20L4 18.59l7.72-7.72 1.47 1.35L5.41 20z\"/>\n",
              "  </svg>\n",
              "      </button>\n",
              "      \n",
              "  <style>\n",
              "    .colab-df-container {\n",
              "      display:flex;\n",
              "      flex-wrap:wrap;\n",
              "      gap: 12px;\n",
              "    }\n",
              "\n",
              "    .colab-df-convert {\n",
              "      background-color: #E8F0FE;\n",
              "      border: none;\n",
              "      border-radius: 50%;\n",
              "      cursor: pointer;\n",
              "      display: none;\n",
              "      fill: #1967D2;\n",
              "      height: 32px;\n",
              "      padding: 0 0 0 0;\n",
              "      width: 32px;\n",
              "    }\n",
              "\n",
              "    .colab-df-convert:hover {\n",
              "      background-color: #E2EBFA;\n",
              "      box-shadow: 0px 1px 2px rgba(60, 64, 67, 0.3), 0px 1px 3px 1px rgba(60, 64, 67, 0.15);\n",
              "      fill: #174EA6;\n",
              "    }\n",
              "\n",
              "    [theme=dark] .colab-df-convert {\n",
              "      background-color: #3B4455;\n",
              "      fill: #D2E3FC;\n",
              "    }\n",
              "\n",
              "    [theme=dark] .colab-df-convert:hover {\n",
              "      background-color: #434B5C;\n",
              "      box-shadow: 0px 1px 3px 1px rgba(0, 0, 0, 0.15);\n",
              "      filter: drop-shadow(0px 1px 2px rgba(0, 0, 0, 0.3));\n",
              "      fill: #FFFFFF;\n",
              "    }\n",
              "  </style>\n",
              "\n",
              "      <script>\n",
              "        const buttonEl =\n",
              "          document.querySelector('#df-6f4304f6-047b-40a7-8d58-76ea276ce5aa button.colab-df-convert');\n",
              "        buttonEl.style.display =\n",
              "          google.colab.kernel.accessAllowed ? 'block' : 'none';\n",
              "\n",
              "        async function convertToInteractive(key) {\n",
              "          const element = document.querySelector('#df-6f4304f6-047b-40a7-8d58-76ea276ce5aa');\n",
              "          const dataTable =\n",
              "            await google.colab.kernel.invokeFunction('convertToInteractive',\n",
              "                                                     [key], {});\n",
              "          if (!dataTable) return;\n",
              "\n",
              "          const docLinkHtml = 'Like what you see? Visit the ' +\n",
              "            '<a target=\"_blank\" href=https://colab.research.google.com/notebooks/data_table.ipynb>data table notebook</a>'\n",
              "            + ' to learn more about interactive tables.';\n",
              "          element.innerHTML = '';\n",
              "          dataTable['output_type'] = 'display_data';\n",
              "          await google.colab.output.renderOutput(dataTable, element);\n",
              "          const docLink = document.createElement('div');\n",
              "          docLink.innerHTML = docLinkHtml;\n",
              "          element.appendChild(docLink);\n",
              "        }\n",
              "      </script>\n",
              "    </div>\n",
              "  </div>\n",
              "  "
            ]
          },
          "metadata": {},
          "execution_count": 271
        }
      ]
    },
    {
      "cell_type": "code",
      "source": [
        "# calculate the comound VADER score for every tweet\n",
        "tweets['compound']  = tweets['sentiments_vader'].apply(lambda score_dict: score_dict['compound'])"
      ],
      "metadata": {
        "id": "1TFOz0Wqp8XE"
      },
      "execution_count": null,
      "outputs": []
    },
    {
      "cell_type": "code",
      "source": [
        "# turn VADER numeric output into clusters for better interpretation (one of the ways)\n",
        "def sentimentPredict(score):\n",
        "    if score >= 0.05:\n",
        "        return \"positive\"\n",
        "    elif score <= -0.05: \n",
        "        return \"negative\"\n",
        "    else:\n",
        "        return \"neutral\""
      ],
      "metadata": {
        "id": "mOz_B8JUqSPf"
      },
      "execution_count": null,
      "outputs": []
    },
    {
      "cell_type": "code",
      "source": [
        "# calculate the compound VADER score for every tweets by mapping the function from the previous cell\n",
        "tweets['sentiment_vader'] =tweets['compound'].apply(lambda x: sentimentPredict(x))\n",
        "tweets.head(5)"
      ],
      "metadata": {
        "colab": {
          "base_uri": "https://localhost:8080/",
          "height": 1000
        },
        "id": "vtQHaunGqSR2",
        "outputId": "134ea8c0-4bb8-42cc-b96d-e77583413dd1"
      },
      "execution_count": null,
      "outputs": [
        {
          "output_type": "execute_result",
          "data": {
            "text/plain": [
              "                        date  \\\n",
              "0  2023-04-12 20:05:08+00:00   \n",
              "1  2023-04-12 20:05:06+00:00   \n",
              "2  2023-04-12 20:05:04+00:00   \n",
              "3  2023-04-12 20:05:02+00:00   \n",
              "4  2023-04-12 20:04:58+00:00   \n",
              "\n",
              "                                                                                                                                                                                                                                    text  \\\n",
              "0  @100xAltcoinGems @NeuroniAI $NEURONI\\n\\n Join our official Telegram group to stay tuned for the latest Neuroni AI updates and news. \\n⪼ @NeuroniAI\\n \\n#AI #GPT4 #506x #NeuroniAI #Neuroni                                              \n",
              "1  @100xAltcoinGems @NeuroniAI $NEURONI\\n\\n Invest in $NEURONI and be part of our project reserve, with a total supply of 10M tokens and no dev tokens. \\n⪼ @NeuroniAI\\n \\n#AI #GPT4 #504x #NeuroniAI #Neuroni                             \n",
              "2  @100xAltcoinGems @NeuroniAI $NEURONI\\n\\n Get ready for Neuroni AI Bot, available for free with all its features until Phase 3 of our roadmap. \\n⪼ @NeuroniAI\\n \\n#AI #GPT4 #502x #NeuroniAI #Neuroni                                    \n",
              "3  @100xAltcoinGems @NeuroniAI $NEURONI\\n\\n Want Neuroni AI in your Telegram group? Choose our Premium subscription for unlimited requests, priority access to updates, and more. \\n⪼ @NeuroniAI\\n \\n#AI #GPT4 #500x #NeuroniAI #Neuroni   \n",
              "4  @100xAltcoinGems $NEURONI\\n\\n Discover the latest Neuroni AI functions, including moderation for Telegram groups, premium user options, and more. \\n⪼ @NeuroniAI\\n \\n#AI #GPT4 #455x #NeuroniAI #Neuroni \\nhttps://t.co/MTWGnV6z9J      \n",
              "\n",
              "  user_name user_location    user_description               user_created  \\\n",
              "0  fuari     Cyberspace    beautiful together  2022-12-27 16:50:49+00:00   \n",
              "1  fuari     Cyberspace    beautiful together  2022-12-27 16:50:49+00:00   \n",
              "2  fuari     Cyberspace    beautiful together  2022-12-27 16:50:49+00:00   \n",
              "3  fuari     Cyberspace    beautiful together  2022-12-27 16:50:49+00:00   \n",
              "4  fuari     Cyberspace    beautiful together  2022-12-27 16:50:49+00:00   \n",
              "\n",
              "   user_followers  user_friends  user_favourites  user_verified hashtags  \\\n",
              "0  57              170           446              False          NaN       \n",
              "1  57              170           446              False          NaN       \n",
              "2  57              170           446              False          NaN       \n",
              "3  57              170           446              False          NaN       \n",
              "4  57              170           446              False          NaN       \n",
              "\n",
              "                source  \\\n",
              "0  Twitter for Android   \n",
              "1  Twitter for Android   \n",
              "2  Twitter for Android   \n",
              "3  Twitter for Android   \n",
              "4  Twitter for Android   \n",
              "\n",
              "                                                                                                                                                                                                                               TweetOrig  \\\n",
              "0  @100xAltcoinGems @NeuroniAI $NEURONI\\n\\n Join our official Telegram group to stay tuned for the latest Neuroni AI updates and news. \\n⪼ @NeuroniAI\\n \\n#AI #GPT4 #506x #NeuroniAI #Neuroni                                              \n",
              "1  @100xAltcoinGems @NeuroniAI $NEURONI\\n\\n Invest in $NEURONI and be part of our project reserve, with a total supply of 10M tokens and no dev tokens. \\n⪼ @NeuroniAI\\n \\n#AI #GPT4 #504x #NeuroniAI #Neuroni                             \n",
              "2  @100xAltcoinGems @NeuroniAI $NEURONI\\n\\n Get ready for Neuroni AI Bot, available for free with all its features until Phase 3 of our roadmap. \\n⪼ @NeuroniAI\\n \\n#AI #GPT4 #502x #NeuroniAI #Neuroni                                    \n",
              "3  @100xAltcoinGems @NeuroniAI $NEURONI\\n\\n Want Neuroni AI in your Telegram group? Choose our Premium subscription for unlimited requests, priority access to updates, and more. \\n⪼ @NeuroniAI\\n \\n#AI #GPT4 #500x #NeuroniAI #Neuroni   \n",
              "4  @100xAltcoinGems $NEURONI\\n\\n Discover the latest Neuroni AI functions, including moderation for Telegram groups, premium user options, and more. \\n⪼ @NeuroniAI\\n \\n#AI #GPT4 #455x #NeuroniAI #Neuroni \\nhttps://t.co/MTWGnV6z9J      \n",
              "\n",
              "                                                                                                                 tweet_tokens  \\\n",
              "0  [neuroni, join, official, telegram, group, stay, tune, latest, neuroni, ai, update, news]                                    \n",
              "1  [neuroni, invest, neuroni, part, project, reserve, total, supply, 10m, token, dev, token]                                    \n",
              "2  [neuroni, get, ready, neuroni, ai, bot, available, free, feature, phase, roadmap]                                            \n",
              "3  [neuroni, want, neuroni, ai, telegram, group, choose, premium, subscription, unlimited, request, priority, access, update]   \n",
              "4  [neuroni, discover, latest, neuroni, ai, function, include, moderation, telegram, group, premium, user, option]              \n",
              "\n",
              "                                                                                                 cleaned_tweet  \\\n",
              "0  neuroni join official telegram group stay tune latest neuroni ai update news                                  \n",
              "1  neuroni invest neuroni part project reserve total supply 10m token dev token                                  \n",
              "2  neuroni get ready neuroni ai bot available free feature phase roadmap                                         \n",
              "3  neuroni want neuroni ai telegram group choose premium subscription unlimited request priority access update   \n",
              "4  neuroni discover latest neuroni ai function include moderation telegram group premium user option             \n",
              "\n",
              "  sentiment sentiments_val  \\\n",
              "0 -1.0       negative        \n",
              "1 -1.0       negative        \n",
              "2 -1.0       negative        \n",
              "3 -1.0       negative        \n",
              "4 -1.0       negative        \n",
              "\n",
              "                                               sentiments_vader  compound  \\\n",
              "0  {'neg': 0.0, 'neu': 0.833, 'pos': 0.167, 'compound': 0.296}   0.2960     \n",
              "1  {'neg': 0.0, 'neu': 1.0, 'pos': 0.0, 'compound': 0.0}         0.0000     \n",
              "2  {'neg': 0.0, 'neu': 0.608, 'pos': 0.392, 'compound': 0.7003}  0.7003     \n",
              "3  {'neg': 0.0, 'neu': 0.909, 'pos': 0.091, 'compound': 0.0772}  0.0772     \n",
              "4  {'neg': 0.0, 'neu': 1.0, 'pos': 0.0, 'compound': 0.0}         0.0000     \n",
              "\n",
              "  sentiment_vader  \n",
              "0  positive        \n",
              "1  neutral         \n",
              "2  positive        \n",
              "3  positive        \n",
              "4  neutral         "
            ],
            "text/html": [
              "\n",
              "  <div id=\"df-d2df4d8c-cb46-4ff5-b5ed-16ac0edbc6f2\">\n",
              "    <div class=\"colab-df-container\">\n",
              "      <div>\n",
              "<style scoped>\n",
              "    .dataframe tbody tr th:only-of-type {\n",
              "        vertical-align: middle;\n",
              "    }\n",
              "\n",
              "    .dataframe tbody tr th {\n",
              "        vertical-align: top;\n",
              "    }\n",
              "\n",
              "    .dataframe thead th {\n",
              "        text-align: right;\n",
              "    }\n",
              "</style>\n",
              "<table border=\"1\" class=\"dataframe\">\n",
              "  <thead>\n",
              "    <tr style=\"text-align: right;\">\n",
              "      <th></th>\n",
              "      <th>date</th>\n",
              "      <th>text</th>\n",
              "      <th>user_name</th>\n",
              "      <th>user_location</th>\n",
              "      <th>user_description</th>\n",
              "      <th>user_created</th>\n",
              "      <th>user_followers</th>\n",
              "      <th>user_friends</th>\n",
              "      <th>user_favourites</th>\n",
              "      <th>user_verified</th>\n",
              "      <th>hashtags</th>\n",
              "      <th>source</th>\n",
              "      <th>TweetOrig</th>\n",
              "      <th>tweet_tokens</th>\n",
              "      <th>cleaned_tweet</th>\n",
              "      <th>sentiment</th>\n",
              "      <th>sentiments_val</th>\n",
              "      <th>sentiments_vader</th>\n",
              "      <th>compound</th>\n",
              "      <th>sentiment_vader</th>\n",
              "    </tr>\n",
              "  </thead>\n",
              "  <tbody>\n",
              "    <tr>\n",
              "      <th>0</th>\n",
              "      <td>2023-04-12 20:05:08+00:00</td>\n",
              "      <td>@100xAltcoinGems @NeuroniAI $NEURONI\\n\\n Join our official Telegram group to stay tuned for the latest Neuroni AI updates and news. \\n⪼ @NeuroniAI\\n \\n#AI #GPT4 #506x #NeuroniAI #Neuroni</td>\n",
              "      <td>fuari</td>\n",
              "      <td>Cyberspace</td>\n",
              "      <td>beautiful together</td>\n",
              "      <td>2022-12-27 16:50:49+00:00</td>\n",
              "      <td>57</td>\n",
              "      <td>170</td>\n",
              "      <td>446</td>\n",
              "      <td>False</td>\n",
              "      <td>NaN</td>\n",
              "      <td>Twitter for Android</td>\n",
              "      <td>@100xAltcoinGems @NeuroniAI $NEURONI\\n\\n Join our official Telegram group to stay tuned for the latest Neuroni AI updates and news. \\n⪼ @NeuroniAI\\n \\n#AI #GPT4 #506x #NeuroniAI #Neuroni</td>\n",
              "      <td>[neuroni, join, official, telegram, group, stay, tune, latest, neuroni, ai, update, news]</td>\n",
              "      <td>neuroni join official telegram group stay tune latest neuroni ai update news</td>\n",
              "      <td>-1.0</td>\n",
              "      <td>negative</td>\n",
              "      <td>{'neg': 0.0, 'neu': 0.833, 'pos': 0.167, 'compound': 0.296}</td>\n",
              "      <td>0.2960</td>\n",
              "      <td>positive</td>\n",
              "    </tr>\n",
              "    <tr>\n",
              "      <th>1</th>\n",
              "      <td>2023-04-12 20:05:06+00:00</td>\n",
              "      <td>@100xAltcoinGems @NeuroniAI $NEURONI\\n\\n Invest in $NEURONI and be part of our project reserve, with a total supply of 10M tokens and no dev tokens. \\n⪼ @NeuroniAI\\n \\n#AI #GPT4 #504x #NeuroniAI #Neuroni</td>\n",
              "      <td>fuari</td>\n",
              "      <td>Cyberspace</td>\n",
              "      <td>beautiful together</td>\n",
              "      <td>2022-12-27 16:50:49+00:00</td>\n",
              "      <td>57</td>\n",
              "      <td>170</td>\n",
              "      <td>446</td>\n",
              "      <td>False</td>\n",
              "      <td>NaN</td>\n",
              "      <td>Twitter for Android</td>\n",
              "      <td>@100xAltcoinGems @NeuroniAI $NEURONI\\n\\n Invest in $NEURONI and be part of our project reserve, with a total supply of 10M tokens and no dev tokens. \\n⪼ @NeuroniAI\\n \\n#AI #GPT4 #504x #NeuroniAI #Neuroni</td>\n",
              "      <td>[neuroni, invest, neuroni, part, project, reserve, total, supply, 10m, token, dev, token]</td>\n",
              "      <td>neuroni invest neuroni part project reserve total supply 10m token dev token</td>\n",
              "      <td>-1.0</td>\n",
              "      <td>negative</td>\n",
              "      <td>{'neg': 0.0, 'neu': 1.0, 'pos': 0.0, 'compound': 0.0}</td>\n",
              "      <td>0.0000</td>\n",
              "      <td>neutral</td>\n",
              "    </tr>\n",
              "    <tr>\n",
              "      <th>2</th>\n",
              "      <td>2023-04-12 20:05:04+00:00</td>\n",
              "      <td>@100xAltcoinGems @NeuroniAI $NEURONI\\n\\n Get ready for Neuroni AI Bot, available for free with all its features until Phase 3 of our roadmap. \\n⪼ @NeuroniAI\\n \\n#AI #GPT4 #502x #NeuroniAI #Neuroni</td>\n",
              "      <td>fuari</td>\n",
              "      <td>Cyberspace</td>\n",
              "      <td>beautiful together</td>\n",
              "      <td>2022-12-27 16:50:49+00:00</td>\n",
              "      <td>57</td>\n",
              "      <td>170</td>\n",
              "      <td>446</td>\n",
              "      <td>False</td>\n",
              "      <td>NaN</td>\n",
              "      <td>Twitter for Android</td>\n",
              "      <td>@100xAltcoinGems @NeuroniAI $NEURONI\\n\\n Get ready for Neuroni AI Bot, available for free with all its features until Phase 3 of our roadmap. \\n⪼ @NeuroniAI\\n \\n#AI #GPT4 #502x #NeuroniAI #Neuroni</td>\n",
              "      <td>[neuroni, get, ready, neuroni, ai, bot, available, free, feature, phase, roadmap]</td>\n",
              "      <td>neuroni get ready neuroni ai bot available free feature phase roadmap</td>\n",
              "      <td>-1.0</td>\n",
              "      <td>negative</td>\n",
              "      <td>{'neg': 0.0, 'neu': 0.608, 'pos': 0.392, 'compound': 0.7003}</td>\n",
              "      <td>0.7003</td>\n",
              "      <td>positive</td>\n",
              "    </tr>\n",
              "    <tr>\n",
              "      <th>3</th>\n",
              "      <td>2023-04-12 20:05:02+00:00</td>\n",
              "      <td>@100xAltcoinGems @NeuroniAI $NEURONI\\n\\n Want Neuroni AI in your Telegram group? Choose our Premium subscription for unlimited requests, priority access to updates, and more. \\n⪼ @NeuroniAI\\n \\n#AI #GPT4 #500x #NeuroniAI #Neuroni</td>\n",
              "      <td>fuari</td>\n",
              "      <td>Cyberspace</td>\n",
              "      <td>beautiful together</td>\n",
              "      <td>2022-12-27 16:50:49+00:00</td>\n",
              "      <td>57</td>\n",
              "      <td>170</td>\n",
              "      <td>446</td>\n",
              "      <td>False</td>\n",
              "      <td>NaN</td>\n",
              "      <td>Twitter for Android</td>\n",
              "      <td>@100xAltcoinGems @NeuroniAI $NEURONI\\n\\n Want Neuroni AI in your Telegram group? Choose our Premium subscription for unlimited requests, priority access to updates, and more. \\n⪼ @NeuroniAI\\n \\n#AI #GPT4 #500x #NeuroniAI #Neuroni</td>\n",
              "      <td>[neuroni, want, neuroni, ai, telegram, group, choose, premium, subscription, unlimited, request, priority, access, update]</td>\n",
              "      <td>neuroni want neuroni ai telegram group choose premium subscription unlimited request priority access update</td>\n",
              "      <td>-1.0</td>\n",
              "      <td>negative</td>\n",
              "      <td>{'neg': 0.0, 'neu': 0.909, 'pos': 0.091, 'compound': 0.0772}</td>\n",
              "      <td>0.0772</td>\n",
              "      <td>positive</td>\n",
              "    </tr>\n",
              "    <tr>\n",
              "      <th>4</th>\n",
              "      <td>2023-04-12 20:04:58+00:00</td>\n",
              "      <td>@100xAltcoinGems $NEURONI\\n\\n Discover the latest Neuroni AI functions, including moderation for Telegram groups, premium user options, and more. \\n⪼ @NeuroniAI\\n \\n#AI #GPT4 #455x #NeuroniAI #Neuroni \\nhttps://t.co/MTWGnV6z9J</td>\n",
              "      <td>fuari</td>\n",
              "      <td>Cyberspace</td>\n",
              "      <td>beautiful together</td>\n",
              "      <td>2022-12-27 16:50:49+00:00</td>\n",
              "      <td>57</td>\n",
              "      <td>170</td>\n",
              "      <td>446</td>\n",
              "      <td>False</td>\n",
              "      <td>NaN</td>\n",
              "      <td>Twitter for Android</td>\n",
              "      <td>@100xAltcoinGems $NEURONI\\n\\n Discover the latest Neuroni AI functions, including moderation for Telegram groups, premium user options, and more. \\n⪼ @NeuroniAI\\n \\n#AI #GPT4 #455x #NeuroniAI #Neuroni \\nhttps://t.co/MTWGnV6z9J</td>\n",
              "      <td>[neuroni, discover, latest, neuroni, ai, function, include, moderation, telegram, group, premium, user, option]</td>\n",
              "      <td>neuroni discover latest neuroni ai function include moderation telegram group premium user option</td>\n",
              "      <td>-1.0</td>\n",
              "      <td>negative</td>\n",
              "      <td>{'neg': 0.0, 'neu': 1.0, 'pos': 0.0, 'compound': 0.0}</td>\n",
              "      <td>0.0000</td>\n",
              "      <td>neutral</td>\n",
              "    </tr>\n",
              "  </tbody>\n",
              "</table>\n",
              "</div>\n",
              "      <button class=\"colab-df-convert\" onclick=\"convertToInteractive('df-d2df4d8c-cb46-4ff5-b5ed-16ac0edbc6f2')\"\n",
              "              title=\"Convert this dataframe to an interactive table.\"\n",
              "              style=\"display:none;\">\n",
              "        \n",
              "  <svg xmlns=\"http://www.w3.org/2000/svg\" height=\"24px\"viewBox=\"0 0 24 24\"\n",
              "       width=\"24px\">\n",
              "    <path d=\"M0 0h24v24H0V0z\" fill=\"none\"/>\n",
              "    <path d=\"M18.56 5.44l.94 2.06.94-2.06 2.06-.94-2.06-.94-.94-2.06-.94 2.06-2.06.94zm-11 1L8.5 8.5l.94-2.06 2.06-.94-2.06-.94L8.5 2.5l-.94 2.06-2.06.94zm10 10l.94 2.06.94-2.06 2.06-.94-2.06-.94-.94-2.06-.94 2.06-2.06.94z\"/><path d=\"M17.41 7.96l-1.37-1.37c-.4-.4-.92-.59-1.43-.59-.52 0-1.04.2-1.43.59L10.3 9.45l-7.72 7.72c-.78.78-.78 2.05 0 2.83L4 21.41c.39.39.9.59 1.41.59.51 0 1.02-.2 1.41-.59l7.78-7.78 2.81-2.81c.8-.78.8-2.07 0-2.86zM5.41 20L4 18.59l7.72-7.72 1.47 1.35L5.41 20z\"/>\n",
              "  </svg>\n",
              "      </button>\n",
              "      \n",
              "  <style>\n",
              "    .colab-df-container {\n",
              "      display:flex;\n",
              "      flex-wrap:wrap;\n",
              "      gap: 12px;\n",
              "    }\n",
              "\n",
              "    .colab-df-convert {\n",
              "      background-color: #E8F0FE;\n",
              "      border: none;\n",
              "      border-radius: 50%;\n",
              "      cursor: pointer;\n",
              "      display: none;\n",
              "      fill: #1967D2;\n",
              "      height: 32px;\n",
              "      padding: 0 0 0 0;\n",
              "      width: 32px;\n",
              "    }\n",
              "\n",
              "    .colab-df-convert:hover {\n",
              "      background-color: #E2EBFA;\n",
              "      box-shadow: 0px 1px 2px rgba(60, 64, 67, 0.3), 0px 1px 3px 1px rgba(60, 64, 67, 0.15);\n",
              "      fill: #174EA6;\n",
              "    }\n",
              "\n",
              "    [theme=dark] .colab-df-convert {\n",
              "      background-color: #3B4455;\n",
              "      fill: #D2E3FC;\n",
              "    }\n",
              "\n",
              "    [theme=dark] .colab-df-convert:hover {\n",
              "      background-color: #434B5C;\n",
              "      box-shadow: 0px 1px 3px 1px rgba(0, 0, 0, 0.15);\n",
              "      filter: drop-shadow(0px 1px 2px rgba(0, 0, 0, 0.3));\n",
              "      fill: #FFFFFF;\n",
              "    }\n",
              "  </style>\n",
              "\n",
              "      <script>\n",
              "        const buttonEl =\n",
              "          document.querySelector('#df-d2df4d8c-cb46-4ff5-b5ed-16ac0edbc6f2 button.colab-df-convert');\n",
              "        buttonEl.style.display =\n",
              "          google.colab.kernel.accessAllowed ? 'block' : 'none';\n",
              "\n",
              "        async function convertToInteractive(key) {\n",
              "          const element = document.querySelector('#df-d2df4d8c-cb46-4ff5-b5ed-16ac0edbc6f2');\n",
              "          const dataTable =\n",
              "            await google.colab.kernel.invokeFunction('convertToInteractive',\n",
              "                                                     [key], {});\n",
              "          if (!dataTable) return;\n",
              "\n",
              "          const docLinkHtml = 'Like what you see? Visit the ' +\n",
              "            '<a target=\"_blank\" href=https://colab.research.google.com/notebooks/data_table.ipynb>data table notebook</a>'\n",
              "            + ' to learn more about interactive tables.';\n",
              "          element.innerHTML = '';\n",
              "          dataTable['output_type'] = 'display_data';\n",
              "          await google.colab.output.renderOutput(dataTable, element);\n",
              "          const docLink = document.createElement('div');\n",
              "          docLink.innerHTML = docLinkHtml;\n",
              "          element.appendChild(docLink);\n",
              "        }\n",
              "      </script>\n",
              "    </div>\n",
              "  </div>\n",
              "  "
            ]
          },
          "metadata": {},
          "execution_count": 274
        }
      ]
    },
    {
      "cell_type": "markdown",
      "source": [
        "###BERT"
      ],
      "metadata": {
        "id": "Poq86crDUfz8"
      }
    },
    {
      "cell_type": "code",
      "source": [
        "# installing the library 'transformers' which contains BERT implementation\n",
        "!pip install transformers\n",
        " \n",
        "# installing the library tensorflow\n",
        "!pip install tensorflow"
      ],
      "metadata": {
        "id": "6T1ynFrqqSTf",
        "colab": {
          "base_uri": "https://localhost:8080/"
        },
        "outputId": "b468fb16-35c1-4a02-f3c9-c35a9d60741c"
      },
      "execution_count": null,
      "outputs": [
        {
          "output_type": "stream",
          "name": "stdout",
          "text": [
            "Looking in indexes: https://pypi.org/simple, https://us-python.pkg.dev/colab-wheels/public/simple/\n",
            "Requirement already satisfied: transformers in /usr/local/lib/python3.10/dist-packages (4.28.1)\n",
            "Requirement already satisfied: regex!=2019.12.17 in /usr/local/lib/python3.10/dist-packages (from transformers) (2022.10.31)\n",
            "Requirement already satisfied: filelock in /usr/local/lib/python3.10/dist-packages (from transformers) (3.12.0)\n",
            "Requirement already satisfied: packaging>=20.0 in /usr/local/lib/python3.10/dist-packages (from transformers) (23.1)\n",
            "Requirement already satisfied: tokenizers!=0.11.3,<0.14,>=0.11.1 in /usr/local/lib/python3.10/dist-packages (from transformers) (0.13.3)\n",
            "Requirement already satisfied: huggingface-hub<1.0,>=0.11.0 in /usr/local/lib/python3.10/dist-packages (from transformers) (0.14.1)\n",
            "Requirement already satisfied: numpy>=1.17 in /usr/local/lib/python3.10/dist-packages (from transformers) (1.22.4)\n",
            "Requirement already satisfied: tqdm>=4.27 in /usr/local/lib/python3.10/dist-packages (from transformers) (4.65.0)\n",
            "Requirement already satisfied: requests in /usr/local/lib/python3.10/dist-packages (from transformers) (2.27.1)\n",
            "Requirement already satisfied: pyyaml>=5.1 in /usr/local/lib/python3.10/dist-packages (from transformers) (6.0)\n",
            "Requirement already satisfied: fsspec in /usr/local/lib/python3.10/dist-packages (from huggingface-hub<1.0,>=0.11.0->transformers) (2023.4.0)\n",
            "Requirement already satisfied: typing-extensions>=3.7.4.3 in /usr/local/lib/python3.10/dist-packages (from huggingface-hub<1.0,>=0.11.0->transformers) (4.5.0)\n",
            "Requirement already satisfied: idna<4,>=2.5 in /usr/local/lib/python3.10/dist-packages (from requests->transformers) (3.4)\n",
            "Requirement already satisfied: certifi>=2017.4.17 in /usr/local/lib/python3.10/dist-packages (from requests->transformers) (2022.12.7)\n",
            "Requirement already satisfied: urllib3<1.27,>=1.21.1 in /usr/local/lib/python3.10/dist-packages (from requests->transformers) (1.26.15)\n",
            "Requirement already satisfied: charset-normalizer~=2.0.0 in /usr/local/lib/python3.10/dist-packages (from requests->transformers) (2.0.12)\n",
            "Looking in indexes: https://pypi.org/simple, https://us-python.pkg.dev/colab-wheels/public/simple/\n",
            "Requirement already satisfied: tensorflow in /usr/local/lib/python3.10/dist-packages (2.12.0)\n",
            "Requirement already satisfied: absl-py>=1.0.0 in /usr/local/lib/python3.10/dist-packages (from tensorflow) (1.4.0)\n",
            "Requirement already satisfied: wrapt<1.15,>=1.11.0 in /usr/local/lib/python3.10/dist-packages (from tensorflow) (1.14.1)\n",
            "Requirement already satisfied: opt-einsum>=2.3.2 in /usr/local/lib/python3.10/dist-packages (from tensorflow) (3.3.0)\n",
            "Requirement already satisfied: numpy<1.24,>=1.22 in /usr/local/lib/python3.10/dist-packages (from tensorflow) (1.22.4)\n",
            "Requirement already satisfied: tensorboard<2.13,>=2.12 in /usr/local/lib/python3.10/dist-packages (from tensorflow) (2.12.2)\n",
            "Requirement already satisfied: termcolor>=1.1.0 in /usr/local/lib/python3.10/dist-packages (from tensorflow) (2.3.0)\n",
            "Requirement already satisfied: protobuf!=4.21.0,!=4.21.1,!=4.21.2,!=4.21.3,!=4.21.4,!=4.21.5,<5.0.0dev,>=3.20.3 in /usr/local/lib/python3.10/dist-packages (from tensorflow) (3.20.3)\n",
            "Requirement already satisfied: typing-extensions>=3.6.6 in /usr/local/lib/python3.10/dist-packages (from tensorflow) (4.5.0)\n",
            "Requirement already satisfied: libclang>=13.0.0 in /usr/local/lib/python3.10/dist-packages (from tensorflow) (16.0.0)\n",
            "Requirement already satisfied: jax>=0.3.15 in /usr/local/lib/python3.10/dist-packages (from tensorflow) (0.4.8)\n",
            "Requirement already satisfied: flatbuffers>=2.0 in /usr/local/lib/python3.10/dist-packages (from tensorflow) (23.3.3)\n",
            "Requirement already satisfied: gast<=0.4.0,>=0.2.1 in /usr/local/lib/python3.10/dist-packages (from tensorflow) (0.4.0)\n",
            "Requirement already satisfied: six>=1.12.0 in /usr/local/lib/python3.10/dist-packages (from tensorflow) (1.16.0)\n",
            "Requirement already satisfied: tensorflow-estimator<2.13,>=2.12.0 in /usr/local/lib/python3.10/dist-packages (from tensorflow) (2.12.0)\n",
            "Requirement already satisfied: google-pasta>=0.1.1 in /usr/local/lib/python3.10/dist-packages (from tensorflow) (0.2.0)\n",
            "Requirement already satisfied: h5py>=2.9.0 in /usr/local/lib/python3.10/dist-packages (from tensorflow) (3.8.0)\n",
            "Requirement already satisfied: tensorflow-io-gcs-filesystem>=0.23.1 in /usr/local/lib/python3.10/dist-packages (from tensorflow) (0.32.0)\n",
            "Requirement already satisfied: astunparse>=1.6.0 in /usr/local/lib/python3.10/dist-packages (from tensorflow) (1.6.3)\n",
            "Requirement already satisfied: grpcio<2.0,>=1.24.3 in /usr/local/lib/python3.10/dist-packages (from tensorflow) (1.54.0)\n",
            "Requirement already satisfied: setuptools in /usr/local/lib/python3.10/dist-packages (from tensorflow) (67.7.2)\n",
            "Requirement already satisfied: packaging in /usr/local/lib/python3.10/dist-packages (from tensorflow) (23.1)\n",
            "Requirement already satisfied: keras<2.13,>=2.12.0 in /usr/local/lib/python3.10/dist-packages (from tensorflow) (2.12.0)\n",
            "Requirement already satisfied: wheel<1.0,>=0.23.0 in /usr/local/lib/python3.10/dist-packages (from astunparse>=1.6.0->tensorflow) (0.40.0)\n",
            "Requirement already satisfied: scipy>=1.7 in /usr/local/lib/python3.10/dist-packages (from jax>=0.3.15->tensorflow) (1.10.1)\n",
            "Requirement already satisfied: ml-dtypes>=0.0.3 in /usr/local/lib/python3.10/dist-packages (from jax>=0.3.15->tensorflow) (0.1.0)\n",
            "Requirement already satisfied: tensorboard-data-server<0.8.0,>=0.7.0 in /usr/local/lib/python3.10/dist-packages (from tensorboard<2.13,>=2.12->tensorflow) (0.7.0)\n",
            "Requirement already satisfied: markdown>=2.6.8 in /usr/local/lib/python3.10/dist-packages (from tensorboard<2.13,>=2.12->tensorflow) (3.4.3)\n",
            "Requirement already satisfied: google-auth-oauthlib<1.1,>=0.5 in /usr/local/lib/python3.10/dist-packages (from tensorboard<2.13,>=2.12->tensorflow) (1.0.0)\n",
            "Requirement already satisfied: werkzeug>=1.0.1 in /usr/local/lib/python3.10/dist-packages (from tensorboard<2.13,>=2.12->tensorflow) (2.3.0)\n",
            "Requirement already satisfied: google-auth<3,>=1.6.3 in /usr/local/lib/python3.10/dist-packages (from tensorboard<2.13,>=2.12->tensorflow) (2.17.3)\n",
            "Requirement already satisfied: tensorboard-plugin-wit>=1.6.0 in /usr/local/lib/python3.10/dist-packages (from tensorboard<2.13,>=2.12->tensorflow) (1.8.1)\n",
            "Requirement already satisfied: requests<3,>=2.21.0 in /usr/local/lib/python3.10/dist-packages (from tensorboard<2.13,>=2.12->tensorflow) (2.27.1)\n",
            "Requirement already satisfied: rsa<5,>=3.1.4 in /usr/local/lib/python3.10/dist-packages (from google-auth<3,>=1.6.3->tensorboard<2.13,>=2.12->tensorflow) (4.9)\n",
            "Requirement already satisfied: pyasn1-modules>=0.2.1 in /usr/local/lib/python3.10/dist-packages (from google-auth<3,>=1.6.3->tensorboard<2.13,>=2.12->tensorflow) (0.3.0)\n",
            "Requirement already satisfied: cachetools<6.0,>=2.0.0 in /usr/local/lib/python3.10/dist-packages (from google-auth<3,>=1.6.3->tensorboard<2.13,>=2.12->tensorflow) (5.3.0)\n",
            "Requirement already satisfied: requests-oauthlib>=0.7.0 in /usr/local/lib/python3.10/dist-packages (from google-auth-oauthlib<1.1,>=0.5->tensorboard<2.13,>=2.12->tensorflow) (1.3.1)\n",
            "Requirement already satisfied: certifi>=2017.4.17 in /usr/local/lib/python3.10/dist-packages (from requests<3,>=2.21.0->tensorboard<2.13,>=2.12->tensorflow) (2022.12.7)\n",
            "Requirement already satisfied: urllib3<1.27,>=1.21.1 in /usr/local/lib/python3.10/dist-packages (from requests<3,>=2.21.0->tensorboard<2.13,>=2.12->tensorflow) (1.26.15)\n",
            "Requirement already satisfied: charset-normalizer~=2.0.0 in /usr/local/lib/python3.10/dist-packages (from requests<3,>=2.21.0->tensorboard<2.13,>=2.12->tensorflow) (2.0.12)\n",
            "Requirement already satisfied: idna<4,>=2.5 in /usr/local/lib/python3.10/dist-packages (from requests<3,>=2.21.0->tensorboard<2.13,>=2.12->tensorflow) (3.4)\n",
            "Requirement already satisfied: MarkupSafe>=2.1.1 in /usr/local/lib/python3.10/dist-packages (from werkzeug>=1.0.1->tensorboard<2.13,>=2.12->tensorflow) (2.1.2)\n",
            "Requirement already satisfied: pyasn1<0.6.0,>=0.4.6 in /usr/local/lib/python3.10/dist-packages (from pyasn1-modules>=0.2.1->google-auth<3,>=1.6.3->tensorboard<2.13,>=2.12->tensorflow) (0.5.0)\n",
            "Requirement already satisfied: oauthlib>=3.0.0 in /usr/local/lib/python3.10/dist-packages (from requests-oauthlib>=0.7.0->google-auth-oauthlib<1.1,>=0.5->tensorboard<2.13,>=2.12->tensorflow) (3.2.2)\n"
          ]
        }
      ]
    },
    {
      "cell_type": "code",
      "source": [
        "# importing the pipeline module\n",
        "from transformers import pipeline\n",
        " \n",
        "# Downloading the sentiment analysis model\n",
        "SentimentClassifier = pipeline(\"sentiment-analysis\")"
      ],
      "metadata": {
        "colab": {
          "base_uri": "https://localhost:8080/"
        },
        "id": "EbfT0qKrqSVq",
        "outputId": "50cc7d80-b0f6-4b2a-f4d8-3590bea8e275"
      },
      "execution_count": null,
      "outputs": [
        {
          "output_type": "stream",
          "name": "stderr",
          "text": [
            "No model was supplied, defaulted to distilbert-base-uncased-finetuned-sst-2-english and revision af0f99b (https://huggingface.co/distilbert-base-uncased-finetuned-sst-2-english).\n",
            "Using a pipeline without specifying a model name and revision in production is not recommended.\n"
          ]
        }
      ]
    },
    {
      "cell_type": "code",
      "source": [
        "def FunctionBERTSentiment(inpText):\n",
        "  return(SentimentClassifier(inpText)[0]['label'])"
      ],
      "metadata": {
        "id": "kn1gtuefp8Z3"
      },
      "execution_count": null,
      "outputs": []
    },
    {
      "cell_type": "code",
      "source": [
        "tweets['cleaned_tweet'].iloc[39]"
      ],
      "metadata": {
        "colab": {
          "base_uri": "https://localhost:8080/",
          "height": 35
        },
        "id": "LT5wsjMd2ZrH",
        "outputId": "68f6f002-f6b5-42af-e554-ddae50b3d74f"
      },
      "execution_count": null,
      "outputs": [
        {
          "output_type": "execute_result",
          "data": {
            "text/plain": [
              "'thank stay inform latest ai news explain use emojis yes right emojis'"
            ],
            "application/vnd.google.colaboratory.intrinsic+json": {
              "type": "string"
            }
          },
          "metadata": {},
          "execution_count": 278
        }
      ]
    },
    {
      "cell_type": "code",
      "source": [
        "tweets['text'].iloc[39]"
      ],
      "metadata": {
        "colab": {
          "base_uri": "https://localhost:8080/",
          "height": 35
        },
        "id": "Xczx6ncd2Ztp",
        "outputId": "d57fa9e0-a306-4f5c-bf5a-112f47756420"
      },
      "execution_count": null,
      "outputs": [
        {
          "output_type": "execute_result",
          "data": {
            "text/plain": [
              "\"Thanks to #gpt4, you can now stay informed about the latest AI news by having it explained to you using emojis. Yes that's right, emojis: https://t.co/tnwijlCx2C https://t.co/bo8p6AjjLT\""
            ],
            "application/vnd.google.colaboratory.intrinsic+json": {
              "type": "string"
            }
          },
          "metadata": {},
          "execution_count": 279
        }
      ]
    },
    {
      "cell_type": "code",
      "source": [
        "FunctionBERTSentiment(tweets['cleaned_tweet'].iloc[39])"
      ],
      "metadata": {
        "colab": {
          "base_uri": "https://localhost:8080/",
          "height": 35
        },
        "id": "lDBu0Frx2hxe",
        "outputId": "18d6b913-d2e6-4380-e817-afe0df6c1381"
      },
      "execution_count": null,
      "outputs": [
        {
          "output_type": "execute_result",
          "data": {
            "text/plain": [
              "'POSITIVE'"
            ],
            "application/vnd.google.colaboratory.intrinsic+json": {
              "type": "string"
            }
          },
          "metadata": {},
          "execution_count": 280
        }
      ]
    },
    {
      "cell_type": "code",
      "source": [
        "# Calling BERT based sentiment score function for every tweet\n",
        "tweets['sentiment_bert']=tweets['cleaned_tweet'].apply(FunctionBERTSentiment)\n",
        "tweets.head(10)"
      ],
      "metadata": {
        "colab": {
          "base_uri": "https://localhost:8080/",
          "height": 1000
        },
        "id": "DdRRqvYY2hz6",
        "outputId": "4fa9d554-4490-4ace-a577-5fc9f6139c7b"
      },
      "execution_count": null,
      "outputs": [
        {
          "output_type": "execute_result",
          "data": {
            "text/plain": [
              "                        date  \\\n",
              "0  2023-04-12 20:05:08+00:00   \n",
              "1  2023-04-12 20:05:06+00:00   \n",
              "2  2023-04-12 20:05:04+00:00   \n",
              "3  2023-04-12 20:05:02+00:00   \n",
              "4  2023-04-12 20:04:58+00:00   \n",
              "5  2023-04-12 20:04:58+00:00   \n",
              "6  2023-04-12 20:04:46+00:00   \n",
              "7  2023-04-12 20:04:44+00:00   \n",
              "8  2023-04-12 20:04:42+00:00   \n",
              "9  2023-04-12 20:04:40+00:00   \n",
              "\n",
              "                                                                                                                                                                                                                                                                                                              text  \\\n",
              "0  @100xAltcoinGems @NeuroniAI $NEURONI\\n\\n Join our official Telegram group to stay tuned for the latest Neuroni AI updates and news. \\n⪼ @NeuroniAI\\n \\n#AI #GPT4 #506x #NeuroniAI #Neuroni                                                                                                                        \n",
              "1  @100xAltcoinGems @NeuroniAI $NEURONI\\n\\n Invest in $NEURONI and be part of our project reserve, with a total supply of 10M tokens and no dev tokens. \\n⪼ @NeuroniAI\\n \\n#AI #GPT4 #504x #NeuroniAI #Neuroni                                                                                                       \n",
              "2  @100xAltcoinGems @NeuroniAI $NEURONI\\n\\n Get ready for Neuroni AI Bot, available for free with all its features until Phase 3 of our roadmap. \\n⪼ @NeuroniAI\\n \\n#AI #GPT4 #502x #NeuroniAI #Neuroni                                                                                                              \n",
              "3  @100xAltcoinGems @NeuroniAI $NEURONI\\n\\n Want Neuroni AI in your Telegram group? Choose our Premium subscription for unlimited requests, priority access to updates, and more. \\n⪼ @NeuroniAI\\n \\n#AI #GPT4 #500x #NeuroniAI #Neuroni                                                                             \n",
              "4  @100xAltcoinGems $NEURONI\\n\\n Discover the latest Neuroni AI functions, including moderation for Telegram groups, premium user options, and more. \\n⪼ @NeuroniAI\\n \\n#AI #GPT4 #455x #NeuroniAI #Neuroni \\nhttps://t.co/MTWGnV6z9J                                                                                \n",
              "5  You can earn thousands of 💰💰💰 using these AI...\\n\\nClick here learn more &gt;&gt;&gt; https://t.co/DHv9IqlfGu\\n\\n#AI #GPT4 #GPT3 #GPT5 #gpt4chain #gpt_4 #gpt3 #ChatGPT #chatgpt4 #chatGptPlus #selfemployment #makemoneyathome #onlineincome #passiveincomestream #entrepreneurmindset https://t.co/gCWFhjAK31   \n",
              "6  @DaCryptoCom @NeuroniAI $NEURONI\\n\\n Need code in a specific programming language? Neuroni AI can create it on demand, including deciphering cryptographic ciphers. \\n⪼ @NeuroniAI\\n \\n#AI #GPT4 #444x #NeuroniAI #Neuroni                                                                                        \n",
              "7  @DaCryptoCom @NeuroniAI $NEURONI\\n\\n When there seems to be no solution, Neuroni AI is there to provide precise answers in unexpected professions. \\n⪼ @NeuroniAI\\n \\n#AI #GPT4 #442x #NeuroniAI #Neuroni                                                                                                         \n",
              "8  @DaCryptoCom @NeuroniAI $NEURONI\\n\\n Neuroni AI can do it all - from answering sophisticated questions to creating smart contracts and even websites in multiple programming languages. \\n⪼ @NeuroniAI\\n \\n#AI #GPT4 #440x #NeuroniAI #Neuroni                                                                    \n",
              "9  @DaCryptoCom @NeuroniAI $NEURONI\\n\\n Neuroni AI is constantly evolving thanks to our team of geniuses, offering new services like image and vocal generation in the near future. \\n⪼ @NeuroniAI\\n \\n#AI #GPT4 #438x #NeuroniAI #Neuroni                                                                           \n",
              "\n",
              "        user_name   user_location  \\\n",
              "0  fuari           Cyberspace       \n",
              "1  fuari           Cyberspace       \n",
              "2  fuari           Cyberspace       \n",
              "3  fuari           Cyberspace       \n",
              "4  fuari           Cyberspace       \n",
              "5  Kubode Raymond  United Kingdom   \n",
              "6  fuari           Cyberspace       \n",
              "7  fuari           Cyberspace       \n",
              "8  fuari           Cyberspace       \n",
              "9  fuari           Cyberspace       \n",
              "\n",
              "                                                                                                                                                  user_description  \\\n",
              "0  beautiful together                                                                                                                                                \n",
              "1  beautiful together                                                                                                                                                \n",
              "2  beautiful together                                                                                                                                                \n",
              "3  beautiful together                                                                                                                                                \n",
              "4  beautiful together                                                                                                                                                \n",
              "5  A Digital marketer, and freelancer at Fiverr. An expertise in using digital marketing techniques to promote businesses,Provide money making tricks and  more...   \n",
              "6  beautiful together                                                                                                                                                \n",
              "7  beautiful together                                                                                                                                                \n",
              "8  beautiful together                                                                                                                                                \n",
              "9  beautiful together                                                                                                                                                \n",
              "\n",
              "                user_created  user_followers  user_friends  user_favourites  \\\n",
              "0  2022-12-27 16:50:49+00:00  57              170           446               \n",
              "1  2022-12-27 16:50:49+00:00  57              170           446               \n",
              "2  2022-12-27 16:50:49+00:00  57              170           446               \n",
              "3  2022-12-27 16:50:49+00:00  57              170           446               \n",
              "4  2022-12-27 16:50:49+00:00  57              170           446               \n",
              "5  2023-04-12 00:19:34+00:00  1               4             15                \n",
              "6  2022-12-27 16:50:49+00:00  57              170           446               \n",
              "7  2022-12-27 16:50:49+00:00  57              170           446               \n",
              "8  2022-12-27 16:50:49+00:00  57              170           446               \n",
              "9  2022-12-27 16:50:49+00:00  57              170           446               \n",
              "\n",
              "   user_verified  ...               source  \\\n",
              "0  False          ...  Twitter for Android   \n",
              "1  False          ...  Twitter for Android   \n",
              "2  False          ...  Twitter for Android   \n",
              "3  False          ...  Twitter for Android   \n",
              "4  False          ...  Twitter for Android   \n",
              "5  False          ...  Twitter Web App       \n",
              "6  False          ...  Twitter for Android   \n",
              "7  False          ...  Twitter for Android   \n",
              "8  False          ...  Twitter for Android   \n",
              "9  False          ...  Twitter for Android   \n",
              "\n",
              "                                                                                                                                                                                                                                                                                                         TweetOrig  \\\n",
              "0  @100xAltcoinGems @NeuroniAI $NEURONI\\n\\n Join our official Telegram group to stay tuned for the latest Neuroni AI updates and news. \\n⪼ @NeuroniAI\\n \\n#AI #GPT4 #506x #NeuroniAI #Neuroni                                                                                                                        \n",
              "1  @100xAltcoinGems @NeuroniAI $NEURONI\\n\\n Invest in $NEURONI and be part of our project reserve, with a total supply of 10M tokens and no dev tokens. \\n⪼ @NeuroniAI\\n \\n#AI #GPT4 #504x #NeuroniAI #Neuroni                                                                                                       \n",
              "2  @100xAltcoinGems @NeuroniAI $NEURONI\\n\\n Get ready for Neuroni AI Bot, available for free with all its features until Phase 3 of our roadmap. \\n⪼ @NeuroniAI\\n \\n#AI #GPT4 #502x #NeuroniAI #Neuroni                                                                                                              \n",
              "3  @100xAltcoinGems @NeuroniAI $NEURONI\\n\\n Want Neuroni AI in your Telegram group? Choose our Premium subscription for unlimited requests, priority access to updates, and more. \\n⪼ @NeuroniAI\\n \\n#AI #GPT4 #500x #NeuroniAI #Neuroni                                                                             \n",
              "4  @100xAltcoinGems $NEURONI\\n\\n Discover the latest Neuroni AI functions, including moderation for Telegram groups, premium user options, and more. \\n⪼ @NeuroniAI\\n \\n#AI #GPT4 #455x #NeuroniAI #Neuroni \\nhttps://t.co/MTWGnV6z9J                                                                                \n",
              "5  You can earn thousands of 💰💰💰 using these AI...\\n\\nClick here learn more &gt;&gt;&gt; https://t.co/DHv9IqlfGu\\n\\n#AI #GPT4 #GPT3 #GPT5 #gpt4chain #gpt_4 #gpt3 #ChatGPT #chatgpt4 #chatGptPlus #selfemployment #makemoneyathome #onlineincome #passiveincomestream #entrepreneurmindset https://t.co/gCWFhjAK31   \n",
              "6  @DaCryptoCom @NeuroniAI $NEURONI\\n\\n Need code in a specific programming language? Neuroni AI can create it on demand, including deciphering cryptographic ciphers. \\n⪼ @NeuroniAI\\n \\n#AI #GPT4 #444x #NeuroniAI #Neuroni                                                                                        \n",
              "7  @DaCryptoCom @NeuroniAI $NEURONI\\n\\n When there seems to be no solution, Neuroni AI is there to provide precise answers in unexpected professions. \\n⪼ @NeuroniAI\\n \\n#AI #GPT4 #442x #NeuroniAI #Neuroni                                                                                                         \n",
              "8  @DaCryptoCom @NeuroniAI $NEURONI\\n\\n Neuroni AI can do it all - from answering sophisticated questions to creating smart contracts and even websites in multiple programming languages. \\n⪼ @NeuroniAI\\n \\n#AI #GPT4 #440x #NeuroniAI #Neuroni                                                                    \n",
              "9  @DaCryptoCom @NeuroniAI $NEURONI\\n\\n Neuroni AI is constantly evolving thanks to our team of geniuses, offering new services like image and vocal generation in the near future. \\n⪼ @NeuroniAI\\n \\n#AI #GPT4 #438x #NeuroniAI #Neuroni                                                                           \n",
              "\n",
              "                                                                                                                         tweet_tokens  \\\n",
              "0  [neuroni, join, official, telegram, group, stay, tune, latest, neuroni, ai, update, news]                                            \n",
              "1  [neuroni, invest, neuroni, part, project, reserve, total, supply, 10m, token, dev, token]                                            \n",
              "2  [neuroni, get, ready, neuroni, ai, bot, available, free, feature, phase, roadmap]                                                    \n",
              "3  [neuroni, want, neuroni, ai, telegram, group, choose, premium, subscription, unlimited, request, priority, access, update]           \n",
              "4  [neuroni, discover, latest, neuroni, ai, function, include, moderation, telegram, group, premium, user, option]                      \n",
              "5  [earn, thousand, use, ai, click, learn, gt, gt, gt]                                                                                  \n",
              "6  [neuroni, need, code, specific, program, language, neuroni, ai, create, demand, include, decipher, cryptographic, cipher]            \n",
              "7  [neuroni, seem, solution, neuroni, ai, provide, precise, answer, unexpected, profession]                                             \n",
              "8  [neuroni, neuroni, ai, answer, sophisticate, question, create, smart, contract, even, website, multiple, program, language]          \n",
              "9  [neuroni, neuroni, ai, constantly, evolve, thank, team, genius, offer, new, service, like, image, vocal, generation, near, future]   \n",
              "\n",
              "                                                                                                      cleaned_tweet  \\\n",
              "0  neuroni join official telegram group stay tune latest neuroni ai update news                                       \n",
              "1  neuroni invest neuroni part project reserve total supply 10m token dev token                                       \n",
              "2  neuroni get ready neuroni ai bot available free feature phase roadmap                                              \n",
              "3  neuroni want neuroni ai telegram group choose premium subscription unlimited request priority access update        \n",
              "4  neuroni discover latest neuroni ai function include moderation telegram group premium user option                  \n",
              "5  earn thousand use ai click learn gt gt gt                                                                          \n",
              "6  neuroni need code specific program language neuroni ai create demand include decipher cryptographic cipher         \n",
              "7  neuroni seem solution neuroni ai provide precise answer unexpected profession                                      \n",
              "8  neuroni neuroni ai answer sophisticate question create smart contract even website multiple program language       \n",
              "9  neuroni neuroni ai constantly evolve thank team genius offer new service like image vocal generation near future   \n",
              "\n",
              "  sentiment sentiments_val  \\\n",
              "0 -1.0       negative        \n",
              "1 -1.0       negative        \n",
              "2 -1.0       negative        \n",
              "3 -1.0       negative        \n",
              "4 -1.0       negative        \n",
              "5 -1.0       negative        \n",
              "6 -1.0       negative        \n",
              "7 -1.0       negative        \n",
              "8 -1.0       negative        \n",
              "9 -1.0       negative        \n",
              "\n",
              "                                                 sentiments_vader compound  \\\n",
              "0  {'neg': 0.0, 'neu': 0.833, 'pos': 0.167, 'compound': 0.296}     0.2960    \n",
              "1  {'neg': 0.0, 'neu': 1.0, 'pos': 0.0, 'compound': 0.0}           0.0000    \n",
              "2  {'neg': 0.0, 'neu': 0.608, 'pos': 0.392, 'compound': 0.7003}    0.7003    \n",
              "3  {'neg': 0.0, 'neu': 0.909, 'pos': 0.091, 'compound': 0.0772}    0.0772    \n",
              "4  {'neg': 0.0, 'neu': 1.0, 'pos': 0.0, 'compound': 0.0}           0.0000    \n",
              "5  {'neg': 0.0, 'neu': 0.488, 'pos': 0.512, 'compound': 0.6486}    0.6486    \n",
              "6  {'neg': 0.096, 'neu': 0.769, 'pos': 0.135, 'compound': 0.1531}  0.1531    \n",
              "7  {'neg': 0.0, 'neu': 0.796, 'pos': 0.204, 'compound': 0.3182}    0.3182    \n",
              "8  {'neg': 0.0, 'neu': 0.714, 'pos': 0.286, 'compound': 0.5859}    0.5859    \n",
              "9  {'neg': 0.0, 'neu': 0.75, 'pos': 0.25, 'compound': 0.6124}      0.6124    \n",
              "\n",
              "   sentiment_vader sentiment_bert  \n",
              "0  positive         NEGATIVE       \n",
              "1  neutral          NEGATIVE       \n",
              "2  positive         NEGATIVE       \n",
              "3  positive         NEGATIVE       \n",
              "4  neutral          NEGATIVE       \n",
              "5  positive         NEGATIVE       \n",
              "6  positive         NEGATIVE       \n",
              "7  positive         POSITIVE       \n",
              "8  positive         POSITIVE       \n",
              "9  positive         POSITIVE       \n",
              "\n",
              "[10 rows x 21 columns]"
            ],
            "text/html": [
              "\n",
              "  <div id=\"df-d7cd12f2-cff4-4e2c-8399-cb60f5300521\">\n",
              "    <div class=\"colab-df-container\">\n",
              "      <div>\n",
              "<style scoped>\n",
              "    .dataframe tbody tr th:only-of-type {\n",
              "        vertical-align: middle;\n",
              "    }\n",
              "\n",
              "    .dataframe tbody tr th {\n",
              "        vertical-align: top;\n",
              "    }\n",
              "\n",
              "    .dataframe thead th {\n",
              "        text-align: right;\n",
              "    }\n",
              "</style>\n",
              "<table border=\"1\" class=\"dataframe\">\n",
              "  <thead>\n",
              "    <tr style=\"text-align: right;\">\n",
              "      <th></th>\n",
              "      <th>date</th>\n",
              "      <th>text</th>\n",
              "      <th>user_name</th>\n",
              "      <th>user_location</th>\n",
              "      <th>user_description</th>\n",
              "      <th>user_created</th>\n",
              "      <th>user_followers</th>\n",
              "      <th>user_friends</th>\n",
              "      <th>user_favourites</th>\n",
              "      <th>user_verified</th>\n",
              "      <th>...</th>\n",
              "      <th>source</th>\n",
              "      <th>TweetOrig</th>\n",
              "      <th>tweet_tokens</th>\n",
              "      <th>cleaned_tweet</th>\n",
              "      <th>sentiment</th>\n",
              "      <th>sentiments_val</th>\n",
              "      <th>sentiments_vader</th>\n",
              "      <th>compound</th>\n",
              "      <th>sentiment_vader</th>\n",
              "      <th>sentiment_bert</th>\n",
              "    </tr>\n",
              "  </thead>\n",
              "  <tbody>\n",
              "    <tr>\n",
              "      <th>0</th>\n",
              "      <td>2023-04-12 20:05:08+00:00</td>\n",
              "      <td>@100xAltcoinGems @NeuroniAI $NEURONI\\n\\n Join our official Telegram group to stay tuned for the latest Neuroni AI updates and news. \\n⪼ @NeuroniAI\\n \\n#AI #GPT4 #506x #NeuroniAI #Neuroni</td>\n",
              "      <td>fuari</td>\n",
              "      <td>Cyberspace</td>\n",
              "      <td>beautiful together</td>\n",
              "      <td>2022-12-27 16:50:49+00:00</td>\n",
              "      <td>57</td>\n",
              "      <td>170</td>\n",
              "      <td>446</td>\n",
              "      <td>False</td>\n",
              "      <td>...</td>\n",
              "      <td>Twitter for Android</td>\n",
              "      <td>@100xAltcoinGems @NeuroniAI $NEURONI\\n\\n Join our official Telegram group to stay tuned for the latest Neuroni AI updates and news. \\n⪼ @NeuroniAI\\n \\n#AI #GPT4 #506x #NeuroniAI #Neuroni</td>\n",
              "      <td>[neuroni, join, official, telegram, group, stay, tune, latest, neuroni, ai, update, news]</td>\n",
              "      <td>neuroni join official telegram group stay tune latest neuroni ai update news</td>\n",
              "      <td>-1.0</td>\n",
              "      <td>negative</td>\n",
              "      <td>{'neg': 0.0, 'neu': 0.833, 'pos': 0.167, 'compound': 0.296}</td>\n",
              "      <td>0.2960</td>\n",
              "      <td>positive</td>\n",
              "      <td>NEGATIVE</td>\n",
              "    </tr>\n",
              "    <tr>\n",
              "      <th>1</th>\n",
              "      <td>2023-04-12 20:05:06+00:00</td>\n",
              "      <td>@100xAltcoinGems @NeuroniAI $NEURONI\\n\\n Invest in $NEURONI and be part of our project reserve, with a total supply of 10M tokens and no dev tokens. \\n⪼ @NeuroniAI\\n \\n#AI #GPT4 #504x #NeuroniAI #Neuroni</td>\n",
              "      <td>fuari</td>\n",
              "      <td>Cyberspace</td>\n",
              "      <td>beautiful together</td>\n",
              "      <td>2022-12-27 16:50:49+00:00</td>\n",
              "      <td>57</td>\n",
              "      <td>170</td>\n",
              "      <td>446</td>\n",
              "      <td>False</td>\n",
              "      <td>...</td>\n",
              "      <td>Twitter for Android</td>\n",
              "      <td>@100xAltcoinGems @NeuroniAI $NEURONI\\n\\n Invest in $NEURONI and be part of our project reserve, with a total supply of 10M tokens and no dev tokens. \\n⪼ @NeuroniAI\\n \\n#AI #GPT4 #504x #NeuroniAI #Neuroni</td>\n",
              "      <td>[neuroni, invest, neuroni, part, project, reserve, total, supply, 10m, token, dev, token]</td>\n",
              "      <td>neuroni invest neuroni part project reserve total supply 10m token dev token</td>\n",
              "      <td>-1.0</td>\n",
              "      <td>negative</td>\n",
              "      <td>{'neg': 0.0, 'neu': 1.0, 'pos': 0.0, 'compound': 0.0}</td>\n",
              "      <td>0.0000</td>\n",
              "      <td>neutral</td>\n",
              "      <td>NEGATIVE</td>\n",
              "    </tr>\n",
              "    <tr>\n",
              "      <th>2</th>\n",
              "      <td>2023-04-12 20:05:04+00:00</td>\n",
              "      <td>@100xAltcoinGems @NeuroniAI $NEURONI\\n\\n Get ready for Neuroni AI Bot, available for free with all its features until Phase 3 of our roadmap. \\n⪼ @NeuroniAI\\n \\n#AI #GPT4 #502x #NeuroniAI #Neuroni</td>\n",
              "      <td>fuari</td>\n",
              "      <td>Cyberspace</td>\n",
              "      <td>beautiful together</td>\n",
              "      <td>2022-12-27 16:50:49+00:00</td>\n",
              "      <td>57</td>\n",
              "      <td>170</td>\n",
              "      <td>446</td>\n",
              "      <td>False</td>\n",
              "      <td>...</td>\n",
              "      <td>Twitter for Android</td>\n",
              "      <td>@100xAltcoinGems @NeuroniAI $NEURONI\\n\\n Get ready for Neuroni AI Bot, available for free with all its features until Phase 3 of our roadmap. \\n⪼ @NeuroniAI\\n \\n#AI #GPT4 #502x #NeuroniAI #Neuroni</td>\n",
              "      <td>[neuroni, get, ready, neuroni, ai, bot, available, free, feature, phase, roadmap]</td>\n",
              "      <td>neuroni get ready neuroni ai bot available free feature phase roadmap</td>\n",
              "      <td>-1.0</td>\n",
              "      <td>negative</td>\n",
              "      <td>{'neg': 0.0, 'neu': 0.608, 'pos': 0.392, 'compound': 0.7003}</td>\n",
              "      <td>0.7003</td>\n",
              "      <td>positive</td>\n",
              "      <td>NEGATIVE</td>\n",
              "    </tr>\n",
              "    <tr>\n",
              "      <th>3</th>\n",
              "      <td>2023-04-12 20:05:02+00:00</td>\n",
              "      <td>@100xAltcoinGems @NeuroniAI $NEURONI\\n\\n Want Neuroni AI in your Telegram group? Choose our Premium subscription for unlimited requests, priority access to updates, and more. \\n⪼ @NeuroniAI\\n \\n#AI #GPT4 #500x #NeuroniAI #Neuroni</td>\n",
              "      <td>fuari</td>\n",
              "      <td>Cyberspace</td>\n",
              "      <td>beautiful together</td>\n",
              "      <td>2022-12-27 16:50:49+00:00</td>\n",
              "      <td>57</td>\n",
              "      <td>170</td>\n",
              "      <td>446</td>\n",
              "      <td>False</td>\n",
              "      <td>...</td>\n",
              "      <td>Twitter for Android</td>\n",
              "      <td>@100xAltcoinGems @NeuroniAI $NEURONI\\n\\n Want Neuroni AI in your Telegram group? Choose our Premium subscription for unlimited requests, priority access to updates, and more. \\n⪼ @NeuroniAI\\n \\n#AI #GPT4 #500x #NeuroniAI #Neuroni</td>\n",
              "      <td>[neuroni, want, neuroni, ai, telegram, group, choose, premium, subscription, unlimited, request, priority, access, update]</td>\n",
              "      <td>neuroni want neuroni ai telegram group choose premium subscription unlimited request priority access update</td>\n",
              "      <td>-1.0</td>\n",
              "      <td>negative</td>\n",
              "      <td>{'neg': 0.0, 'neu': 0.909, 'pos': 0.091, 'compound': 0.0772}</td>\n",
              "      <td>0.0772</td>\n",
              "      <td>positive</td>\n",
              "      <td>NEGATIVE</td>\n",
              "    </tr>\n",
              "    <tr>\n",
              "      <th>4</th>\n",
              "      <td>2023-04-12 20:04:58+00:00</td>\n",
              "      <td>@100xAltcoinGems $NEURONI\\n\\n Discover the latest Neuroni AI functions, including moderation for Telegram groups, premium user options, and more. \\n⪼ @NeuroniAI\\n \\n#AI #GPT4 #455x #NeuroniAI #Neuroni \\nhttps://t.co/MTWGnV6z9J</td>\n",
              "      <td>fuari</td>\n",
              "      <td>Cyberspace</td>\n",
              "      <td>beautiful together</td>\n",
              "      <td>2022-12-27 16:50:49+00:00</td>\n",
              "      <td>57</td>\n",
              "      <td>170</td>\n",
              "      <td>446</td>\n",
              "      <td>False</td>\n",
              "      <td>...</td>\n",
              "      <td>Twitter for Android</td>\n",
              "      <td>@100xAltcoinGems $NEURONI\\n\\n Discover the latest Neuroni AI functions, including moderation for Telegram groups, premium user options, and more. \\n⪼ @NeuroniAI\\n \\n#AI #GPT4 #455x #NeuroniAI #Neuroni \\nhttps://t.co/MTWGnV6z9J</td>\n",
              "      <td>[neuroni, discover, latest, neuroni, ai, function, include, moderation, telegram, group, premium, user, option]</td>\n",
              "      <td>neuroni discover latest neuroni ai function include moderation telegram group premium user option</td>\n",
              "      <td>-1.0</td>\n",
              "      <td>negative</td>\n",
              "      <td>{'neg': 0.0, 'neu': 1.0, 'pos': 0.0, 'compound': 0.0}</td>\n",
              "      <td>0.0000</td>\n",
              "      <td>neutral</td>\n",
              "      <td>NEGATIVE</td>\n",
              "    </tr>\n",
              "    <tr>\n",
              "      <th>5</th>\n",
              "      <td>2023-04-12 20:04:58+00:00</td>\n",
              "      <td>You can earn thousands of 💰💰💰 using these AI...\\n\\nClick here learn more &amp;gt;&amp;gt;&amp;gt; https://t.co/DHv9IqlfGu\\n\\n#AI #GPT4 #GPT3 #GPT5 #gpt4chain #gpt_4 #gpt3 #ChatGPT #chatgpt4 #chatGptPlus #selfemployment #makemoneyathome #onlineincome #passiveincomestream #entrepreneurmindset https://t.co/gCWFhjAK31</td>\n",
              "      <td>Kubode Raymond</td>\n",
              "      <td>United Kingdom</td>\n",
              "      <td>A Digital marketer, and freelancer at Fiverr. An expertise in using digital marketing techniques to promote businesses,Provide money making tricks and  more...</td>\n",
              "      <td>2023-04-12 00:19:34+00:00</td>\n",
              "      <td>1</td>\n",
              "      <td>4</td>\n",
              "      <td>15</td>\n",
              "      <td>False</td>\n",
              "      <td>...</td>\n",
              "      <td>Twitter Web App</td>\n",
              "      <td>You can earn thousands of 💰💰💰 using these AI...\\n\\nClick here learn more &amp;gt;&amp;gt;&amp;gt; https://t.co/DHv9IqlfGu\\n\\n#AI #GPT4 #GPT3 #GPT5 #gpt4chain #gpt_4 #gpt3 #ChatGPT #chatgpt4 #chatGptPlus #selfemployment #makemoneyathome #onlineincome #passiveincomestream #entrepreneurmindset https://t.co/gCWFhjAK31</td>\n",
              "      <td>[earn, thousand, use, ai, click, learn, gt, gt, gt]</td>\n",
              "      <td>earn thousand use ai click learn gt gt gt</td>\n",
              "      <td>-1.0</td>\n",
              "      <td>negative</td>\n",
              "      <td>{'neg': 0.0, 'neu': 0.488, 'pos': 0.512, 'compound': 0.6486}</td>\n",
              "      <td>0.6486</td>\n",
              "      <td>positive</td>\n",
              "      <td>NEGATIVE</td>\n",
              "    </tr>\n",
              "    <tr>\n",
              "      <th>6</th>\n",
              "      <td>2023-04-12 20:04:46+00:00</td>\n",
              "      <td>@DaCryptoCom @NeuroniAI $NEURONI\\n\\n Need code in a specific programming language? Neuroni AI can create it on demand, including deciphering cryptographic ciphers. \\n⪼ @NeuroniAI\\n \\n#AI #GPT4 #444x #NeuroniAI #Neuroni</td>\n",
              "      <td>fuari</td>\n",
              "      <td>Cyberspace</td>\n",
              "      <td>beautiful together</td>\n",
              "      <td>2022-12-27 16:50:49+00:00</td>\n",
              "      <td>57</td>\n",
              "      <td>170</td>\n",
              "      <td>446</td>\n",
              "      <td>False</td>\n",
              "      <td>...</td>\n",
              "      <td>Twitter for Android</td>\n",
              "      <td>@DaCryptoCom @NeuroniAI $NEURONI\\n\\n Need code in a specific programming language? Neuroni AI can create it on demand, including deciphering cryptographic ciphers. \\n⪼ @NeuroniAI\\n \\n#AI #GPT4 #444x #NeuroniAI #Neuroni</td>\n",
              "      <td>[neuroni, need, code, specific, program, language, neuroni, ai, create, demand, include, decipher, cryptographic, cipher]</td>\n",
              "      <td>neuroni need code specific program language neuroni ai create demand include decipher cryptographic cipher</td>\n",
              "      <td>-1.0</td>\n",
              "      <td>negative</td>\n",
              "      <td>{'neg': 0.096, 'neu': 0.769, 'pos': 0.135, 'compound': 0.1531}</td>\n",
              "      <td>0.1531</td>\n",
              "      <td>positive</td>\n",
              "      <td>NEGATIVE</td>\n",
              "    </tr>\n",
              "    <tr>\n",
              "      <th>7</th>\n",
              "      <td>2023-04-12 20:04:44+00:00</td>\n",
              "      <td>@DaCryptoCom @NeuroniAI $NEURONI\\n\\n When there seems to be no solution, Neuroni AI is there to provide precise answers in unexpected professions. \\n⪼ @NeuroniAI\\n \\n#AI #GPT4 #442x #NeuroniAI #Neuroni</td>\n",
              "      <td>fuari</td>\n",
              "      <td>Cyberspace</td>\n",
              "      <td>beautiful together</td>\n",
              "      <td>2022-12-27 16:50:49+00:00</td>\n",
              "      <td>57</td>\n",
              "      <td>170</td>\n",
              "      <td>446</td>\n",
              "      <td>False</td>\n",
              "      <td>...</td>\n",
              "      <td>Twitter for Android</td>\n",
              "      <td>@DaCryptoCom @NeuroniAI $NEURONI\\n\\n When there seems to be no solution, Neuroni AI is there to provide precise answers in unexpected professions. \\n⪼ @NeuroniAI\\n \\n#AI #GPT4 #442x #NeuroniAI #Neuroni</td>\n",
              "      <td>[neuroni, seem, solution, neuroni, ai, provide, precise, answer, unexpected, profession]</td>\n",
              "      <td>neuroni seem solution neuroni ai provide precise answer unexpected profession</td>\n",
              "      <td>-1.0</td>\n",
              "      <td>negative</td>\n",
              "      <td>{'neg': 0.0, 'neu': 0.796, 'pos': 0.204, 'compound': 0.3182}</td>\n",
              "      <td>0.3182</td>\n",
              "      <td>positive</td>\n",
              "      <td>POSITIVE</td>\n",
              "    </tr>\n",
              "    <tr>\n",
              "      <th>8</th>\n",
              "      <td>2023-04-12 20:04:42+00:00</td>\n",
              "      <td>@DaCryptoCom @NeuroniAI $NEURONI\\n\\n Neuroni AI can do it all - from answering sophisticated questions to creating smart contracts and even websites in multiple programming languages. \\n⪼ @NeuroniAI\\n \\n#AI #GPT4 #440x #NeuroniAI #Neuroni</td>\n",
              "      <td>fuari</td>\n",
              "      <td>Cyberspace</td>\n",
              "      <td>beautiful together</td>\n",
              "      <td>2022-12-27 16:50:49+00:00</td>\n",
              "      <td>57</td>\n",
              "      <td>170</td>\n",
              "      <td>446</td>\n",
              "      <td>False</td>\n",
              "      <td>...</td>\n",
              "      <td>Twitter for Android</td>\n",
              "      <td>@DaCryptoCom @NeuroniAI $NEURONI\\n\\n Neuroni AI can do it all - from answering sophisticated questions to creating smart contracts and even websites in multiple programming languages. \\n⪼ @NeuroniAI\\n \\n#AI #GPT4 #440x #NeuroniAI #Neuroni</td>\n",
              "      <td>[neuroni, neuroni, ai, answer, sophisticate, question, create, smart, contract, even, website, multiple, program, language]</td>\n",
              "      <td>neuroni neuroni ai answer sophisticate question create smart contract even website multiple program language</td>\n",
              "      <td>-1.0</td>\n",
              "      <td>negative</td>\n",
              "      <td>{'neg': 0.0, 'neu': 0.714, 'pos': 0.286, 'compound': 0.5859}</td>\n",
              "      <td>0.5859</td>\n",
              "      <td>positive</td>\n",
              "      <td>POSITIVE</td>\n",
              "    </tr>\n",
              "    <tr>\n",
              "      <th>9</th>\n",
              "      <td>2023-04-12 20:04:40+00:00</td>\n",
              "      <td>@DaCryptoCom @NeuroniAI $NEURONI\\n\\n Neuroni AI is constantly evolving thanks to our team of geniuses, offering new services like image and vocal generation in the near future. \\n⪼ @NeuroniAI\\n \\n#AI #GPT4 #438x #NeuroniAI #Neuroni</td>\n",
              "      <td>fuari</td>\n",
              "      <td>Cyberspace</td>\n",
              "      <td>beautiful together</td>\n",
              "      <td>2022-12-27 16:50:49+00:00</td>\n",
              "      <td>57</td>\n",
              "      <td>170</td>\n",
              "      <td>446</td>\n",
              "      <td>False</td>\n",
              "      <td>...</td>\n",
              "      <td>Twitter for Android</td>\n",
              "      <td>@DaCryptoCom @NeuroniAI $NEURONI\\n\\n Neuroni AI is constantly evolving thanks to our team of geniuses, offering new services like image and vocal generation in the near future. \\n⪼ @NeuroniAI\\n \\n#AI #GPT4 #438x #NeuroniAI #Neuroni</td>\n",
              "      <td>[neuroni, neuroni, ai, constantly, evolve, thank, team, genius, offer, new, service, like, image, vocal, generation, near, future]</td>\n",
              "      <td>neuroni neuroni ai constantly evolve thank team genius offer new service like image vocal generation near future</td>\n",
              "      <td>-1.0</td>\n",
              "      <td>negative</td>\n",
              "      <td>{'neg': 0.0, 'neu': 0.75, 'pos': 0.25, 'compound': 0.6124}</td>\n",
              "      <td>0.6124</td>\n",
              "      <td>positive</td>\n",
              "      <td>POSITIVE</td>\n",
              "    </tr>\n",
              "  </tbody>\n",
              "</table>\n",
              "<p>10 rows × 21 columns</p>\n",
              "</div>\n",
              "      <button class=\"colab-df-convert\" onclick=\"convertToInteractive('df-d7cd12f2-cff4-4e2c-8399-cb60f5300521')\"\n",
              "              title=\"Convert this dataframe to an interactive table.\"\n",
              "              style=\"display:none;\">\n",
              "        \n",
              "  <svg xmlns=\"http://www.w3.org/2000/svg\" height=\"24px\"viewBox=\"0 0 24 24\"\n",
              "       width=\"24px\">\n",
              "    <path d=\"M0 0h24v24H0V0z\" fill=\"none\"/>\n",
              "    <path d=\"M18.56 5.44l.94 2.06.94-2.06 2.06-.94-2.06-.94-.94-2.06-.94 2.06-2.06.94zm-11 1L8.5 8.5l.94-2.06 2.06-.94-2.06-.94L8.5 2.5l-.94 2.06-2.06.94zm10 10l.94 2.06.94-2.06 2.06-.94-2.06-.94-.94-2.06-.94 2.06-2.06.94z\"/><path d=\"M17.41 7.96l-1.37-1.37c-.4-.4-.92-.59-1.43-.59-.52 0-1.04.2-1.43.59L10.3 9.45l-7.72 7.72c-.78.78-.78 2.05 0 2.83L4 21.41c.39.39.9.59 1.41.59.51 0 1.02-.2 1.41-.59l7.78-7.78 2.81-2.81c.8-.78.8-2.07 0-2.86zM5.41 20L4 18.59l7.72-7.72 1.47 1.35L5.41 20z\"/>\n",
              "  </svg>\n",
              "      </button>\n",
              "      \n",
              "  <style>\n",
              "    .colab-df-container {\n",
              "      display:flex;\n",
              "      flex-wrap:wrap;\n",
              "      gap: 12px;\n",
              "    }\n",
              "\n",
              "    .colab-df-convert {\n",
              "      background-color: #E8F0FE;\n",
              "      border: none;\n",
              "      border-radius: 50%;\n",
              "      cursor: pointer;\n",
              "      display: none;\n",
              "      fill: #1967D2;\n",
              "      height: 32px;\n",
              "      padding: 0 0 0 0;\n",
              "      width: 32px;\n",
              "    }\n",
              "\n",
              "    .colab-df-convert:hover {\n",
              "      background-color: #E2EBFA;\n",
              "      box-shadow: 0px 1px 2px rgba(60, 64, 67, 0.3), 0px 1px 3px 1px rgba(60, 64, 67, 0.15);\n",
              "      fill: #174EA6;\n",
              "    }\n",
              "\n",
              "    [theme=dark] .colab-df-convert {\n",
              "      background-color: #3B4455;\n",
              "      fill: #D2E3FC;\n",
              "    }\n",
              "\n",
              "    [theme=dark] .colab-df-convert:hover {\n",
              "      background-color: #434B5C;\n",
              "      box-shadow: 0px 1px 3px 1px rgba(0, 0, 0, 0.15);\n",
              "      filter: drop-shadow(0px 1px 2px rgba(0, 0, 0, 0.3));\n",
              "      fill: #FFFFFF;\n",
              "    }\n",
              "  </style>\n",
              "\n",
              "      <script>\n",
              "        const buttonEl =\n",
              "          document.querySelector('#df-d7cd12f2-cff4-4e2c-8399-cb60f5300521 button.colab-df-convert');\n",
              "        buttonEl.style.display =\n",
              "          google.colab.kernel.accessAllowed ? 'block' : 'none';\n",
              "\n",
              "        async function convertToInteractive(key) {\n",
              "          const element = document.querySelector('#df-d7cd12f2-cff4-4e2c-8399-cb60f5300521');\n",
              "          const dataTable =\n",
              "            await google.colab.kernel.invokeFunction('convertToInteractive',\n",
              "                                                     [key], {});\n",
              "          if (!dataTable) return;\n",
              "\n",
              "          const docLinkHtml = 'Like what you see? Visit the ' +\n",
              "            '<a target=\"_blank\" href=https://colab.research.google.com/notebooks/data_table.ipynb>data table notebook</a>'\n",
              "            + ' to learn more about interactive tables.';\n",
              "          element.innerHTML = '';\n",
              "          dataTable['output_type'] = 'display_data';\n",
              "          await google.colab.output.renderOutput(dataTable, element);\n",
              "          const docLink = document.createElement('div');\n",
              "          docLink.innerHTML = docLinkHtml;\n",
              "          element.appendChild(docLink);\n",
              "        }\n",
              "      </script>\n",
              "    </div>\n",
              "  </div>\n",
              "  "
            ]
          },
          "metadata": {},
          "execution_count": 281
        }
      ]
    },
    {
      "cell_type": "code",
      "source": [
        "tweets['sentiment_bert'] = tweets['sentiment_bert'].str.lower()"
      ],
      "metadata": {
        "id": "wlVsuLJn2h2c"
      },
      "execution_count": null,
      "outputs": []
    },
    {
      "cell_type": "markdown",
      "source": [
        "### Sentiment Analysis comparison"
      ],
      "metadata": {
        "id": "vrfscV2DCF7d"
      }
    },
    {
      "cell_type": "code",
      "source": [
        "# turn all the sentiment numbers to words\n",
        "def sentimentBack(score):\n",
        "    if score == 1:\n",
        "        return 'positive'\n",
        "    elif score == -1: \n",
        "        return 'negative'\n",
        "    else:\n",
        "        return 'neutral'"
      ],
      "metadata": {
        "id": "LN-MvAXP2h4q"
      },
      "execution_count": null,
      "outputs": []
    },
    {
      "cell_type": "code",
      "source": [
        "# apply the function from the previous cell to create results column for the Kmeans algoirithm\n",
        "# we turn it into words for better interpreation by visualizations\n",
        "tweets['sentiment_kmeans']=tweets['sentiment'].apply(sentimentBack)\n",
        "tweets.head(10)"
      ],
      "metadata": {
        "id": "CutSvu2RCKbM",
        "colab": {
          "base_uri": "https://localhost:8080/",
          "height": 1000
        },
        "outputId": "41f4f376-244a-4317-b655-6ac1e95369b7"
      },
      "execution_count": null,
      "outputs": [
        {
          "output_type": "execute_result",
          "data": {
            "text/plain": [
              "                        date  \\\n",
              "0  2023-04-12 20:05:08+00:00   \n",
              "1  2023-04-12 20:05:06+00:00   \n",
              "2  2023-04-12 20:05:04+00:00   \n",
              "3  2023-04-12 20:05:02+00:00   \n",
              "4  2023-04-12 20:04:58+00:00   \n",
              "5  2023-04-12 20:04:58+00:00   \n",
              "6  2023-04-12 20:04:46+00:00   \n",
              "7  2023-04-12 20:04:44+00:00   \n",
              "8  2023-04-12 20:04:42+00:00   \n",
              "9  2023-04-12 20:04:40+00:00   \n",
              "\n",
              "                                                                                                                                                                                                                                                                                                              text  \\\n",
              "0  @100xAltcoinGems @NeuroniAI $NEURONI\\n\\n Join our official Telegram group to stay tuned for the latest Neuroni AI updates and news. \\n⪼ @NeuroniAI\\n \\n#AI #GPT4 #506x #NeuroniAI #Neuroni                                                                                                                        \n",
              "1  @100xAltcoinGems @NeuroniAI $NEURONI\\n\\n Invest in $NEURONI and be part of our project reserve, with a total supply of 10M tokens and no dev tokens. \\n⪼ @NeuroniAI\\n \\n#AI #GPT4 #504x #NeuroniAI #Neuroni                                                                                                       \n",
              "2  @100xAltcoinGems @NeuroniAI $NEURONI\\n\\n Get ready for Neuroni AI Bot, available for free with all its features until Phase 3 of our roadmap. \\n⪼ @NeuroniAI\\n \\n#AI #GPT4 #502x #NeuroniAI #Neuroni                                                                                                              \n",
              "3  @100xAltcoinGems @NeuroniAI $NEURONI\\n\\n Want Neuroni AI in your Telegram group? Choose our Premium subscription for unlimited requests, priority access to updates, and more. \\n⪼ @NeuroniAI\\n \\n#AI #GPT4 #500x #NeuroniAI #Neuroni                                                                             \n",
              "4  @100xAltcoinGems $NEURONI\\n\\n Discover the latest Neuroni AI functions, including moderation for Telegram groups, premium user options, and more. \\n⪼ @NeuroniAI\\n \\n#AI #GPT4 #455x #NeuroniAI #Neuroni \\nhttps://t.co/MTWGnV6z9J                                                                                \n",
              "5  You can earn thousands of 💰💰💰 using these AI...\\n\\nClick here learn more &gt;&gt;&gt; https://t.co/DHv9IqlfGu\\n\\n#AI #GPT4 #GPT3 #GPT5 #gpt4chain #gpt_4 #gpt3 #ChatGPT #chatgpt4 #chatGptPlus #selfemployment #makemoneyathome #onlineincome #passiveincomestream #entrepreneurmindset https://t.co/gCWFhjAK31   \n",
              "6  @DaCryptoCom @NeuroniAI $NEURONI\\n\\n Need code in a specific programming language? Neuroni AI can create it on demand, including deciphering cryptographic ciphers. \\n⪼ @NeuroniAI\\n \\n#AI #GPT4 #444x #NeuroniAI #Neuroni                                                                                        \n",
              "7  @DaCryptoCom @NeuroniAI $NEURONI\\n\\n When there seems to be no solution, Neuroni AI is there to provide precise answers in unexpected professions. \\n⪼ @NeuroniAI\\n \\n#AI #GPT4 #442x #NeuroniAI #Neuroni                                                                                                         \n",
              "8  @DaCryptoCom @NeuroniAI $NEURONI\\n\\n Neuroni AI can do it all - from answering sophisticated questions to creating smart contracts and even websites in multiple programming languages. \\n⪼ @NeuroniAI\\n \\n#AI #GPT4 #440x #NeuroniAI #Neuroni                                                                    \n",
              "9  @DaCryptoCom @NeuroniAI $NEURONI\\n\\n Neuroni AI is constantly evolving thanks to our team of geniuses, offering new services like image and vocal generation in the near future. \\n⪼ @NeuroniAI\\n \\n#AI #GPT4 #438x #NeuroniAI #Neuroni                                                                           \n",
              "\n",
              "        user_name   user_location  \\\n",
              "0  fuari           Cyberspace       \n",
              "1  fuari           Cyberspace       \n",
              "2  fuari           Cyberspace       \n",
              "3  fuari           Cyberspace       \n",
              "4  fuari           Cyberspace       \n",
              "5  Kubode Raymond  United Kingdom   \n",
              "6  fuari           Cyberspace       \n",
              "7  fuari           Cyberspace       \n",
              "8  fuari           Cyberspace       \n",
              "9  fuari           Cyberspace       \n",
              "\n",
              "                                                                                                                                                  user_description  \\\n",
              "0  beautiful together                                                                                                                                                \n",
              "1  beautiful together                                                                                                                                                \n",
              "2  beautiful together                                                                                                                                                \n",
              "3  beautiful together                                                                                                                                                \n",
              "4  beautiful together                                                                                                                                                \n",
              "5  A Digital marketer, and freelancer at Fiverr. An expertise in using digital marketing techniques to promote businesses,Provide money making tricks and  more...   \n",
              "6  beautiful together                                                                                                                                                \n",
              "7  beautiful together                                                                                                                                                \n",
              "8  beautiful together                                                                                                                                                \n",
              "9  beautiful together                                                                                                                                                \n",
              "\n",
              "                user_created  user_followers  user_friends  user_favourites  \\\n",
              "0  2022-12-27 16:50:49+00:00  57              170           446               \n",
              "1  2022-12-27 16:50:49+00:00  57              170           446               \n",
              "2  2022-12-27 16:50:49+00:00  57              170           446               \n",
              "3  2022-12-27 16:50:49+00:00  57              170           446               \n",
              "4  2022-12-27 16:50:49+00:00  57              170           446               \n",
              "5  2023-04-12 00:19:34+00:00  1               4             15                \n",
              "6  2022-12-27 16:50:49+00:00  57              170           446               \n",
              "7  2022-12-27 16:50:49+00:00  57              170           446               \n",
              "8  2022-12-27 16:50:49+00:00  57              170           446               \n",
              "9  2022-12-27 16:50:49+00:00  57              170           446               \n",
              "\n",
              "   user_verified  ...  \\\n",
              "0  False          ...   \n",
              "1  False          ...   \n",
              "2  False          ...   \n",
              "3  False          ...   \n",
              "4  False          ...   \n",
              "5  False          ...   \n",
              "6  False          ...   \n",
              "7  False          ...   \n",
              "8  False          ...   \n",
              "9  False          ...   \n",
              "\n",
              "                                                                                                                                                                                                                                                                                                         TweetOrig  \\\n",
              "0  @100xAltcoinGems @NeuroniAI $NEURONI\\n\\n Join our official Telegram group to stay tuned for the latest Neuroni AI updates and news. \\n⪼ @NeuroniAI\\n \\n#AI #GPT4 #506x #NeuroniAI #Neuroni                                                                                                                        \n",
              "1  @100xAltcoinGems @NeuroniAI $NEURONI\\n\\n Invest in $NEURONI and be part of our project reserve, with a total supply of 10M tokens and no dev tokens. \\n⪼ @NeuroniAI\\n \\n#AI #GPT4 #504x #NeuroniAI #Neuroni                                                                                                       \n",
              "2  @100xAltcoinGems @NeuroniAI $NEURONI\\n\\n Get ready for Neuroni AI Bot, available for free with all its features until Phase 3 of our roadmap. \\n⪼ @NeuroniAI\\n \\n#AI #GPT4 #502x #NeuroniAI #Neuroni                                                                                                              \n",
              "3  @100xAltcoinGems @NeuroniAI $NEURONI\\n\\n Want Neuroni AI in your Telegram group? Choose our Premium subscription for unlimited requests, priority access to updates, and more. \\n⪼ @NeuroniAI\\n \\n#AI #GPT4 #500x #NeuroniAI #Neuroni                                                                             \n",
              "4  @100xAltcoinGems $NEURONI\\n\\n Discover the latest Neuroni AI functions, including moderation for Telegram groups, premium user options, and more. \\n⪼ @NeuroniAI\\n \\n#AI #GPT4 #455x #NeuroniAI #Neuroni \\nhttps://t.co/MTWGnV6z9J                                                                                \n",
              "5  You can earn thousands of 💰💰💰 using these AI...\\n\\nClick here learn more &gt;&gt;&gt; https://t.co/DHv9IqlfGu\\n\\n#AI #GPT4 #GPT3 #GPT5 #gpt4chain #gpt_4 #gpt3 #ChatGPT #chatgpt4 #chatGptPlus #selfemployment #makemoneyathome #onlineincome #passiveincomestream #entrepreneurmindset https://t.co/gCWFhjAK31   \n",
              "6  @DaCryptoCom @NeuroniAI $NEURONI\\n\\n Need code in a specific programming language? Neuroni AI can create it on demand, including deciphering cryptographic ciphers. \\n⪼ @NeuroniAI\\n \\n#AI #GPT4 #444x #NeuroniAI #Neuroni                                                                                        \n",
              "7  @DaCryptoCom @NeuroniAI $NEURONI\\n\\n When there seems to be no solution, Neuroni AI is there to provide precise answers in unexpected professions. \\n⪼ @NeuroniAI\\n \\n#AI #GPT4 #442x #NeuroniAI #Neuroni                                                                                                         \n",
              "8  @DaCryptoCom @NeuroniAI $NEURONI\\n\\n Neuroni AI can do it all - from answering sophisticated questions to creating smart contracts and even websites in multiple programming languages. \\n⪼ @NeuroniAI\\n \\n#AI #GPT4 #440x #NeuroniAI #Neuroni                                                                    \n",
              "9  @DaCryptoCom @NeuroniAI $NEURONI\\n\\n Neuroni AI is constantly evolving thanks to our team of geniuses, offering new services like image and vocal generation in the near future. \\n⪼ @NeuroniAI\\n \\n#AI #GPT4 #438x #NeuroniAI #Neuroni                                                                           \n",
              "\n",
              "                                                                                                                         tweet_tokens  \\\n",
              "0  [neuroni, join, official, telegram, group, stay, tune, latest, neuroni, ai, update, news]                                            \n",
              "1  [neuroni, invest, neuroni, part, project, reserve, total, supply, 10m, token, dev, token]                                            \n",
              "2  [neuroni, get, ready, neuroni, ai, bot, available, free, feature, phase, roadmap]                                                    \n",
              "3  [neuroni, want, neuroni, ai, telegram, group, choose, premium, subscription, unlimited, request, priority, access, update]           \n",
              "4  [neuroni, discover, latest, neuroni, ai, function, include, moderation, telegram, group, premium, user, option]                      \n",
              "5  [earn, thousand, use, ai, click, learn, gt, gt, gt]                                                                                  \n",
              "6  [neuroni, need, code, specific, program, language, neuroni, ai, create, demand, include, decipher, cryptographic, cipher]            \n",
              "7  [neuroni, seem, solution, neuroni, ai, provide, precise, answer, unexpected, profession]                                             \n",
              "8  [neuroni, neuroni, ai, answer, sophisticate, question, create, smart, contract, even, website, multiple, program, language]          \n",
              "9  [neuroni, neuroni, ai, constantly, evolve, thank, team, genius, offer, new, service, like, image, vocal, generation, near, future]   \n",
              "\n",
              "                                                                                                      cleaned_tweet  \\\n",
              "0  neuroni join official telegram group stay tune latest neuroni ai update news                                       \n",
              "1  neuroni invest neuroni part project reserve total supply 10m token dev token                                       \n",
              "2  neuroni get ready neuroni ai bot available free feature phase roadmap                                              \n",
              "3  neuroni want neuroni ai telegram group choose premium subscription unlimited request priority access update        \n",
              "4  neuroni discover latest neuroni ai function include moderation telegram group premium user option                  \n",
              "5  earn thousand use ai click learn gt gt gt                                                                          \n",
              "6  neuroni need code specific program language neuroni ai create demand include decipher cryptographic cipher         \n",
              "7  neuroni seem solution neuroni ai provide precise answer unexpected profession                                      \n",
              "8  neuroni neuroni ai answer sophisticate question create smart contract even website multiple program language       \n",
              "9  neuroni neuroni ai constantly evolve thank team genius offer new service like image vocal generation near future   \n",
              "\n",
              "  sentiment sentiments_val  \\\n",
              "0 -1.0       negative        \n",
              "1 -1.0       negative        \n",
              "2 -1.0       negative        \n",
              "3 -1.0       negative        \n",
              "4 -1.0       negative        \n",
              "5 -1.0       negative        \n",
              "6 -1.0       negative        \n",
              "7 -1.0       negative        \n",
              "8 -1.0       negative        \n",
              "9 -1.0       negative        \n",
              "\n",
              "                                                 sentiments_vader compound  \\\n",
              "0  {'neg': 0.0, 'neu': 0.833, 'pos': 0.167, 'compound': 0.296}     0.2960    \n",
              "1  {'neg': 0.0, 'neu': 1.0, 'pos': 0.0, 'compound': 0.0}           0.0000    \n",
              "2  {'neg': 0.0, 'neu': 0.608, 'pos': 0.392, 'compound': 0.7003}    0.7003    \n",
              "3  {'neg': 0.0, 'neu': 0.909, 'pos': 0.091, 'compound': 0.0772}    0.0772    \n",
              "4  {'neg': 0.0, 'neu': 1.0, 'pos': 0.0, 'compound': 0.0}           0.0000    \n",
              "5  {'neg': 0.0, 'neu': 0.488, 'pos': 0.512, 'compound': 0.6486}    0.6486    \n",
              "6  {'neg': 0.096, 'neu': 0.769, 'pos': 0.135, 'compound': 0.1531}  0.1531    \n",
              "7  {'neg': 0.0, 'neu': 0.796, 'pos': 0.204, 'compound': 0.3182}    0.3182    \n",
              "8  {'neg': 0.0, 'neu': 0.714, 'pos': 0.286, 'compound': 0.5859}    0.5859    \n",
              "9  {'neg': 0.0, 'neu': 0.75, 'pos': 0.25, 'compound': 0.6124}      0.6124    \n",
              "\n",
              "  sentiment_vader  sentiment_bert sentiment_kmeans  \n",
              "0  positive        negative        negative         \n",
              "1  neutral         negative        negative         \n",
              "2  positive        negative        negative         \n",
              "3  positive        negative        negative         \n",
              "4  neutral         negative        negative         \n",
              "5  positive        negative        negative         \n",
              "6  positive        negative        negative         \n",
              "7  positive        positive        negative         \n",
              "8  positive        positive        negative         \n",
              "9  positive        positive        negative         \n",
              "\n",
              "[10 rows x 22 columns]"
            ],
            "text/html": [
              "\n",
              "  <div id=\"df-6a0558b7-b0bf-4acc-ac7d-49ac5437342b\">\n",
              "    <div class=\"colab-df-container\">\n",
              "      <div>\n",
              "<style scoped>\n",
              "    .dataframe tbody tr th:only-of-type {\n",
              "        vertical-align: middle;\n",
              "    }\n",
              "\n",
              "    .dataframe tbody tr th {\n",
              "        vertical-align: top;\n",
              "    }\n",
              "\n",
              "    .dataframe thead th {\n",
              "        text-align: right;\n",
              "    }\n",
              "</style>\n",
              "<table border=\"1\" class=\"dataframe\">\n",
              "  <thead>\n",
              "    <tr style=\"text-align: right;\">\n",
              "      <th></th>\n",
              "      <th>date</th>\n",
              "      <th>text</th>\n",
              "      <th>user_name</th>\n",
              "      <th>user_location</th>\n",
              "      <th>user_description</th>\n",
              "      <th>user_created</th>\n",
              "      <th>user_followers</th>\n",
              "      <th>user_friends</th>\n",
              "      <th>user_favourites</th>\n",
              "      <th>user_verified</th>\n",
              "      <th>...</th>\n",
              "      <th>TweetOrig</th>\n",
              "      <th>tweet_tokens</th>\n",
              "      <th>cleaned_tweet</th>\n",
              "      <th>sentiment</th>\n",
              "      <th>sentiments_val</th>\n",
              "      <th>sentiments_vader</th>\n",
              "      <th>compound</th>\n",
              "      <th>sentiment_vader</th>\n",
              "      <th>sentiment_bert</th>\n",
              "      <th>sentiment_kmeans</th>\n",
              "    </tr>\n",
              "  </thead>\n",
              "  <tbody>\n",
              "    <tr>\n",
              "      <th>0</th>\n",
              "      <td>2023-04-12 20:05:08+00:00</td>\n",
              "      <td>@100xAltcoinGems @NeuroniAI $NEURONI\\n\\n Join our official Telegram group to stay tuned for the latest Neuroni AI updates and news. \\n⪼ @NeuroniAI\\n \\n#AI #GPT4 #506x #NeuroniAI #Neuroni</td>\n",
              "      <td>fuari</td>\n",
              "      <td>Cyberspace</td>\n",
              "      <td>beautiful together</td>\n",
              "      <td>2022-12-27 16:50:49+00:00</td>\n",
              "      <td>57</td>\n",
              "      <td>170</td>\n",
              "      <td>446</td>\n",
              "      <td>False</td>\n",
              "      <td>...</td>\n",
              "      <td>@100xAltcoinGems @NeuroniAI $NEURONI\\n\\n Join our official Telegram group to stay tuned for the latest Neuroni AI updates and news. \\n⪼ @NeuroniAI\\n \\n#AI #GPT4 #506x #NeuroniAI #Neuroni</td>\n",
              "      <td>[neuroni, join, official, telegram, group, stay, tune, latest, neuroni, ai, update, news]</td>\n",
              "      <td>neuroni join official telegram group stay tune latest neuroni ai update news</td>\n",
              "      <td>-1.0</td>\n",
              "      <td>negative</td>\n",
              "      <td>{'neg': 0.0, 'neu': 0.833, 'pos': 0.167, 'compound': 0.296}</td>\n",
              "      <td>0.2960</td>\n",
              "      <td>positive</td>\n",
              "      <td>negative</td>\n",
              "      <td>negative</td>\n",
              "    </tr>\n",
              "    <tr>\n",
              "      <th>1</th>\n",
              "      <td>2023-04-12 20:05:06+00:00</td>\n",
              "      <td>@100xAltcoinGems @NeuroniAI $NEURONI\\n\\n Invest in $NEURONI and be part of our project reserve, with a total supply of 10M tokens and no dev tokens. \\n⪼ @NeuroniAI\\n \\n#AI #GPT4 #504x #NeuroniAI #Neuroni</td>\n",
              "      <td>fuari</td>\n",
              "      <td>Cyberspace</td>\n",
              "      <td>beautiful together</td>\n",
              "      <td>2022-12-27 16:50:49+00:00</td>\n",
              "      <td>57</td>\n",
              "      <td>170</td>\n",
              "      <td>446</td>\n",
              "      <td>False</td>\n",
              "      <td>...</td>\n",
              "      <td>@100xAltcoinGems @NeuroniAI $NEURONI\\n\\n Invest in $NEURONI and be part of our project reserve, with a total supply of 10M tokens and no dev tokens. \\n⪼ @NeuroniAI\\n \\n#AI #GPT4 #504x #NeuroniAI #Neuroni</td>\n",
              "      <td>[neuroni, invest, neuroni, part, project, reserve, total, supply, 10m, token, dev, token]</td>\n",
              "      <td>neuroni invest neuroni part project reserve total supply 10m token dev token</td>\n",
              "      <td>-1.0</td>\n",
              "      <td>negative</td>\n",
              "      <td>{'neg': 0.0, 'neu': 1.0, 'pos': 0.0, 'compound': 0.0}</td>\n",
              "      <td>0.0000</td>\n",
              "      <td>neutral</td>\n",
              "      <td>negative</td>\n",
              "      <td>negative</td>\n",
              "    </tr>\n",
              "    <tr>\n",
              "      <th>2</th>\n",
              "      <td>2023-04-12 20:05:04+00:00</td>\n",
              "      <td>@100xAltcoinGems @NeuroniAI $NEURONI\\n\\n Get ready for Neuroni AI Bot, available for free with all its features until Phase 3 of our roadmap. \\n⪼ @NeuroniAI\\n \\n#AI #GPT4 #502x #NeuroniAI #Neuroni</td>\n",
              "      <td>fuari</td>\n",
              "      <td>Cyberspace</td>\n",
              "      <td>beautiful together</td>\n",
              "      <td>2022-12-27 16:50:49+00:00</td>\n",
              "      <td>57</td>\n",
              "      <td>170</td>\n",
              "      <td>446</td>\n",
              "      <td>False</td>\n",
              "      <td>...</td>\n",
              "      <td>@100xAltcoinGems @NeuroniAI $NEURONI\\n\\n Get ready for Neuroni AI Bot, available for free with all its features until Phase 3 of our roadmap. \\n⪼ @NeuroniAI\\n \\n#AI #GPT4 #502x #NeuroniAI #Neuroni</td>\n",
              "      <td>[neuroni, get, ready, neuroni, ai, bot, available, free, feature, phase, roadmap]</td>\n",
              "      <td>neuroni get ready neuroni ai bot available free feature phase roadmap</td>\n",
              "      <td>-1.0</td>\n",
              "      <td>negative</td>\n",
              "      <td>{'neg': 0.0, 'neu': 0.608, 'pos': 0.392, 'compound': 0.7003}</td>\n",
              "      <td>0.7003</td>\n",
              "      <td>positive</td>\n",
              "      <td>negative</td>\n",
              "      <td>negative</td>\n",
              "    </tr>\n",
              "    <tr>\n",
              "      <th>3</th>\n",
              "      <td>2023-04-12 20:05:02+00:00</td>\n",
              "      <td>@100xAltcoinGems @NeuroniAI $NEURONI\\n\\n Want Neuroni AI in your Telegram group? Choose our Premium subscription for unlimited requests, priority access to updates, and more. \\n⪼ @NeuroniAI\\n \\n#AI #GPT4 #500x #NeuroniAI #Neuroni</td>\n",
              "      <td>fuari</td>\n",
              "      <td>Cyberspace</td>\n",
              "      <td>beautiful together</td>\n",
              "      <td>2022-12-27 16:50:49+00:00</td>\n",
              "      <td>57</td>\n",
              "      <td>170</td>\n",
              "      <td>446</td>\n",
              "      <td>False</td>\n",
              "      <td>...</td>\n",
              "      <td>@100xAltcoinGems @NeuroniAI $NEURONI\\n\\n Want Neuroni AI in your Telegram group? Choose our Premium subscription for unlimited requests, priority access to updates, and more. \\n⪼ @NeuroniAI\\n \\n#AI #GPT4 #500x #NeuroniAI #Neuroni</td>\n",
              "      <td>[neuroni, want, neuroni, ai, telegram, group, choose, premium, subscription, unlimited, request, priority, access, update]</td>\n",
              "      <td>neuroni want neuroni ai telegram group choose premium subscription unlimited request priority access update</td>\n",
              "      <td>-1.0</td>\n",
              "      <td>negative</td>\n",
              "      <td>{'neg': 0.0, 'neu': 0.909, 'pos': 0.091, 'compound': 0.0772}</td>\n",
              "      <td>0.0772</td>\n",
              "      <td>positive</td>\n",
              "      <td>negative</td>\n",
              "      <td>negative</td>\n",
              "    </tr>\n",
              "    <tr>\n",
              "      <th>4</th>\n",
              "      <td>2023-04-12 20:04:58+00:00</td>\n",
              "      <td>@100xAltcoinGems $NEURONI\\n\\n Discover the latest Neuroni AI functions, including moderation for Telegram groups, premium user options, and more. \\n⪼ @NeuroniAI\\n \\n#AI #GPT4 #455x #NeuroniAI #Neuroni \\nhttps://t.co/MTWGnV6z9J</td>\n",
              "      <td>fuari</td>\n",
              "      <td>Cyberspace</td>\n",
              "      <td>beautiful together</td>\n",
              "      <td>2022-12-27 16:50:49+00:00</td>\n",
              "      <td>57</td>\n",
              "      <td>170</td>\n",
              "      <td>446</td>\n",
              "      <td>False</td>\n",
              "      <td>...</td>\n",
              "      <td>@100xAltcoinGems $NEURONI\\n\\n Discover the latest Neuroni AI functions, including moderation for Telegram groups, premium user options, and more. \\n⪼ @NeuroniAI\\n \\n#AI #GPT4 #455x #NeuroniAI #Neuroni \\nhttps://t.co/MTWGnV6z9J</td>\n",
              "      <td>[neuroni, discover, latest, neuroni, ai, function, include, moderation, telegram, group, premium, user, option]</td>\n",
              "      <td>neuroni discover latest neuroni ai function include moderation telegram group premium user option</td>\n",
              "      <td>-1.0</td>\n",
              "      <td>negative</td>\n",
              "      <td>{'neg': 0.0, 'neu': 1.0, 'pos': 0.0, 'compound': 0.0}</td>\n",
              "      <td>0.0000</td>\n",
              "      <td>neutral</td>\n",
              "      <td>negative</td>\n",
              "      <td>negative</td>\n",
              "    </tr>\n",
              "    <tr>\n",
              "      <th>5</th>\n",
              "      <td>2023-04-12 20:04:58+00:00</td>\n",
              "      <td>You can earn thousands of 💰💰💰 using these AI...\\n\\nClick here learn more &amp;gt;&amp;gt;&amp;gt; https://t.co/DHv9IqlfGu\\n\\n#AI #GPT4 #GPT3 #GPT5 #gpt4chain #gpt_4 #gpt3 #ChatGPT #chatgpt4 #chatGptPlus #selfemployment #makemoneyathome #onlineincome #passiveincomestream #entrepreneurmindset https://t.co/gCWFhjAK31</td>\n",
              "      <td>Kubode Raymond</td>\n",
              "      <td>United Kingdom</td>\n",
              "      <td>A Digital marketer, and freelancer at Fiverr. An expertise in using digital marketing techniques to promote businesses,Provide money making tricks and  more...</td>\n",
              "      <td>2023-04-12 00:19:34+00:00</td>\n",
              "      <td>1</td>\n",
              "      <td>4</td>\n",
              "      <td>15</td>\n",
              "      <td>False</td>\n",
              "      <td>...</td>\n",
              "      <td>You can earn thousands of 💰💰💰 using these AI...\\n\\nClick here learn more &amp;gt;&amp;gt;&amp;gt; https://t.co/DHv9IqlfGu\\n\\n#AI #GPT4 #GPT3 #GPT5 #gpt4chain #gpt_4 #gpt3 #ChatGPT #chatgpt4 #chatGptPlus #selfemployment #makemoneyathome #onlineincome #passiveincomestream #entrepreneurmindset https://t.co/gCWFhjAK31</td>\n",
              "      <td>[earn, thousand, use, ai, click, learn, gt, gt, gt]</td>\n",
              "      <td>earn thousand use ai click learn gt gt gt</td>\n",
              "      <td>-1.0</td>\n",
              "      <td>negative</td>\n",
              "      <td>{'neg': 0.0, 'neu': 0.488, 'pos': 0.512, 'compound': 0.6486}</td>\n",
              "      <td>0.6486</td>\n",
              "      <td>positive</td>\n",
              "      <td>negative</td>\n",
              "      <td>negative</td>\n",
              "    </tr>\n",
              "    <tr>\n",
              "      <th>6</th>\n",
              "      <td>2023-04-12 20:04:46+00:00</td>\n",
              "      <td>@DaCryptoCom @NeuroniAI $NEURONI\\n\\n Need code in a specific programming language? Neuroni AI can create it on demand, including deciphering cryptographic ciphers. \\n⪼ @NeuroniAI\\n \\n#AI #GPT4 #444x #NeuroniAI #Neuroni</td>\n",
              "      <td>fuari</td>\n",
              "      <td>Cyberspace</td>\n",
              "      <td>beautiful together</td>\n",
              "      <td>2022-12-27 16:50:49+00:00</td>\n",
              "      <td>57</td>\n",
              "      <td>170</td>\n",
              "      <td>446</td>\n",
              "      <td>False</td>\n",
              "      <td>...</td>\n",
              "      <td>@DaCryptoCom @NeuroniAI $NEURONI\\n\\n Need code in a specific programming language? Neuroni AI can create it on demand, including deciphering cryptographic ciphers. \\n⪼ @NeuroniAI\\n \\n#AI #GPT4 #444x #NeuroniAI #Neuroni</td>\n",
              "      <td>[neuroni, need, code, specific, program, language, neuroni, ai, create, demand, include, decipher, cryptographic, cipher]</td>\n",
              "      <td>neuroni need code specific program language neuroni ai create demand include decipher cryptographic cipher</td>\n",
              "      <td>-1.0</td>\n",
              "      <td>negative</td>\n",
              "      <td>{'neg': 0.096, 'neu': 0.769, 'pos': 0.135, 'compound': 0.1531}</td>\n",
              "      <td>0.1531</td>\n",
              "      <td>positive</td>\n",
              "      <td>negative</td>\n",
              "      <td>negative</td>\n",
              "    </tr>\n",
              "    <tr>\n",
              "      <th>7</th>\n",
              "      <td>2023-04-12 20:04:44+00:00</td>\n",
              "      <td>@DaCryptoCom @NeuroniAI $NEURONI\\n\\n When there seems to be no solution, Neuroni AI is there to provide precise answers in unexpected professions. \\n⪼ @NeuroniAI\\n \\n#AI #GPT4 #442x #NeuroniAI #Neuroni</td>\n",
              "      <td>fuari</td>\n",
              "      <td>Cyberspace</td>\n",
              "      <td>beautiful together</td>\n",
              "      <td>2022-12-27 16:50:49+00:00</td>\n",
              "      <td>57</td>\n",
              "      <td>170</td>\n",
              "      <td>446</td>\n",
              "      <td>False</td>\n",
              "      <td>...</td>\n",
              "      <td>@DaCryptoCom @NeuroniAI $NEURONI\\n\\n When there seems to be no solution, Neuroni AI is there to provide precise answers in unexpected professions. \\n⪼ @NeuroniAI\\n \\n#AI #GPT4 #442x #NeuroniAI #Neuroni</td>\n",
              "      <td>[neuroni, seem, solution, neuroni, ai, provide, precise, answer, unexpected, profession]</td>\n",
              "      <td>neuroni seem solution neuroni ai provide precise answer unexpected profession</td>\n",
              "      <td>-1.0</td>\n",
              "      <td>negative</td>\n",
              "      <td>{'neg': 0.0, 'neu': 0.796, 'pos': 0.204, 'compound': 0.3182}</td>\n",
              "      <td>0.3182</td>\n",
              "      <td>positive</td>\n",
              "      <td>positive</td>\n",
              "      <td>negative</td>\n",
              "    </tr>\n",
              "    <tr>\n",
              "      <th>8</th>\n",
              "      <td>2023-04-12 20:04:42+00:00</td>\n",
              "      <td>@DaCryptoCom @NeuroniAI $NEURONI\\n\\n Neuroni AI can do it all - from answering sophisticated questions to creating smart contracts and even websites in multiple programming languages. \\n⪼ @NeuroniAI\\n \\n#AI #GPT4 #440x #NeuroniAI #Neuroni</td>\n",
              "      <td>fuari</td>\n",
              "      <td>Cyberspace</td>\n",
              "      <td>beautiful together</td>\n",
              "      <td>2022-12-27 16:50:49+00:00</td>\n",
              "      <td>57</td>\n",
              "      <td>170</td>\n",
              "      <td>446</td>\n",
              "      <td>False</td>\n",
              "      <td>...</td>\n",
              "      <td>@DaCryptoCom @NeuroniAI $NEURONI\\n\\n Neuroni AI can do it all - from answering sophisticated questions to creating smart contracts and even websites in multiple programming languages. \\n⪼ @NeuroniAI\\n \\n#AI #GPT4 #440x #NeuroniAI #Neuroni</td>\n",
              "      <td>[neuroni, neuroni, ai, answer, sophisticate, question, create, smart, contract, even, website, multiple, program, language]</td>\n",
              "      <td>neuroni neuroni ai answer sophisticate question create smart contract even website multiple program language</td>\n",
              "      <td>-1.0</td>\n",
              "      <td>negative</td>\n",
              "      <td>{'neg': 0.0, 'neu': 0.714, 'pos': 0.286, 'compound': 0.5859}</td>\n",
              "      <td>0.5859</td>\n",
              "      <td>positive</td>\n",
              "      <td>positive</td>\n",
              "      <td>negative</td>\n",
              "    </tr>\n",
              "    <tr>\n",
              "      <th>9</th>\n",
              "      <td>2023-04-12 20:04:40+00:00</td>\n",
              "      <td>@DaCryptoCom @NeuroniAI $NEURONI\\n\\n Neuroni AI is constantly evolving thanks to our team of geniuses, offering new services like image and vocal generation in the near future. \\n⪼ @NeuroniAI\\n \\n#AI #GPT4 #438x #NeuroniAI #Neuroni</td>\n",
              "      <td>fuari</td>\n",
              "      <td>Cyberspace</td>\n",
              "      <td>beautiful together</td>\n",
              "      <td>2022-12-27 16:50:49+00:00</td>\n",
              "      <td>57</td>\n",
              "      <td>170</td>\n",
              "      <td>446</td>\n",
              "      <td>False</td>\n",
              "      <td>...</td>\n",
              "      <td>@DaCryptoCom @NeuroniAI $NEURONI\\n\\n Neuroni AI is constantly evolving thanks to our team of geniuses, offering new services like image and vocal generation in the near future. \\n⪼ @NeuroniAI\\n \\n#AI #GPT4 #438x #NeuroniAI #Neuroni</td>\n",
              "      <td>[neuroni, neuroni, ai, constantly, evolve, thank, team, genius, offer, new, service, like, image, vocal, generation, near, future]</td>\n",
              "      <td>neuroni neuroni ai constantly evolve thank team genius offer new service like image vocal generation near future</td>\n",
              "      <td>-1.0</td>\n",
              "      <td>negative</td>\n",
              "      <td>{'neg': 0.0, 'neu': 0.75, 'pos': 0.25, 'compound': 0.6124}</td>\n",
              "      <td>0.6124</td>\n",
              "      <td>positive</td>\n",
              "      <td>positive</td>\n",
              "      <td>negative</td>\n",
              "    </tr>\n",
              "  </tbody>\n",
              "</table>\n",
              "<p>10 rows × 22 columns</p>\n",
              "</div>\n",
              "      <button class=\"colab-df-convert\" onclick=\"convertToInteractive('df-6a0558b7-b0bf-4acc-ac7d-49ac5437342b')\"\n",
              "              title=\"Convert this dataframe to an interactive table.\"\n",
              "              style=\"display:none;\">\n",
              "        \n",
              "  <svg xmlns=\"http://www.w3.org/2000/svg\" height=\"24px\"viewBox=\"0 0 24 24\"\n",
              "       width=\"24px\">\n",
              "    <path d=\"M0 0h24v24H0V0z\" fill=\"none\"/>\n",
              "    <path d=\"M18.56 5.44l.94 2.06.94-2.06 2.06-.94-2.06-.94-.94-2.06-.94 2.06-2.06.94zm-11 1L8.5 8.5l.94-2.06 2.06-.94-2.06-.94L8.5 2.5l-.94 2.06-2.06.94zm10 10l.94 2.06.94-2.06 2.06-.94-2.06-.94-.94-2.06-.94 2.06-2.06.94z\"/><path d=\"M17.41 7.96l-1.37-1.37c-.4-.4-.92-.59-1.43-.59-.52 0-1.04.2-1.43.59L10.3 9.45l-7.72 7.72c-.78.78-.78 2.05 0 2.83L4 21.41c.39.39.9.59 1.41.59.51 0 1.02-.2 1.41-.59l7.78-7.78 2.81-2.81c.8-.78.8-2.07 0-2.86zM5.41 20L4 18.59l7.72-7.72 1.47 1.35L5.41 20z\"/>\n",
              "  </svg>\n",
              "      </button>\n",
              "      \n",
              "  <style>\n",
              "    .colab-df-container {\n",
              "      display:flex;\n",
              "      flex-wrap:wrap;\n",
              "      gap: 12px;\n",
              "    }\n",
              "\n",
              "    .colab-df-convert {\n",
              "      background-color: #E8F0FE;\n",
              "      border: none;\n",
              "      border-radius: 50%;\n",
              "      cursor: pointer;\n",
              "      display: none;\n",
              "      fill: #1967D2;\n",
              "      height: 32px;\n",
              "      padding: 0 0 0 0;\n",
              "      width: 32px;\n",
              "    }\n",
              "\n",
              "    .colab-df-convert:hover {\n",
              "      background-color: #E2EBFA;\n",
              "      box-shadow: 0px 1px 2px rgba(60, 64, 67, 0.3), 0px 1px 3px 1px rgba(60, 64, 67, 0.15);\n",
              "      fill: #174EA6;\n",
              "    }\n",
              "\n",
              "    [theme=dark] .colab-df-convert {\n",
              "      background-color: #3B4455;\n",
              "      fill: #D2E3FC;\n",
              "    }\n",
              "\n",
              "    [theme=dark] .colab-df-convert:hover {\n",
              "      background-color: #434B5C;\n",
              "      box-shadow: 0px 1px 3px 1px rgba(0, 0, 0, 0.15);\n",
              "      filter: drop-shadow(0px 1px 2px rgba(0, 0, 0, 0.3));\n",
              "      fill: #FFFFFF;\n",
              "    }\n",
              "  </style>\n",
              "\n",
              "      <script>\n",
              "        const buttonEl =\n",
              "          document.querySelector('#df-6a0558b7-b0bf-4acc-ac7d-49ac5437342b button.colab-df-convert');\n",
              "        buttonEl.style.display =\n",
              "          google.colab.kernel.accessAllowed ? 'block' : 'none';\n",
              "\n",
              "        async function convertToInteractive(key) {\n",
              "          const element = document.querySelector('#df-6a0558b7-b0bf-4acc-ac7d-49ac5437342b');\n",
              "          const dataTable =\n",
              "            await google.colab.kernel.invokeFunction('convertToInteractive',\n",
              "                                                     [key], {});\n",
              "          if (!dataTable) return;\n",
              "\n",
              "          const docLinkHtml = 'Like what you see? Visit the ' +\n",
              "            '<a target=\"_blank\" href=https://colab.research.google.com/notebooks/data_table.ipynb>data table notebook</a>'\n",
              "            + ' to learn more about interactive tables.';\n",
              "          element.innerHTML = '';\n",
              "          dataTable['output_type'] = 'display_data';\n",
              "          await google.colab.output.renderOutput(dataTable, element);\n",
              "          const docLink = document.createElement('div');\n",
              "          docLink.innerHTML = docLinkHtml;\n",
              "          element.appendChild(docLink);\n",
              "        }\n",
              "      </script>\n",
              "    </div>\n",
              "  </div>\n",
              "  "
            ]
          },
          "metadata": {},
          "execution_count": 284
        }
      ]
    },
    {
      "cell_type": "code",
      "source": [
        "tweets.head(10)"
      ],
      "metadata": {
        "id": "ITYijp09Eeew"
      },
      "execution_count": null,
      "outputs": []
    },
    {
      "cell_type": "code",
      "source": [
        "# code to create pie chars for the resulting sentiment distributions of the models for comparison\n",
        "\n",
        "\n",
        "data_pie=tweets[\"sentiment_kmeans\"].value_counts().reset_index()\n",
        "fig = plt.gcf()\n",
        "fig.set_size_inches(7,7)\n",
        "colors = [\"yellow\",\"cyan\",\"pink\"]\n",
        "plt.pie(data_pie[\"sentiment_kmeans\"],labels=data_pie[\"index\"],radius=2,autopct=\"%1.1f%%\", colors=colors)\n",
        "plt.axis('equal')\n",
        "plt.title(\"KMeans: Sentiment Distribution of Tweets\", fontsize=20)\n",
        "#plt.savefig(\"images/Sentiment_Distribution.png\")\n",
        "plt.show()\n",
        "data_pie"
      ],
      "metadata": {
        "colab": {
          "base_uri": "https://localhost:8080/",
          "height": 732
        },
        "id": "B0vxQRCJCKdY",
        "outputId": "49a5abe2-e0cc-429d-b63b-d934a4042bca"
      },
      "execution_count": null,
      "outputs": [
        {
          "output_type": "display_data",
          "data": {
            "text/plain": [
              "<Figure size 700x700 with 1 Axes>"
            ],
            "image/png": "[encoded data removed]"
          },
          "metadata": {}
        },
        {
          "output_type": "execute_result",
          "data": {
            "text/plain": [
              "      index  sentiment_kmeans\n",
              "0  negative  12541           \n",
              "1  neutral   7884            \n",
              "2  positive  40              "
            ],
            "text/html": [
              "\n",
              "  <div id=\"df-4b5dadb7-bb91-42ea-9404-232b70852718\">\n",
              "    <div class=\"colab-df-container\">\n",
              "      <div>\n",
              "<style scoped>\n",
              "    .dataframe tbody tr th:only-of-type {\n",
              "        vertical-align: middle;\n",
              "    }\n",
              "\n",
              "    .dataframe tbody tr th {\n",
              "        vertical-align: top;\n",
              "    }\n",
              "\n",
              "    .dataframe thead th {\n",
              "        text-align: right;\n",
              "    }\n",
              "</style>\n",
              "<table border=\"1\" class=\"dataframe\">\n",
              "  <thead>\n",
              "    <tr style=\"text-align: right;\">\n",
              "      <th></th>\n",
              "      <th>index</th>\n",
              "      <th>sentiment_kmeans</th>\n",
              "    </tr>\n",
              "  </thead>\n",
              "  <tbody>\n",
              "    <tr>\n",
              "      <th>0</th>\n",
              "      <td>negative</td>\n",
              "      <td>12541</td>\n",
              "    </tr>\n",
              "    <tr>\n",
              "      <th>1</th>\n",
              "      <td>neutral</td>\n",
              "      <td>7884</td>\n",
              "    </tr>\n",
              "    <tr>\n",
              "      <th>2</th>\n",
              "      <td>positive</td>\n",
              "      <td>40</td>\n",
              "    </tr>\n",
              "  </tbody>\n",
              "</table>\n",
              "</div>\n",
              "      <button class=\"colab-df-convert\" onclick=\"convertToInteractive('df-4b5dadb7-bb91-42ea-9404-232b70852718')\"\n",
              "              title=\"Convert this dataframe to an interactive table.\"\n",
              "              style=\"display:none;\">\n",
              "        \n",
              "  <svg xmlns=\"http://www.w3.org/2000/svg\" height=\"24px\"viewBox=\"0 0 24 24\"\n",
              "       width=\"24px\">\n",
              "    <path d=\"M0 0h24v24H0V0z\" fill=\"none\"/>\n",
              "    <path d=\"M18.56 5.44l.94 2.06.94-2.06 2.06-.94-2.06-.94-.94-2.06-.94 2.06-2.06.94zm-11 1L8.5 8.5l.94-2.06 2.06-.94-2.06-.94L8.5 2.5l-.94 2.06-2.06.94zm10 10l.94 2.06.94-2.06 2.06-.94-2.06-.94-.94-2.06-.94 2.06-2.06.94z\"/><path d=\"M17.41 7.96l-1.37-1.37c-.4-.4-.92-.59-1.43-.59-.52 0-1.04.2-1.43.59L10.3 9.45l-7.72 7.72c-.78.78-.78 2.05 0 2.83L4 21.41c.39.39.9.59 1.41.59.51 0 1.02-.2 1.41-.59l7.78-7.78 2.81-2.81c.8-.78.8-2.07 0-2.86zM5.41 20L4 18.59l7.72-7.72 1.47 1.35L5.41 20z\"/>\n",
              "  </svg>\n",
              "      </button>\n",
              "      \n",
              "  <style>\n",
              "    .colab-df-container {\n",
              "      display:flex;\n",
              "      flex-wrap:wrap;\n",
              "      gap: 12px;\n",
              "    }\n",
              "\n",
              "    .colab-df-convert {\n",
              "      background-color: #E8F0FE;\n",
              "      border: none;\n",
              "      border-radius: 50%;\n",
              "      cursor: pointer;\n",
              "      display: none;\n",
              "      fill: #1967D2;\n",
              "      height: 32px;\n",
              "      padding: 0 0 0 0;\n",
              "      width: 32px;\n",
              "    }\n",
              "\n",
              "    .colab-df-convert:hover {\n",
              "      background-color: #E2EBFA;\n",
              "      box-shadow: 0px 1px 2px rgba(60, 64, 67, 0.3), 0px 1px 3px 1px rgba(60, 64, 67, 0.15);\n",
              "      fill: #174EA6;\n",
              "    }\n",
              "\n",
              "    [theme=dark] .colab-df-convert {\n",
              "      background-color: #3B4455;\n",
              "      fill: #D2E3FC;\n",
              "    }\n",
              "\n",
              "    [theme=dark] .colab-df-convert:hover {\n",
              "      background-color: #434B5C;\n",
              "      box-shadow: 0px 1px 3px 1px rgba(0, 0, 0, 0.15);\n",
              "      filter: drop-shadow(0px 1px 2px rgba(0, 0, 0, 0.3));\n",
              "      fill: #FFFFFF;\n",
              "    }\n",
              "  </style>\n",
              "\n",
              "      <script>\n",
              "        const buttonEl =\n",
              "          document.querySelector('#df-4b5dadb7-bb91-42ea-9404-232b70852718 button.colab-df-convert');\n",
              "        buttonEl.style.display =\n",
              "          google.colab.kernel.accessAllowed ? 'block' : 'none';\n",
              "\n",
              "        async function convertToInteractive(key) {\n",
              "          const element = document.querySelector('#df-4b5dadb7-bb91-42ea-9404-232b70852718');\n",
              "          const dataTable =\n",
              "            await google.colab.kernel.invokeFunction('convertToInteractive',\n",
              "                                                     [key], {});\n",
              "          if (!dataTable) return;\n",
              "\n",
              "          const docLinkHtml = 'Like what you see? Visit the ' +\n",
              "            '<a target=\"_blank\" href=https://colab.research.google.com/notebooks/data_table.ipynb>data table notebook</a>'\n",
              "            + ' to learn more about interactive tables.';\n",
              "          element.innerHTML = '';\n",
              "          dataTable['output_type'] = 'display_data';\n",
              "          await google.colab.output.renderOutput(dataTable, element);\n",
              "          const docLink = document.createElement('div');\n",
              "          docLink.innerHTML = docLinkHtml;\n",
              "          element.appendChild(docLink);\n",
              "        }\n",
              "      </script>\n",
              "    </div>\n",
              "  </div>\n",
              "  "
            ]
          },
          "metadata": {},
          "execution_count": 286
        }
      ]
    },
    {
      "cell_type": "code",
      "source": [
        "data_pie=tweets[\"sentiment_vader\"].value_counts().reset_index()\n",
        "fig = plt.gcf()\n",
        "fig.set_size_inches(7,7)\n",
        "colors = [\"yellow\",\"cyan\",\"pink\"]\n",
        "plt.pie(data_pie[\"sentiment_vader\"],labels=data_pie[\"index\"],radius=2,autopct=\"%1.1f%%\", colors=colors)\n",
        "plt.axis('equal')\n",
        "plt.title(\"Vader: Sentiment Distribution of Tweets\", fontsize=20)\n",
        "#plt.savefig(\"images/Sentiment_Distribution.png\")\n",
        "plt.show()\n",
        "data_pie"
      ],
      "metadata": {
        "colab": {
          "base_uri": "https://localhost:8080/",
          "height": 736
        },
        "id": "TFG5Kkv0CKe4",
        "outputId": "030a6fb6-f8f0-47b8-97b8-6cd277ea1c42"
      },
      "execution_count": null,
      "outputs": [
        {
          "output_type": "display_data",
          "data": {
            "text/plain": [
              "<Figure size 700x700 with 1 Axes>"
            ],
            "image/png": "[encoded data removed]"
          },
          "metadata": {}
        },
        {
          "output_type": "execute_result",
          "data": {
            "text/plain": [
              "      index  sentiment_vader\n",
              "0  positive  11847          \n",
              "1  neutral   5858           \n",
              "2  negative  2760           "
            ],
            "text/html": [
              "\n",
              "  <div id=\"df-4c435c5f-ab67-4028-bdb4-8f57a69b86e1\">\n",
              "    <div class=\"colab-df-container\">\n",
              "      <div>\n",
              "<style scoped>\n",
              "    .dataframe tbody tr th:only-of-type {\n",
              "        vertical-align: middle;\n",
              "    }\n",
              "\n",
              "    .dataframe tbody tr th {\n",
              "        vertical-align: top;\n",
              "    }\n",
              "\n",
              "    .dataframe thead th {\n",
              "        text-align: right;\n",
              "    }\n",
              "</style>\n",
              "<table border=\"1\" class=\"dataframe\">\n",
              "  <thead>\n",
              "    <tr style=\"text-align: right;\">\n",
              "      <th></th>\n",
              "      <th>index</th>\n",
              "      <th>sentiment_vader</th>\n",
              "    </tr>\n",
              "  </thead>\n",
              "  <tbody>\n",
              "    <tr>\n",
              "      <th>0</th>\n",
              "      <td>positive</td>\n",
              "      <td>11847</td>\n",
              "    </tr>\n",
              "    <tr>\n",
              "      <th>1</th>\n",
              "      <td>neutral</td>\n",
              "      <td>5858</td>\n",
              "    </tr>\n",
              "    <tr>\n",
              "      <th>2</th>\n",
              "      <td>negative</td>\n",
              "      <td>2760</td>\n",
              "    </tr>\n",
              "  </tbody>\n",
              "</table>\n",
              "</div>\n",
              "      <button class=\"colab-df-convert\" onclick=\"convertToInteractive('df-4c435c5f-ab67-4028-bdb4-8f57a69b86e1')\"\n",
              "              title=\"Convert this dataframe to an interactive table.\"\n",
              "              style=\"display:none;\">\n",
              "        \n",
              "  <svg xmlns=\"http://www.w3.org/2000/svg\" height=\"24px\"viewBox=\"0 0 24 24\"\n",
              "       width=\"24px\">\n",
              "    <path d=\"M0 0h24v24H0V0z\" fill=\"none\"/>\n",
              "    <path d=\"M18.56 5.44l.94 2.06.94-2.06 2.06-.94-2.06-.94-.94-2.06-.94 2.06-2.06.94zm-11 1L8.5 8.5l.94-2.06 2.06-.94-2.06-.94L8.5 2.5l-.94 2.06-2.06.94zm10 10l.94 2.06.94-2.06 2.06-.94-2.06-.94-.94-2.06-.94 2.06-2.06.94z\"/><path d=\"M17.41 7.96l-1.37-1.37c-.4-.4-.92-.59-1.43-.59-.52 0-1.04.2-1.43.59L10.3 9.45l-7.72 7.72c-.78.78-.78 2.05 0 2.83L4 21.41c.39.39.9.59 1.41.59.51 0 1.02-.2 1.41-.59l7.78-7.78 2.81-2.81c.8-.78.8-2.07 0-2.86zM5.41 20L4 18.59l7.72-7.72 1.47 1.35L5.41 20z\"/>\n",
              "  </svg>\n",
              "      </button>\n",
              "      \n",
              "  <style>\n",
              "    .colab-df-container {\n",
              "      display:flex;\n",
              "      flex-wrap:wrap;\n",
              "      gap: 12px;\n",
              "    }\n",
              "\n",
              "    .colab-df-convert {\n",
              "      background-color: #E8F0FE;\n",
              "      border: none;\n",
              "      border-radius: 50%;\n",
              "      cursor: pointer;\n",
              "      display: none;\n",
              "      fill: #1967D2;\n",
              "      height: 32px;\n",
              "      padding: 0 0 0 0;\n",
              "      width: 32px;\n",
              "    }\n",
              "\n",
              "    .colab-df-convert:hover {\n",
              "      background-color: #E2EBFA;\n",
              "      box-shadow: 0px 1px 2px rgba(60, 64, 67, 0.3), 0px 1px 3px 1px rgba(60, 64, 67, 0.15);\n",
              "      fill: #174EA6;\n",
              "    }\n",
              "\n",
              "    [theme=dark] .colab-df-convert {\n",
              "      background-color: #3B4455;\n",
              "      fill: #D2E3FC;\n",
              "    }\n",
              "\n",
              "    [theme=dark] .colab-df-convert:hover {\n",
              "      background-color: #434B5C;\n",
              "      box-shadow: 0px 1px 3px 1px rgba(0, 0, 0, 0.15);\n",
              "      filter: drop-shadow(0px 1px 2px rgba(0, 0, 0, 0.3));\n",
              "      fill: #FFFFFF;\n",
              "    }\n",
              "  </style>\n",
              "\n",
              "      <script>\n",
              "        const buttonEl =\n",
              "          document.querySelector('#df-4c435c5f-ab67-4028-bdb4-8f57a69b86e1 button.colab-df-convert');\n",
              "        buttonEl.style.display =\n",
              "          google.colab.kernel.accessAllowed ? 'block' : 'none';\n",
              "\n",
              "        async function convertToInteractive(key) {\n",
              "          const element = document.querySelector('#df-4c435c5f-ab67-4028-bdb4-8f57a69b86e1');\n",
              "          const dataTable =\n",
              "            await google.colab.kernel.invokeFunction('convertToInteractive',\n",
              "                                                     [key], {});\n",
              "          if (!dataTable) return;\n",
              "\n",
              "          const docLinkHtml = 'Like what you see? Visit the ' +\n",
              "            '<a target=\"_blank\" href=https://colab.research.google.com/notebooks/data_table.ipynb>data table notebook</a>'\n",
              "            + ' to learn more about interactive tables.';\n",
              "          element.innerHTML = '';\n",
              "          dataTable['output_type'] = 'display_data';\n",
              "          await google.colab.output.renderOutput(dataTable, element);\n",
              "          const docLink = document.createElement('div');\n",
              "          docLink.innerHTML = docLinkHtml;\n",
              "          element.appendChild(docLink);\n",
              "        }\n",
              "      </script>\n",
              "    </div>\n",
              "  </div>\n",
              "  "
            ]
          },
          "metadata": {},
          "execution_count": 287
        }
      ]
    },
    {
      "cell_type": "code",
      "source": [
        "data_pie=tweets[\"sentiment_bert\"].value_counts().reset_index()\n",
        "fig = plt.gcf()\n",
        "fig.set_size_inches(7,7)\n",
        "colors = [\"yellow\",\"cyan\",\"pink\"]\n",
        "plt.pie(data_pie[\"sentiment_bert\"],labels=data_pie[\"index\"],radius=2,autopct=\"%1.1f%%\", colors=colors)\n",
        "plt.axis('equal')\n",
        "plt.title(\"BERT: Sentiment Distribution of Tweets\", fontsize=20)\n",
        "#plt.savefig(\"images/Sentiment_Distribution.png\")\n",
        "plt.show()\n",
        "data_pie"
      ],
      "metadata": {
        "colab": {
          "base_uri": "https://localhost:8080/",
          "height": 701
        },
        "id": "JDle4LFYCKg8",
        "outputId": "d5c1a7ad-3c82-4c0c-d223-3fd7a5cb5377"
      },
      "execution_count": null,
      "outputs": [
        {
          "output_type": "display_data",
          "data": {
            "text/plain": [
              "<Figure size 700x700 with 1 Axes>"
            ],
            "image/png": "[encoded data removed]"
          },
          "metadata": {}
        },
        {
          "output_type": "execute_result",
          "data": {
            "text/plain": [
              "      index  sentiment_bert\n",
              "0  negative  12733         \n",
              "1  positive  7732          "
            ],
            "text/html": [
              "\n",
              "  <div id=\"df-d1c5a8ce-abbd-4c1c-ab74-d4f5762c089f\">\n",
              "    <div class=\"colab-df-container\">\n",
              "      <div>\n",
              "<style scoped>\n",
              "    .dataframe tbody tr th:only-of-type {\n",
              "        vertical-align: middle;\n",
              "    }\n",
              "\n",
              "    .dataframe tbody tr th {\n",
              "        vertical-align: top;\n",
              "    }\n",
              "\n",
              "    .dataframe thead th {\n",
              "        text-align: right;\n",
              "    }\n",
              "</style>\n",
              "<table border=\"1\" class=\"dataframe\">\n",
              "  <thead>\n",
              "    <tr style=\"text-align: right;\">\n",
              "      <th></th>\n",
              "      <th>index</th>\n",
              "      <th>sentiment_bert</th>\n",
              "    </tr>\n",
              "  </thead>\n",
              "  <tbody>\n",
              "    <tr>\n",
              "      <th>0</th>\n",
              "      <td>negative</td>\n",
              "      <td>12733</td>\n",
              "    </tr>\n",
              "    <tr>\n",
              "      <th>1</th>\n",
              "      <td>positive</td>\n",
              "      <td>7732</td>\n",
              "    </tr>\n",
              "  </tbody>\n",
              "</table>\n",
              "</div>\n",
              "      <button class=\"colab-df-convert\" onclick=\"convertToInteractive('df-d1c5a8ce-abbd-4c1c-ab74-d4f5762c089f')\"\n",
              "              title=\"Convert this dataframe to an interactive table.\"\n",
              "              style=\"display:none;\">\n",
              "        \n",
              "  <svg xmlns=\"http://www.w3.org/2000/svg\" height=\"24px\"viewBox=\"0 0 24 24\"\n",
              "       width=\"24px\">\n",
              "    <path d=\"M0 0h24v24H0V0z\" fill=\"none\"/>\n",
              "    <path d=\"M18.56 5.44l.94 2.06.94-2.06 2.06-.94-2.06-.94-.94-2.06-.94 2.06-2.06.94zm-11 1L8.5 8.5l.94-2.06 2.06-.94-2.06-.94L8.5 2.5l-.94 2.06-2.06.94zm10 10l.94 2.06.94-2.06 2.06-.94-2.06-.94-.94-2.06-.94 2.06-2.06.94z\"/><path d=\"M17.41 7.96l-1.37-1.37c-.4-.4-.92-.59-1.43-.59-.52 0-1.04.2-1.43.59L10.3 9.45l-7.72 7.72c-.78.78-.78 2.05 0 2.83L4 21.41c.39.39.9.59 1.41.59.51 0 1.02-.2 1.41-.59l7.78-7.78 2.81-2.81c.8-.78.8-2.07 0-2.86zM5.41 20L4 18.59l7.72-7.72 1.47 1.35L5.41 20z\"/>\n",
              "  </svg>\n",
              "      </button>\n",
              "      \n",
              "  <style>\n",
              "    .colab-df-container {\n",
              "      display:flex;\n",
              "      flex-wrap:wrap;\n",
              "      gap: 12px;\n",
              "    }\n",
              "\n",
              "    .colab-df-convert {\n",
              "      background-color: #E8F0FE;\n",
              "      border: none;\n",
              "      border-radius: 50%;\n",
              "      cursor: pointer;\n",
              "      display: none;\n",
              "      fill: #1967D2;\n",
              "      height: 32px;\n",
              "      padding: 0 0 0 0;\n",
              "      width: 32px;\n",
              "    }\n",
              "\n",
              "    .colab-df-convert:hover {\n",
              "      background-color: #E2EBFA;\n",
              "      box-shadow: 0px 1px 2px rgba(60, 64, 67, 0.3), 0px 1px 3px 1px rgba(60, 64, 67, 0.15);\n",
              "      fill: #174EA6;\n",
              "    }\n",
              "\n",
              "    [theme=dark] .colab-df-convert {\n",
              "      background-color: #3B4455;\n",
              "      fill: #D2E3FC;\n",
              "    }\n",
              "\n",
              "    [theme=dark] .colab-df-convert:hover {\n",
              "      background-color: #434B5C;\n",
              "      box-shadow: 0px 1px 3px 1px rgba(0, 0, 0, 0.15);\n",
              "      filter: drop-shadow(0px 1px 2px rgba(0, 0, 0, 0.3));\n",
              "      fill: #FFFFFF;\n",
              "    }\n",
              "  </style>\n",
              "\n",
              "      <script>\n",
              "        const buttonEl =\n",
              "          document.querySelector('#df-d1c5a8ce-abbd-4c1c-ab74-d4f5762c089f button.colab-df-convert');\n",
              "        buttonEl.style.display =\n",
              "          google.colab.kernel.accessAllowed ? 'block' : 'none';\n",
              "\n",
              "        async function convertToInteractive(key) {\n",
              "          const element = document.querySelector('#df-d1c5a8ce-abbd-4c1c-ab74-d4f5762c089f');\n",
              "          const dataTable =\n",
              "            await google.colab.kernel.invokeFunction('convertToInteractive',\n",
              "                                                     [key], {});\n",
              "          if (!dataTable) return;\n",
              "\n",
              "          const docLinkHtml = 'Like what you see? Visit the ' +\n",
              "            '<a target=\"_blank\" href=https://colab.research.google.com/notebooks/data_table.ipynb>data table notebook</a>'\n",
              "            + ' to learn more about interactive tables.';\n",
              "          element.innerHTML = '';\n",
              "          dataTable['output_type'] = 'display_data';\n",
              "          await google.colab.output.renderOutput(dataTable, element);\n",
              "          const docLink = document.createElement('div');\n",
              "          docLink.innerHTML = docLinkHtml;\n",
              "          element.appendChild(docLink);\n",
              "        }\n",
              "      </script>\n",
              "    </div>\n",
              "  </div>\n",
              "  "
            ]
          },
          "metadata": {},
          "execution_count": 288
        }
      ]
    },
    {
      "cell_type": "code",
      "source": [
        "tweets[['date', 'text', 'sentiment_kmeans', 'sentiment_vader', 'sentiment_bert']]"
      ],
      "metadata": {
        "colab": {
          "base_uri": "https://localhost:8080/",
          "height": 641
        },
        "id": "fsEv6oE2JIKD",
        "outputId": "db129749-20ee-43f4-85ba-06e7b31b31cd"
      },
      "execution_count": null,
      "outputs": [
        {
          "output_type": "execute_result",
          "data": {
            "text/plain": [
              "                            date  \\\n",
              "0      2023-04-12 20:05:08+00:00   \n",
              "1      2023-04-12 20:05:06+00:00   \n",
              "2      2023-04-12 20:05:04+00:00   \n",
              "3      2023-04-12 20:05:02+00:00   \n",
              "4      2023-04-12 20:04:58+00:00   \n",
              "...                          ...   \n",
              "28705  2023-03-14 13:18:03+00:00   \n",
              "28706  2023-03-14 13:03:11+00:00   \n",
              "28707  2023-03-14 12:45:23+00:00   \n",
              "28708  2023-03-14 12:40:07+00:00   \n",
              "28709  2023-03-14 12:37:17+00:00   \n",
              "\n",
              "                                                                                                                                                                                                                                        text  \\\n",
              "0      @100xAltcoinGems @NeuroniAI $NEURONI\\n\\n Join our official Telegram group to stay tuned for the latest Neuroni AI updates and news. \\n⪼ @NeuroniAI\\n \\n#AI #GPT4 #506x #NeuroniAI #Neuroni                                              \n",
              "1      @100xAltcoinGems @NeuroniAI $NEURONI\\n\\n Invest in $NEURONI and be part of our project reserve, with a total supply of 10M tokens and no dev tokens. \\n⪼ @NeuroniAI\\n \\n#AI #GPT4 #504x #NeuroniAI #Neuroni                             \n",
              "2      @100xAltcoinGems @NeuroniAI $NEURONI\\n\\n Get ready for Neuroni AI Bot, available for free with all its features until Phase 3 of our roadmap. \\n⪼ @NeuroniAI\\n \\n#AI #GPT4 #502x #NeuroniAI #Neuroni                                    \n",
              "3      @100xAltcoinGems @NeuroniAI $NEURONI\\n\\n Want Neuroni AI in your Telegram group? Choose our Premium subscription for unlimited requests, priority access to updates, and more. \\n⪼ @NeuroniAI\\n \\n#AI #GPT4 #500x #NeuroniAI #Neuroni   \n",
              "4      @100xAltcoinGems $NEURONI\\n\\n Discover the latest Neuroni AI functions, including moderation for Telegram groups, premium user options, and more. \\n⪼ @NeuroniAI\\n \\n#AI #GPT4 #455x #NeuroniAI #Neuroni \\nhttps://t.co/MTWGnV6z9J      \n",
              "...                                                                                                                                                                                                                                   ...      \n",
              "28705  #gpt4 also #brootswasright https://t.co/tMTUiNqzcV                                                                                                                                                                                      \n",
              "28706  How much energy does it take to train #GPT4, the most powerful language model ever? \\n\\nAnd what does it mean for the planet?  \\n\\n#AI #NLP #GPT4 #climate #ChatGPT #carbonfootprint \\nhttps://t.co/VvOzp9BK06                          \n",
              "28707  It looks like VIDEO is dominating the GPT-4 polls. What do you think? #gpt4 https://t.co/Q1ABpeo3Dy                                                                                                                                     \n",
              "28708  The perfect storm is brewing, with the upcoming GPT-4 product launch backed by Titan developers and a diamond community. Jump in before the fomo begins #GPT4 \\n\\nhttps://t.co/kQv0gUU7wA                                               \n",
              "28709  On the horizon - #GPT4 and why it matters. | Think Start Inc. https://t.co/Y50r40OcFy                                                                                                                                                   \n",
              "\n",
              "      sentiment_kmeans sentiment_vader sentiment_bert  \n",
              "0      negative         positive        negative       \n",
              "1      negative         neutral         negative       \n",
              "2      negative         positive        negative       \n",
              "3      negative         positive        negative       \n",
              "4      negative         neutral         negative       \n",
              "...         ...             ...              ...       \n",
              "28705  neutral          neutral         positive       \n",
              "28706  neutral          positive        positive       \n",
              "28707  neutral          positive        negative       \n",
              "28708  neutral          positive        positive       \n",
              "28709  neutral          neutral         positive       \n",
              "\n",
              "[20465 rows x 5 columns]"
            ],
            "text/html": [
              "\n",
              "  <div id=\"df-0c815844-b59d-44e4-84d1-d043c3790a52\">\n",
              "    <div class=\"colab-df-container\">\n",
              "      <div>\n",
              "<style scoped>\n",
              "    .dataframe tbody tr th:only-of-type {\n",
              "        vertical-align: middle;\n",
              "    }\n",
              "\n",
              "    .dataframe tbody tr th {\n",
              "        vertical-align: top;\n",
              "    }\n",
              "\n",
              "    .dataframe thead th {\n",
              "        text-align: right;\n",
              "    }\n",
              "</style>\n",
              "<table border=\"1\" class=\"dataframe\">\n",
              "  <thead>\n",
              "    <tr style=\"text-align: right;\">\n",
              "      <th></th>\n",
              "      <th>date</th>\n",
              "      <th>text</th>\n",
              "      <th>sentiment_kmeans</th>\n",
              "      <th>sentiment_vader</th>\n",
              "      <th>sentiment_bert</th>\n",
              "    </tr>\n",
              "  </thead>\n",
              "  <tbody>\n",
              "    <tr>\n",
              "      <th>0</th>\n",
              "      <td>2023-04-12 20:05:08+00:00</td>\n",
              "      <td>@100xAltcoinGems @NeuroniAI $NEURONI\\n\\n Join our official Telegram group to stay tuned for the latest Neuroni AI updates and news. \\n⪼ @NeuroniAI\\n \\n#AI #GPT4 #506x #NeuroniAI #Neuroni</td>\n",
              "      <td>negative</td>\n",
              "      <td>positive</td>\n",
              "      <td>negative</td>\n",
              "    </tr>\n",
              "    <tr>\n",
              "      <th>1</th>\n",
              "      <td>2023-04-12 20:05:06+00:00</td>\n",
              "      <td>@100xAltcoinGems @NeuroniAI $NEURONI\\n\\n Invest in $NEURONI and be part of our project reserve, with a total supply of 10M tokens and no dev tokens. \\n⪼ @NeuroniAI\\n \\n#AI #GPT4 #504x #NeuroniAI #Neuroni</td>\n",
              "      <td>negative</td>\n",
              "      <td>neutral</td>\n",
              "      <td>negative</td>\n",
              "    </tr>\n",
              "    <tr>\n",
              "      <th>2</th>\n",
              "      <td>2023-04-12 20:05:04+00:00</td>\n",
              "      <td>@100xAltcoinGems @NeuroniAI $NEURONI\\n\\n Get ready for Neuroni AI Bot, available for free with all its features until Phase 3 of our roadmap. \\n⪼ @NeuroniAI\\n \\n#AI #GPT4 #502x #NeuroniAI #Neuroni</td>\n",
              "      <td>negative</td>\n",
              "      <td>positive</td>\n",
              "      <td>negative</td>\n",
              "    </tr>\n",
              "    <tr>\n",
              "      <th>3</th>\n",
              "      <td>2023-04-12 20:05:02+00:00</td>\n",
              "      <td>@100xAltcoinGems @NeuroniAI $NEURONI\\n\\n Want Neuroni AI in your Telegram group? Choose our Premium subscription for unlimited requests, priority access to updates, and more. \\n⪼ @NeuroniAI\\n \\n#AI #GPT4 #500x #NeuroniAI #Neuroni</td>\n",
              "      <td>negative</td>\n",
              "      <td>positive</td>\n",
              "      <td>negative</td>\n",
              "    </tr>\n",
              "    <tr>\n",
              "      <th>4</th>\n",
              "      <td>2023-04-12 20:04:58+00:00</td>\n",
              "      <td>@100xAltcoinGems $NEURONI\\n\\n Discover the latest Neuroni AI functions, including moderation for Telegram groups, premium user options, and more. \\n⪼ @NeuroniAI\\n \\n#AI #GPT4 #455x #NeuroniAI #Neuroni \\nhttps://t.co/MTWGnV6z9J</td>\n",
              "      <td>negative</td>\n",
              "      <td>neutral</td>\n",
              "      <td>negative</td>\n",
              "    </tr>\n",
              "    <tr>\n",
              "      <th>...</th>\n",
              "      <td>...</td>\n",
              "      <td>...</td>\n",
              "      <td>...</td>\n",
              "      <td>...</td>\n",
              "      <td>...</td>\n",
              "    </tr>\n",
              "    <tr>\n",
              "      <th>28705</th>\n",
              "      <td>2023-03-14 13:18:03+00:00</td>\n",
              "      <td>#gpt4 also #brootswasright https://t.co/tMTUiNqzcV</td>\n",
              "      <td>neutral</td>\n",
              "      <td>neutral</td>\n",
              "      <td>positive</td>\n",
              "    </tr>\n",
              "    <tr>\n",
              "      <th>28706</th>\n",
              "      <td>2023-03-14 13:03:11+00:00</td>\n",
              "      <td>How much energy does it take to train #GPT4, the most powerful language model ever? \\n\\nAnd what does it mean for the planet?  \\n\\n#AI #NLP #GPT4 #climate #ChatGPT #carbonfootprint \\nhttps://t.co/VvOzp9BK06</td>\n",
              "      <td>neutral</td>\n",
              "      <td>positive</td>\n",
              "      <td>positive</td>\n",
              "    </tr>\n",
              "    <tr>\n",
              "      <th>28707</th>\n",
              "      <td>2023-03-14 12:45:23+00:00</td>\n",
              "      <td>It looks like VIDEO is dominating the GPT-4 polls. What do you think? #gpt4 https://t.co/Q1ABpeo3Dy</td>\n",
              "      <td>neutral</td>\n",
              "      <td>positive</td>\n",
              "      <td>negative</td>\n",
              "    </tr>\n",
              "    <tr>\n",
              "      <th>28708</th>\n",
              "      <td>2023-03-14 12:40:07+00:00</td>\n",
              "      <td>The perfect storm is brewing, with the upcoming GPT-4 product launch backed by Titan developers and a diamond community. Jump in before the fomo begins #GPT4 \\n\\nhttps://t.co/kQv0gUU7wA</td>\n",
              "      <td>neutral</td>\n",
              "      <td>positive</td>\n",
              "      <td>positive</td>\n",
              "    </tr>\n",
              "    <tr>\n",
              "      <th>28709</th>\n",
              "      <td>2023-03-14 12:37:17+00:00</td>\n",
              "      <td>On the horizon - #GPT4 and why it matters. | Think Start Inc. https://t.co/Y50r40OcFy</td>\n",
              "      <td>neutral</td>\n",
              "      <td>neutral</td>\n",
              "      <td>positive</td>\n",
              "    </tr>\n",
              "  </tbody>\n",
              "</table>\n",
              "<p>20465 rows × 5 columns</p>\n",
              "</div>\n",
              "      <button class=\"colab-df-convert\" onclick=\"convertToInteractive('df-0c815844-b59d-44e4-84d1-d043c3790a52')\"\n",
              "              title=\"Convert this dataframe to an interactive table.\"\n",
              "              style=\"display:none;\">\n",
              "        \n",
              "  <svg xmlns=\"http://www.w3.org/2000/svg\" height=\"24px\"viewBox=\"0 0 24 24\"\n",
              "       width=\"24px\">\n",
              "    <path d=\"M0 0h24v24H0V0z\" fill=\"none\"/>\n",
              "    <path d=\"M18.56 5.44l.94 2.06.94-2.06 2.06-.94-2.06-.94-.94-2.06-.94 2.06-2.06.94zm-11 1L8.5 8.5l.94-2.06 2.06-.94-2.06-.94L8.5 2.5l-.94 2.06-2.06.94zm10 10l.94 2.06.94-2.06 2.06-.94-2.06-.94-.94-2.06-.94 2.06-2.06.94z\"/><path d=\"M17.41 7.96l-1.37-1.37c-.4-.4-.92-.59-1.43-.59-.52 0-1.04.2-1.43.59L10.3 9.45l-7.72 7.72c-.78.78-.78 2.05 0 2.83L4 21.41c.39.39.9.59 1.41.59.51 0 1.02-.2 1.41-.59l7.78-7.78 2.81-2.81c.8-.78.8-2.07 0-2.86zM5.41 20L4 18.59l7.72-7.72 1.47 1.35L5.41 20z\"/>\n",
              "  </svg>\n",
              "      </button>\n",
              "      \n",
              "  <style>\n",
              "    .colab-df-container {\n",
              "      display:flex;\n",
              "      flex-wrap:wrap;\n",
              "      gap: 12px;\n",
              "    }\n",
              "\n",
              "    .colab-df-convert {\n",
              "      background-color: #E8F0FE;\n",
              "      border: none;\n",
              "      border-radius: 50%;\n",
              "      cursor: pointer;\n",
              "      display: none;\n",
              "      fill: #1967D2;\n",
              "      height: 32px;\n",
              "      padding: 0 0 0 0;\n",
              "      width: 32px;\n",
              "    }\n",
              "\n",
              "    .colab-df-convert:hover {\n",
              "      background-color: #E2EBFA;\n",
              "      box-shadow: 0px 1px 2px rgba(60, 64, 67, 0.3), 0px 1px 3px 1px rgba(60, 64, 67, 0.15);\n",
              "      fill: #174EA6;\n",
              "    }\n",
              "\n",
              "    [theme=dark] .colab-df-convert {\n",
              "      background-color: #3B4455;\n",
              "      fill: #D2E3FC;\n",
              "    }\n",
              "\n",
              "    [theme=dark] .colab-df-convert:hover {\n",
              "      background-color: #434B5C;\n",
              "      box-shadow: 0px 1px 3px 1px rgba(0, 0, 0, 0.15);\n",
              "      filter: drop-shadow(0px 1px 2px rgba(0, 0, 0, 0.3));\n",
              "      fill: #FFFFFF;\n",
              "    }\n",
              "  </style>\n",
              "\n",
              "      <script>\n",
              "        const buttonEl =\n",
              "          document.querySelector('#df-0c815844-b59d-44e4-84d1-d043c3790a52 button.colab-df-convert');\n",
              "        buttonEl.style.display =\n",
              "          google.colab.kernel.accessAllowed ? 'block' : 'none';\n",
              "\n",
              "        async function convertToInteractive(key) {\n",
              "          const element = document.querySelector('#df-0c815844-b59d-44e4-84d1-d043c3790a52');\n",
              "          const dataTable =\n",
              "            await google.colab.kernel.invokeFunction('convertToInteractive',\n",
              "                                                     [key], {});\n",
              "          if (!dataTable) return;\n",
              "\n",
              "          const docLinkHtml = 'Like what you see? Visit the ' +\n",
              "            '<a target=\"_blank\" href=https://colab.research.google.com/notebooks/data_table.ipynb>data table notebook</a>'\n",
              "            + ' to learn more about interactive tables.';\n",
              "          element.innerHTML = '';\n",
              "          dataTable['output_type'] = 'display_data';\n",
              "          await google.colab.output.renderOutput(dataTable, element);\n",
              "          const docLink = document.createElement('div');\n",
              "          docLink.innerHTML = docLinkHtml;\n",
              "          element.appendChild(docLink);\n",
              "        }\n",
              "      </script>\n",
              "    </div>\n",
              "  </div>\n",
              "  "
            ]
          },
          "metadata": {},
          "execution_count": 289
        }
      ]
    },
    {
      "cell_type": "code",
      "source": [
        "# save the final dataset with all the results for future visualizations and analysis\n",
        "#tweets.to_csv('tweetsGPT4sentiments_v3.csv', index=False)"
      ],
      "metadata": {
        "id": "BjIJcidXEjtt"
      },
      "execution_count": null,
      "outputs": []
    },
    {
      "cell_type": "markdown",
      "source": [
        "### Calculate Cohen’s Kappa"
      ],
      "metadata": {
        "id": "Ksy0OuuB4_IW"
      }
    },
    {
      "cell_type": "code",
      "source": [
        "# import the data with all the sentiment \n",
        "test = pd.read_csv('sentimentsTest_v3.csv')"
      ],
      "metadata": {
        "id": "tTfoXkcd-PA2"
      },
      "execution_count": 3,
      "outputs": []
    },
    {
      "cell_type": "code",
      "source": [
        "len(test)"
      ],
      "metadata": {
        "colab": {
          "base_uri": "https://localhost:8080/"
        },
        "id": "Rj07g6gtOkaO",
        "outputId": "f48624c1-412d-4ac8-f665-1ee036fbd9cc"
      },
      "execution_count": 4,
      "outputs": [
        {
          "output_type": "execute_result",
          "data": {
            "text/plain": [
              "30"
            ]
          },
          "metadata": {},
          "execution_count": 4
        }
      ]
    },
    {
      "cell_type": "code",
      "source": [
        "test"
      ],
      "metadata": {
        "id": "URcWE4-4PHT7"
      },
      "execution_count": null,
      "outputs": []
    },
    {
      "cell_type": "code",
      "source": [
        "# remove all the neutral labeled tweets since BERT does not have that option, it will not be an accurate comparison otherwise \n",
        "tweets1 = tweets[tweets['sentiment_vader'].str.contains(\"positive|negative\")==True]\n",
        "tweets_noneutral = tweets1[tweets1['sentiment_kmeans'].str.contains(\"positive|negative\")==True]\n",
        "len(tweets_noneutral)"
      ],
      "metadata": {
        "colab": {
          "base_uri": "https://localhost:8080/"
        },
        "id": "qX1eg2IT5HgL",
        "outputId": "85698087-9810-4e2f-f28f-1407435d2d01"
      },
      "execution_count": null,
      "outputs": [
        {
          "output_type": "execute_result",
          "data": {
            "text/plain": [
              "16176"
            ]
          },
          "metadata": {},
          "execution_count": 190
        }
      ]
    },
    {
      "cell_type": "code",
      "source": [
        "# take only the columns we need for evaluation: results columns\n",
        "test = tweets_noneutral[['date', 'text', 'sentiment_kmeans', 'sentiment_vader', 'sentiment_bert']].sample(n=30, random_state=420)"
      ],
      "metadata": {
        "id": "owfmQNDSPZmh"
      },
      "execution_count": null,
      "outputs": []
    },
    {
      "cell_type": "code",
      "source": [
        "# turn all the sentiment words to numbers\n",
        "def sentimentBack(score):\n",
        "    if score == 'positive':\n",
        "        return 1\n",
        "    elif score == 'negative': \n",
        "        return -1\n",
        "    else:\n",
        "        return 0"
      ],
      "metadata": {
        "id": "HsEcNPjW7Hf9"
      },
      "execution_count": null,
      "outputs": []
    },
    {
      "cell_type": "code",
      "source": [
        "# apply the function from the previous cell to display the sentiment numbers instead of words for better interpretability by Cohens Kappa score\n",
        "test['sentiment_kmeans']=test['sentiment_kmeans'].apply(sentimentBack)\n",
        "test['sentiment_vader']=test['sentiment_vader'].apply(sentimentBack)\n",
        "test['sentiment_bert']=test['sentiment_bert'].apply(sentimentBack)\n",
        "test"
      ],
      "metadata": {
        "id": "j3kvX3pK8KPg"
      },
      "execution_count": null,
      "outputs": []
    },
    {
      "cell_type": "code",
      "source": [
        "# manually insert the collected true labels from the team members\n",
        "test[\"Abirami\"] = [-1,-1,0,-1,0,1,-1,1,0,-1,-1,1,1,0,0,1,0,1,-1,1,0,-1,1,-1,0,1,-1,0,0,1]\n",
        "test[\"Lahari\"] = [1,-1,0,1,0,1,1,1,0,1,-1,1,1,0,0,1,0,1,1,1,0,-1,1,-1,0,1,1,0,0,1]\n",
        "test[\"Venkata\"] = [-1,-1,0,-1,0,1,-1,1,0,-1,-1,1,1,0,0,1,0,1,-1,1,0,-1,1,-1,0,1,-1,0,0,1]\n",
        "test[\"Danila\"] = [1,-1,1,1,1,1,1,1,0,0,-1,1,0,1,0,1,0,1,1,0,1,-1,1,0,0,-1,1,-1,1,0]\n",
        "test"
      ],
      "metadata": {
        "id": "_JBsnEhZ9c2v"
      },
      "execution_count": null,
      "outputs": []
    },
    {
      "cell_type": "code",
      "source": [
        "# this function takes the sentiment output in the form of (1, -1, 0) and calculates the average \\\n",
        "# we add up all the scores and see if the total stays positive, negative or neutral\n",
        "def sentimentAvg(val1, val2, val3, val4):\n",
        "    summ = val1 + val2 + val3 + val4\n",
        "    if summ >= 1:\n",
        "        return 1\n",
        "    elif summ < 0: \n",
        "        return -1\n",
        "    else:\n",
        "        return 0"
      ],
      "metadata": {
        "id": "ueYG7ONjPXMm"
      },
      "execution_count": 10,
      "outputs": []
    },
    {
      "cell_type": "code",
      "source": [
        "# map the sentiment average function onto team members' scores to get the team's average\n",
        "test['team_avg'] = test.apply(lambda x: sentimentAvg(val1 = x['Abirami'], val2 = x['Lahari'], val3 = x['Venkata'], val4 = x['Danila']), axis=1)\n",
        "test.head(5)"
      ],
      "metadata": {
        "colab": {
          "base_uri": "https://localhost:8080/",
          "height": 206
        },
        "id": "84f6jmSoPX8M",
        "outputId": "be2b695c-6410-4828-b7d9-c417a9456b86"
      },
      "execution_count": 11,
      "outputs": [
        {
          "output_type": "execute_result",
          "data": {
            "text/plain": [
              "                        date  \\\n",
              "0  2023-03-14 18:14:26+00:00   \n",
              "1  2023-03-21 23:23:08+00:00   \n",
              "2  2023-03-28 14:24:57+00:00   \n",
              "3  2023-03-28 16:36:21+00:00   \n",
              "4  2023-04-08 22:52:49+00:00   \n",
              "\n",
              "                                                text  sentiment_kmeans  \\\n",
              "0  Do you know that ChatGPT can speak multiple la...                -1   \n",
              "1  #GPT4 has only been out a week, and it's alrea...                 1   \n",
              "2  Even without visual input the Blender-GPT add-...                -1   \n",
              "3  #ChatGPT can triple productivity.🦾🧠 Are you re...                -1   \n",
              "4  3/ 🤖 Witness the alliance of @Microsoft &amp; ...                -1   \n",
              "\n",
              "   sentiment_vader  sentiment_bert  Abirami  Lahari  Venkata  Danila  team_avg  \n",
              "0                1              -1       -1       1       -1       1         0  \n",
              "1               -1              -1       -1      -1       -1      -1        -1  \n",
              "2                1               1        0       0        0       1         1  \n",
              "3                1               1       -1       1       -1       1         0  \n",
              "4                1               1        0       0        0       1         1  "
            ],
            "text/html": [
              "\n",
              "  <div id=\"df-abda1eb3-1acf-4e03-9e5a-cd53fde90a80\">\n",
              "    <div class=\"colab-df-container\">\n",
              "      <div>\n",
              "<style scoped>\n",
              "    .dataframe tbody tr th:only-of-type {\n",
              "        vertical-align: middle;\n",
              "    }\n",
              "\n",
              "    .dataframe tbody tr th {\n",
              "        vertical-align: top;\n",
              "    }\n",
              "\n",
              "    .dataframe thead th {\n",
              "        text-align: right;\n",
              "    }\n",
              "</style>\n",
              "<table border=\"1\" class=\"dataframe\">\n",
              "  <thead>\n",
              "    <tr style=\"text-align: right;\">\n",
              "      <th></th>\n",
              "      <th>date</th>\n",
              "      <th>text</th>\n",
              "      <th>sentiment_kmeans</th>\n",
              "      <th>sentiment_vader</th>\n",
              "      <th>sentiment_bert</th>\n",
              "      <th>Abirami</th>\n",
              "      <th>Lahari</th>\n",
              "      <th>Venkata</th>\n",
              "      <th>Danila</th>\n",
              "      <th>team_avg</th>\n",
              "    </tr>\n",
              "  </thead>\n",
              "  <tbody>\n",
              "    <tr>\n",
              "      <th>0</th>\n",
              "      <td>2023-03-14 18:14:26+00:00</td>\n",
              "      <td>Do you know that ChatGPT can speak multiple la...</td>\n",
              "      <td>-1</td>\n",
              "      <td>1</td>\n",
              "      <td>-1</td>\n",
              "      <td>-1</td>\n",
              "      <td>1</td>\n",
              "      <td>-1</td>\n",
              "      <td>1</td>\n",
              "      <td>0</td>\n",
              "    </tr>\n",
              "    <tr>\n",
              "      <th>1</th>\n",
              "      <td>2023-03-21 23:23:08+00:00</td>\n",
              "      <td>#GPT4 has only been out a week, and it's alrea...</td>\n",
              "      <td>1</td>\n",
              "      <td>-1</td>\n",
              "      <td>-1</td>\n",
              "      <td>-1</td>\n",
              "      <td>-1</td>\n",
              "      <td>-1</td>\n",
              "      <td>-1</td>\n",
              "      <td>-1</td>\n",
              "    </tr>\n",
              "    <tr>\n",
              "      <th>2</th>\n",
              "      <td>2023-03-28 14:24:57+00:00</td>\n",
              "      <td>Even without visual input the Blender-GPT add-...</td>\n",
              "      <td>-1</td>\n",
              "      <td>1</td>\n",
              "      <td>1</td>\n",
              "      <td>0</td>\n",
              "      <td>0</td>\n",
              "      <td>0</td>\n",
              "      <td>1</td>\n",
              "      <td>1</td>\n",
              "    </tr>\n",
              "    <tr>\n",
              "      <th>3</th>\n",
              "      <td>2023-03-28 16:36:21+00:00</td>\n",
              "      <td>#ChatGPT can triple productivity.🦾🧠 Are you re...</td>\n",
              "      <td>-1</td>\n",
              "      <td>1</td>\n",
              "      <td>1</td>\n",
              "      <td>-1</td>\n",
              "      <td>1</td>\n",
              "      <td>-1</td>\n",
              "      <td>1</td>\n",
              "      <td>0</td>\n",
              "    </tr>\n",
              "    <tr>\n",
              "      <th>4</th>\n",
              "      <td>2023-04-08 22:52:49+00:00</td>\n",
              "      <td>3/ 🤖 Witness the alliance of @Microsoft &amp;amp; ...</td>\n",
              "      <td>-1</td>\n",
              "      <td>1</td>\n",
              "      <td>1</td>\n",
              "      <td>0</td>\n",
              "      <td>0</td>\n",
              "      <td>0</td>\n",
              "      <td>1</td>\n",
              "      <td>1</td>\n",
              "    </tr>\n",
              "  </tbody>\n",
              "</table>\n",
              "</div>\n",
              "      <button class=\"colab-df-convert\" onclick=\"convertToInteractive('df-abda1eb3-1acf-4e03-9e5a-cd53fde90a80')\"\n",
              "              title=\"Convert this dataframe to an interactive table.\"\n",
              "              style=\"display:none;\">\n",
              "        \n",
              "  <svg xmlns=\"http://www.w3.org/2000/svg\" height=\"24px\"viewBox=\"0 0 24 24\"\n",
              "       width=\"24px\">\n",
              "    <path d=\"M0 0h24v24H0V0z\" fill=\"none\"/>\n",
              "    <path d=\"M18.56 5.44l.94 2.06.94-2.06 2.06-.94-2.06-.94-.94-2.06-.94 2.06-2.06.94zm-11 1L8.5 8.5l.94-2.06 2.06-.94-2.06-.94L8.5 2.5l-.94 2.06-2.06.94zm10 10l.94 2.06.94-2.06 2.06-.94-2.06-.94-.94-2.06-.94 2.06-2.06.94z\"/><path d=\"M17.41 7.96l-1.37-1.37c-.4-.4-.92-.59-1.43-.59-.52 0-1.04.2-1.43.59L10.3 9.45l-7.72 7.72c-.78.78-.78 2.05 0 2.83L4 21.41c.39.39.9.59 1.41.59.51 0 1.02-.2 1.41-.59l7.78-7.78 2.81-2.81c.8-.78.8-2.07 0-2.86zM5.41 20L4 18.59l7.72-7.72 1.47 1.35L5.41 20z\"/>\n",
              "  </svg>\n",
              "      </button>\n",
              "      \n",
              "  <style>\n",
              "    .colab-df-container {\n",
              "      display:flex;\n",
              "      flex-wrap:wrap;\n",
              "      gap: 12px;\n",
              "    }\n",
              "\n",
              "    .colab-df-convert {\n",
              "      background-color: #E8F0FE;\n",
              "      border: none;\n",
              "      border-radius: 50%;\n",
              "      cursor: pointer;\n",
              "      display: none;\n",
              "      fill: #1967D2;\n",
              "      height: 32px;\n",
              "      padding: 0 0 0 0;\n",
              "      width: 32px;\n",
              "    }\n",
              "\n",
              "    .colab-df-convert:hover {\n",
              "      background-color: #E2EBFA;\n",
              "      box-shadow: 0px 1px 2px rgba(60, 64, 67, 0.3), 0px 1px 3px 1px rgba(60, 64, 67, 0.15);\n",
              "      fill: #174EA6;\n",
              "    }\n",
              "\n",
              "    [theme=dark] .colab-df-convert {\n",
              "      background-color: #3B4455;\n",
              "      fill: #D2E3FC;\n",
              "    }\n",
              "\n",
              "    [theme=dark] .colab-df-convert:hover {\n",
              "      background-color: #434B5C;\n",
              "      box-shadow: 0px 1px 3px 1px rgba(0, 0, 0, 0.15);\n",
              "      filter: drop-shadow(0px 1px 2px rgba(0, 0, 0, 0.3));\n",
              "      fill: #FFFFFF;\n",
              "    }\n",
              "  </style>\n",
              "\n",
              "      <script>\n",
              "        const buttonEl =\n",
              "          document.querySelector('#df-abda1eb3-1acf-4e03-9e5a-cd53fde90a80 button.colab-df-convert');\n",
              "        buttonEl.style.display =\n",
              "          google.colab.kernel.accessAllowed ? 'block' : 'none';\n",
              "\n",
              "        async function convertToInteractive(key) {\n",
              "          const element = document.querySelector('#df-abda1eb3-1acf-4e03-9e5a-cd53fde90a80');\n",
              "          const dataTable =\n",
              "            await google.colab.kernel.invokeFunction('convertToInteractive',\n",
              "                                                     [key], {});\n",
              "          if (!dataTable) return;\n",
              "\n",
              "          const docLinkHtml = 'Like what you see? Visit the ' +\n",
              "            '<a target=\"_blank\" href=https://colab.research.google.com/notebooks/data_table.ipynb>data table notebook</a>'\n",
              "            + ' to learn more about interactive tables.';\n",
              "          element.innerHTML = '';\n",
              "          dataTable['output_type'] = 'display_data';\n",
              "          await google.colab.output.renderOutput(dataTable, element);\n",
              "          const docLink = document.createElement('div');\n",
              "          docLink.innerHTML = docLinkHtml;\n",
              "          element.appendChild(docLink);\n",
              "        }\n",
              "      </script>\n",
              "    </div>\n",
              "  </div>\n",
              "  "
            ]
          },
          "metadata": {},
          "execution_count": 11
        }
      ]
    },
    {
      "cell_type": "code",
      "source": [
        "#test.to_csv('sentimentsTest_v3.csv', index=False)"
      ],
      "metadata": {
        "id": "q669GdWA-R6C"
      },
      "execution_count": null,
      "outputs": []
    },
    {
      "cell_type": "code",
      "source": [
        "from sklearn.metrics import cohen_kappa_score\n",
        "\n",
        "#define array of ratings for both raters\n",
        "rater1 = test['sentiment_kmeans']\n",
        "rater2 = test['sentiment_bert']\n",
        "rater3 = test['sentiment_vader']\n",
        "rater4 = test['Abirami']\n",
        "rater5 = test['Lahari']\n",
        "rater6 = test['Venkata']\n",
        "rater7 = test['Danila']\n",
        "rater8 = test['team_avg']\n",
        "\n",
        "\n",
        "#calculate Cohen's Kappa\n",
        "\n",
        "# K-Means vs true labels\n",
        "score1 = cohen_kappa_score(rater1, rater2)\n",
        "score2 = cohen_kappa_score(rater1, rater3)\n",
        "score3 = cohen_kappa_score(rater1, rater4)\n",
        "score4 = cohen_kappa_score(rater1, rater5)\n",
        "score5 = cohen_kappa_score(rater1, rater6)\n",
        "score6 = cohen_kappa_score(rater1, rater7)\n",
        "score65 = cohen_kappa_score(rater1, rater8)\n",
        "\n",
        "# BERT vs true labels\n",
        "score7 = cohen_kappa_score(rater2, rater4)\n",
        "score8 = cohen_kappa_score(rater2, rater5)\n",
        "score9 = cohen_kappa_score(rater2, rater6)\n",
        "score10 = cohen_kappa_score(rater2, rater7)\n",
        "score11 = cohen_kappa_score(rater2, rater8)"
      ],
      "metadata": {
        "id": "saKEUfxtVph5"
      },
      "execution_count": 16,
      "outputs": []
    },
    {
      "cell_type": "code",
      "source": [
        "# cretae a results table using Cohens Kappa scores from the previous cell\n",
        "df_eval1 = pd.DataFrame(columns=['K-Means vs', 'Cohens Kappa Score'])\n",
        "df_eval1['K-Means vs'] = ['BERT', 'Vader', 'Abirami', 'Lahari', 'Venkata', 'Danila', 'Team Average']\n",
        "df_eval1['Cohens Kappa Score'] = [score1,score2,score3,score4,score5,score6, score65]\n",
        "df_eval1"
      ],
      "metadata": {
        "id": "lN-4fNB3Vppo",
        "colab": {
          "base_uri": "https://localhost:8080/",
          "height": 269
        },
        "outputId": "f15dd80a-40d2-4080-9ffb-039f62213fcc"
      },
      "execution_count": 17,
      "outputs": [
        {
          "output_type": "execute_result",
          "data": {
            "text/plain": [
              "     K-Means vs  Cohens Kappa Score\n",
              "0          BERT           -0.153846\n",
              "1         Vader            0.037736\n",
              "2       Abirami            0.050000\n",
              "3        Lahari           -0.045455\n",
              "4       Venkata            0.050000\n",
              "5        Danila            0.062500\n",
              "6  Team Average            0.000000"
            ],
            "text/html": [
              "\n",
              "  <div id=\"df-86af302b-8f36-45ec-a3ff-e72b22c06940\">\n",
              "    <div class=\"colab-df-container\">\n",
              "      <div>\n",
              "<style scoped>\n",
              "    .dataframe tbody tr th:only-of-type {\n",
              "        vertical-align: middle;\n",
              "    }\n",
              "\n",
              "    .dataframe tbody tr th {\n",
              "        vertical-align: top;\n",
              "    }\n",
              "\n",
              "    .dataframe thead th {\n",
              "        text-align: right;\n",
              "    }\n",
              "</style>\n",
              "<table border=\"1\" class=\"dataframe\">\n",
              "  <thead>\n",
              "    <tr style=\"text-align: right;\">\n",
              "      <th></th>\n",
              "      <th>K-Means vs</th>\n",
              "      <th>Cohens Kappa Score</th>\n",
              "    </tr>\n",
              "  </thead>\n",
              "  <tbody>\n",
              "    <tr>\n",
              "      <th>0</th>\n",
              "      <td>BERT</td>\n",
              "      <td>-0.153846</td>\n",
              "    </tr>\n",
              "    <tr>\n",
              "      <th>1</th>\n",
              "      <td>Vader</td>\n",
              "      <td>0.037736</td>\n",
              "    </tr>\n",
              "    <tr>\n",
              "      <th>2</th>\n",
              "      <td>Abirami</td>\n",
              "      <td>0.050000</td>\n",
              "    </tr>\n",
              "    <tr>\n",
              "      <th>3</th>\n",
              "      <td>Lahari</td>\n",
              "      <td>-0.045455</td>\n",
              "    </tr>\n",
              "    <tr>\n",
              "      <th>4</th>\n",
              "      <td>Venkata</td>\n",
              "      <td>0.050000</td>\n",
              "    </tr>\n",
              "    <tr>\n",
              "      <th>5</th>\n",
              "      <td>Danila</td>\n",
              "      <td>0.062500</td>\n",
              "    </tr>\n",
              "    <tr>\n",
              "      <th>6</th>\n",
              "      <td>Team Average</td>\n",
              "      <td>0.000000</td>\n",
              "    </tr>\n",
              "  </tbody>\n",
              "</table>\n",
              "</div>\n",
              "      <button class=\"colab-df-convert\" onclick=\"convertToInteractive('df-86af302b-8f36-45ec-a3ff-e72b22c06940')\"\n",
              "              title=\"Convert this dataframe to an interactive table.\"\n",
              "              style=\"display:none;\">\n",
              "        \n",
              "  <svg xmlns=\"http://www.w3.org/2000/svg\" height=\"24px\"viewBox=\"0 0 24 24\"\n",
              "       width=\"24px\">\n",
              "    <path d=\"M0 0h24v24H0V0z\" fill=\"none\"/>\n",
              "    <path d=\"M18.56 5.44l.94 2.06.94-2.06 2.06-.94-2.06-.94-.94-2.06-.94 2.06-2.06.94zm-11 1L8.5 8.5l.94-2.06 2.06-.94-2.06-.94L8.5 2.5l-.94 2.06-2.06.94zm10 10l.94 2.06.94-2.06 2.06-.94-2.06-.94-.94-2.06-.94 2.06-2.06.94z\"/><path d=\"M17.41 7.96l-1.37-1.37c-.4-.4-.92-.59-1.43-.59-.52 0-1.04.2-1.43.59L10.3 9.45l-7.72 7.72c-.78.78-.78 2.05 0 2.83L4 21.41c.39.39.9.59 1.41.59.51 0 1.02-.2 1.41-.59l7.78-7.78 2.81-2.81c.8-.78.8-2.07 0-2.86zM5.41 20L4 18.59l7.72-7.72 1.47 1.35L5.41 20z\"/>\n",
              "  </svg>\n",
              "      </button>\n",
              "      \n",
              "  <style>\n",
              "    .colab-df-container {\n",
              "      display:flex;\n",
              "      flex-wrap:wrap;\n",
              "      gap: 12px;\n",
              "    }\n",
              "\n",
              "    .colab-df-convert {\n",
              "      background-color: #E8F0FE;\n",
              "      border: none;\n",
              "      border-radius: 50%;\n",
              "      cursor: pointer;\n",
              "      display: none;\n",
              "      fill: #1967D2;\n",
              "      height: 32px;\n",
              "      padding: 0 0 0 0;\n",
              "      width: 32px;\n",
              "    }\n",
              "\n",
              "    .colab-df-convert:hover {\n",
              "      background-color: #E2EBFA;\n",
              "      box-shadow: 0px 1px 2px rgba(60, 64, 67, 0.3), 0px 1px 3px 1px rgba(60, 64, 67, 0.15);\n",
              "      fill: #174EA6;\n",
              "    }\n",
              "\n",
              "    [theme=dark] .colab-df-convert {\n",
              "      background-color: #3B4455;\n",
              "      fill: #D2E3FC;\n",
              "    }\n",
              "\n",
              "    [theme=dark] .colab-df-convert:hover {\n",
              "      background-color: #434B5C;\n",
              "      box-shadow: 0px 1px 3px 1px rgba(0, 0, 0, 0.15);\n",
              "      filter: drop-shadow(0px 1px 2px rgba(0, 0, 0, 0.3));\n",
              "      fill: #FFFFFF;\n",
              "    }\n",
              "  </style>\n",
              "\n",
              "      <script>\n",
              "        const buttonEl =\n",
              "          document.querySelector('#df-86af302b-8f36-45ec-a3ff-e72b22c06940 button.colab-df-convert');\n",
              "        buttonEl.style.display =\n",
              "          google.colab.kernel.accessAllowed ? 'block' : 'none';\n",
              "\n",
              "        async function convertToInteractive(key) {\n",
              "          const element = document.querySelector('#df-86af302b-8f36-45ec-a3ff-e72b22c06940');\n",
              "          const dataTable =\n",
              "            await google.colab.kernel.invokeFunction('convertToInteractive',\n",
              "                                                     [key], {});\n",
              "          if (!dataTable) return;\n",
              "\n",
              "          const docLinkHtml = 'Like what you see? Visit the ' +\n",
              "            '<a target=\"_blank\" href=https://colab.research.google.com/notebooks/data_table.ipynb>data table notebook</a>'\n",
              "            + ' to learn more about interactive tables.';\n",
              "          element.innerHTML = '';\n",
              "          dataTable['output_type'] = 'display_data';\n",
              "          await google.colab.output.renderOutput(dataTable, element);\n",
              "          const docLink = document.createElement('div');\n",
              "          docLink.innerHTML = docLinkHtml;\n",
              "          element.appendChild(docLink);\n",
              "        }\n",
              "      </script>\n",
              "    </div>\n",
              "  </div>\n",
              "  "
            ]
          },
          "metadata": {},
          "execution_count": 17
        }
      ]
    },
    {
      "cell_type": "code",
      "source": [
        "# save the results table for Kmeans\n",
        "#df_eval1.to_csv('eval_table1.csv', index=False)"
      ],
      "metadata": {
        "id": "Wwx3H2ipNqg9"
      },
      "execution_count": 20,
      "outputs": []
    },
    {
      "cell_type": "code",
      "source": [
        "df_eval2 = pd.DataFrame(columns=['BERT vs', 'Cohens Kappa Score'])\n",
        "df_eval2['BERT vs'] = ['Abirami', 'Lahari', 'Venkata', 'Danila', 'Team Average']\n",
        "df_eval2['Cohens Kappa Score'] = [score7,score8,score9,score10,score11]\n",
        "df_eval2"
      ],
      "metadata": {
        "colab": {
          "base_uri": "https://localhost:8080/",
          "height": 206
        },
        "id": "uWaQp-K2RiJR",
        "outputId": "f65602a4-1470-4e6c-b574-68a580ff9436"
      },
      "execution_count": 19,
      "outputs": [
        {
          "output_type": "execute_result",
          "data": {
            "text/plain": [
              "        BERT vs  Cohens Kappa Score\n",
              "0       Abirami            0.000000\n",
              "1        Lahari            0.017857\n",
              "2       Venkata            0.000000\n",
              "3        Danila            0.078341\n",
              "4  Team Average            0.061033"
            ],
            "text/html": [
              "\n",
              "  <div id=\"df-e346a44a-f0b7-4009-87a8-b1644668cfc5\">\n",
              "    <div class=\"colab-df-container\">\n",
              "      <div>\n",
              "<style scoped>\n",
              "    .dataframe tbody tr th:only-of-type {\n",
              "        vertical-align: middle;\n",
              "    }\n",
              "\n",
              "    .dataframe tbody tr th {\n",
              "        vertical-align: top;\n",
              "    }\n",
              "\n",
              "    .dataframe thead th {\n",
              "        text-align: right;\n",
              "    }\n",
              "</style>\n",
              "<table border=\"1\" class=\"dataframe\">\n",
              "  <thead>\n",
              "    <tr style=\"text-align: right;\">\n",
              "      <th></th>\n",
              "      <th>BERT vs</th>\n",
              "      <th>Cohens Kappa Score</th>\n",
              "    </tr>\n",
              "  </thead>\n",
              "  <tbody>\n",
              "    <tr>\n",
              "      <th>0</th>\n",
              "      <td>Abirami</td>\n",
              "      <td>0.000000</td>\n",
              "    </tr>\n",
              "    <tr>\n",
              "      <th>1</th>\n",
              "      <td>Lahari</td>\n",
              "      <td>0.017857</td>\n",
              "    </tr>\n",
              "    <tr>\n",
              "      <th>2</th>\n",
              "      <td>Venkata</td>\n",
              "      <td>0.000000</td>\n",
              "    </tr>\n",
              "    <tr>\n",
              "      <th>3</th>\n",
              "      <td>Danila</td>\n",
              "      <td>0.078341</td>\n",
              "    </tr>\n",
              "    <tr>\n",
              "      <th>4</th>\n",
              "      <td>Team Average</td>\n",
              "      <td>0.061033</td>\n",
              "    </tr>\n",
              "  </tbody>\n",
              "</table>\n",
              "</div>\n",
              "      <button class=\"colab-df-convert\" onclick=\"convertToInteractive('df-e346a44a-f0b7-4009-87a8-b1644668cfc5')\"\n",
              "              title=\"Convert this dataframe to an interactive table.\"\n",
              "              style=\"display:none;\">\n",
              "        \n",
              "  <svg xmlns=\"http://www.w3.org/2000/svg\" height=\"24px\"viewBox=\"0 0 24 24\"\n",
              "       width=\"24px\">\n",
              "    <path d=\"M0 0h24v24H0V0z\" fill=\"none\"/>\n",
              "    <path d=\"M18.56 5.44l.94 2.06.94-2.06 2.06-.94-2.06-.94-.94-2.06-.94 2.06-2.06.94zm-11 1L8.5 8.5l.94-2.06 2.06-.94-2.06-.94L8.5 2.5l-.94 2.06-2.06.94zm10 10l.94 2.06.94-2.06 2.06-.94-2.06-.94-.94-2.06-.94 2.06-2.06.94z\"/><path d=\"M17.41 7.96l-1.37-1.37c-.4-.4-.92-.59-1.43-.59-.52 0-1.04.2-1.43.59L10.3 9.45l-7.72 7.72c-.78.78-.78 2.05 0 2.83L4 21.41c.39.39.9.59 1.41.59.51 0 1.02-.2 1.41-.59l7.78-7.78 2.81-2.81c.8-.78.8-2.07 0-2.86zM5.41 20L4 18.59l7.72-7.72 1.47 1.35L5.41 20z\"/>\n",
              "  </svg>\n",
              "      </button>\n",
              "      \n",
              "  <style>\n",
              "    .colab-df-container {\n",
              "      display:flex;\n",
              "      flex-wrap:wrap;\n",
              "      gap: 12px;\n",
              "    }\n",
              "\n",
              "    .colab-df-convert {\n",
              "      background-color: #E8F0FE;\n",
              "      border: none;\n",
              "      border-radius: 50%;\n",
              "      cursor: pointer;\n",
              "      display: none;\n",
              "      fill: #1967D2;\n",
              "      height: 32px;\n",
              "      padding: 0 0 0 0;\n",
              "      width: 32px;\n",
              "    }\n",
              "\n",
              "    .colab-df-convert:hover {\n",
              "      background-color: #E2EBFA;\n",
              "      box-shadow: 0px 1px 2px rgba(60, 64, 67, 0.3), 0px 1px 3px 1px rgba(60, 64, 67, 0.15);\n",
              "      fill: #174EA6;\n",
              "    }\n",
              "\n",
              "    [theme=dark] .colab-df-convert {\n",
              "      background-color: #3B4455;\n",
              "      fill: #D2E3FC;\n",
              "    }\n",
              "\n",
              "    [theme=dark] .colab-df-convert:hover {\n",
              "      background-color: #434B5C;\n",
              "      box-shadow: 0px 1px 3px 1px rgba(0, 0, 0, 0.15);\n",
              "      filter: drop-shadow(0px 1px 2px rgba(0, 0, 0, 0.3));\n",
              "      fill: #FFFFFF;\n",
              "    }\n",
              "  </style>\n",
              "\n",
              "      <script>\n",
              "        const buttonEl =\n",
              "          document.querySelector('#df-e346a44a-f0b7-4009-87a8-b1644668cfc5 button.colab-df-convert');\n",
              "        buttonEl.style.display =\n",
              "          google.colab.kernel.accessAllowed ? 'block' : 'none';\n",
              "\n",
              "        async function convertToInteractive(key) {\n",
              "          const element = document.querySelector('#df-e346a44a-f0b7-4009-87a8-b1644668cfc5');\n",
              "          const dataTable =\n",
              "            await google.colab.kernel.invokeFunction('convertToInteractive',\n",
              "                                                     [key], {});\n",
              "          if (!dataTable) return;\n",
              "\n",
              "          const docLinkHtml = 'Like what you see? Visit the ' +\n",
              "            '<a target=\"_blank\" href=https://colab.research.google.com/notebooks/data_table.ipynb>data table notebook</a>'\n",
              "            + ' to learn more about interactive tables.';\n",
              "          element.innerHTML = '';\n",
              "          dataTable['output_type'] = 'display_data';\n",
              "          await google.colab.output.renderOutput(dataTable, element);\n",
              "          const docLink = document.createElement('div');\n",
              "          docLink.innerHTML = docLinkHtml;\n",
              "          element.appendChild(docLink);\n",
              "        }\n",
              "      </script>\n",
              "    </div>\n",
              "  </div>\n",
              "  "
            ]
          },
          "metadata": {},
          "execution_count": 19
        }
      ]
    },
    {
      "cell_type": "code",
      "source": [
        "# save the results for the BERT table\n",
        "#df_eval2.to_csv('eval_table2.csv', index=False)"
      ],
      "metadata": {
        "id": "CsqzmkyrTVbq"
      },
      "execution_count": null,
      "outputs": []
    }
  ]
}